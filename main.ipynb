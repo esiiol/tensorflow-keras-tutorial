{
  "nbformat": 4,
  "nbformat_minor": 0,
  "metadata": {
    "colab": {
      "name": "TF2.ipynb",
      "provenance": [],
      "collapsed_sections": [],
      "toc_visible": true
    },
    "kernelspec": {
      "name": "python3",
      "display_name": "Python 3"
    },
    "accelerator": "GPU",
    "widgets": {
      "application/vnd.jupyter.widget-state+json": {
        "ccc1e9600ab24e33a8c5c792c82f8186": {
          "model_module": "@jupyter-widgets/controls",
          "model_name": "HBoxModel",
          "state": {
            "_view_name": "HBoxView",
            "_dom_classes": [],
            "_model_name": "HBoxModel",
            "_view_module": "@jupyter-widgets/controls",
            "_model_module_version": "1.5.0",
            "_view_count": null,
            "_view_module_version": "1.5.0",
            "box_style": "",
            "layout": "IPY_MODEL_319e14f5dca042df97d6c57a1d238778",
            "_model_module": "@jupyter-widgets/controls",
            "children": [
              "IPY_MODEL_c87b9ef3f5f744418726638dcb4f148d",
              "IPY_MODEL_b1dc27cdae9a4b0da7349cd7162c0e62"
            ]
          }
        },
        "319e14f5dca042df97d6c57a1d238778": {
          "model_module": "@jupyter-widgets/base",
          "model_name": "LayoutModel",
          "state": {
            "_view_name": "LayoutView",
            "grid_template_rows": null,
            "right": null,
            "justify_content": null,
            "_view_module": "@jupyter-widgets/base",
            "overflow": null,
            "_model_module_version": "1.2.0",
            "_view_count": null,
            "flex_flow": null,
            "width": null,
            "min_width": null,
            "border": null,
            "align_items": null,
            "bottom": null,
            "_model_module": "@jupyter-widgets/base",
            "top": null,
            "grid_column": null,
            "overflow_y": null,
            "overflow_x": null,
            "grid_auto_flow": null,
            "grid_area": null,
            "grid_template_columns": null,
            "flex": null,
            "_model_name": "LayoutModel",
            "justify_items": null,
            "grid_row": null,
            "max_height": null,
            "align_content": null,
            "visibility": null,
            "align_self": null,
            "height": null,
            "min_height": null,
            "padding": null,
            "grid_auto_rows": null,
            "grid_gap": null,
            "max_width": null,
            "order": null,
            "_view_module_version": "1.2.0",
            "grid_template_areas": null,
            "object_position": null,
            "object_fit": null,
            "grid_auto_columns": null,
            "margin": null,
            "display": null,
            "left": null
          }
        },
        "c87b9ef3f5f744418726638dcb4f148d": {
          "model_module": "@jupyter-widgets/controls",
          "model_name": "FloatProgressModel",
          "state": {
            "_view_name": "ProgressView",
            "style": "IPY_MODEL_8bfe1b5d263c45629d42f5f2f116e424",
            "_dom_classes": [],
            "description": "Dl Completed...: 100%",
            "_model_name": "FloatProgressModel",
            "bar_style": "success",
            "max": 4,
            "_view_module": "@jupyter-widgets/controls",
            "_model_module_version": "1.5.0",
            "value": 4,
            "_view_count": null,
            "_view_module_version": "1.5.0",
            "orientation": "horizontal",
            "min": 0,
            "description_tooltip": null,
            "_model_module": "@jupyter-widgets/controls",
            "layout": "IPY_MODEL_c72abae9fbb64a5385e98291e9e788de"
          }
        },
        "b1dc27cdae9a4b0da7349cd7162c0e62": {
          "model_module": "@jupyter-widgets/controls",
          "model_name": "HTMLModel",
          "state": {
            "_view_name": "HTMLView",
            "style": "IPY_MODEL_80f4b1ef1b5b489cab01fa8ed78402b0",
            "_dom_classes": [],
            "description": "",
            "_model_name": "HTMLModel",
            "placeholder": "​",
            "_view_module": "@jupyter-widgets/controls",
            "_model_module_version": "1.5.0",
            "value": " 4/4 [00:02&lt;00:00,  1.47 file/s]",
            "_view_count": null,
            "_view_module_version": "1.5.0",
            "description_tooltip": null,
            "_model_module": "@jupyter-widgets/controls",
            "layout": "IPY_MODEL_d1019e2fd7ea47aa9885ef716078926b"
          }
        },
        "8bfe1b5d263c45629d42f5f2f116e424": {
          "model_module": "@jupyter-widgets/controls",
          "model_name": "ProgressStyleModel",
          "state": {
            "_view_name": "StyleView",
            "_model_name": "ProgressStyleModel",
            "description_width": "initial",
            "_view_module": "@jupyter-widgets/base",
            "_model_module_version": "1.5.0",
            "_view_count": null,
            "_view_module_version": "1.2.0",
            "bar_color": null,
            "_model_module": "@jupyter-widgets/controls"
          }
        },
        "c72abae9fbb64a5385e98291e9e788de": {
          "model_module": "@jupyter-widgets/base",
          "model_name": "LayoutModel",
          "state": {
            "_view_name": "LayoutView",
            "grid_template_rows": null,
            "right": null,
            "justify_content": null,
            "_view_module": "@jupyter-widgets/base",
            "overflow": null,
            "_model_module_version": "1.2.0",
            "_view_count": null,
            "flex_flow": null,
            "width": null,
            "min_width": null,
            "border": null,
            "align_items": null,
            "bottom": null,
            "_model_module": "@jupyter-widgets/base",
            "top": null,
            "grid_column": null,
            "overflow_y": null,
            "overflow_x": null,
            "grid_auto_flow": null,
            "grid_area": null,
            "grid_template_columns": null,
            "flex": null,
            "_model_name": "LayoutModel",
            "justify_items": null,
            "grid_row": null,
            "max_height": null,
            "align_content": null,
            "visibility": null,
            "align_self": null,
            "height": null,
            "min_height": null,
            "padding": null,
            "grid_auto_rows": null,
            "grid_gap": null,
            "max_width": null,
            "order": null,
            "_view_module_version": "1.2.0",
            "grid_template_areas": null,
            "object_position": null,
            "object_fit": null,
            "grid_auto_columns": null,
            "margin": null,
            "display": null,
            "left": null
          }
        },
        "80f4b1ef1b5b489cab01fa8ed78402b0": {
          "model_module": "@jupyter-widgets/controls",
          "model_name": "DescriptionStyleModel",
          "state": {
            "_view_name": "StyleView",
            "_model_name": "DescriptionStyleModel",
            "description_width": "",
            "_view_module": "@jupyter-widgets/base",
            "_model_module_version": "1.5.0",
            "_view_count": null,
            "_view_module_version": "1.2.0",
            "_model_module": "@jupyter-widgets/controls"
          }
        },
        "d1019e2fd7ea47aa9885ef716078926b": {
          "model_module": "@jupyter-widgets/base",
          "model_name": "LayoutModel",
          "state": {
            "_view_name": "LayoutView",
            "grid_template_rows": null,
            "right": null,
            "justify_content": null,
            "_view_module": "@jupyter-widgets/base",
            "overflow": null,
            "_model_module_version": "1.2.0",
            "_view_count": null,
            "flex_flow": null,
            "width": null,
            "min_width": null,
            "border": null,
            "align_items": null,
            "bottom": null,
            "_model_module": "@jupyter-widgets/base",
            "top": null,
            "grid_column": null,
            "overflow_y": null,
            "overflow_x": null,
            "grid_auto_flow": null,
            "grid_area": null,
            "grid_template_columns": null,
            "flex": null,
            "_model_name": "LayoutModel",
            "justify_items": null,
            "grid_row": null,
            "max_height": null,
            "align_content": null,
            "visibility": null,
            "align_self": null,
            "height": null,
            "min_height": null,
            "padding": null,
            "grid_auto_rows": null,
            "grid_gap": null,
            "max_width": null,
            "order": null,
            "_view_module_version": "1.2.0",
            "grid_template_areas": null,
            "object_position": null,
            "object_fit": null,
            "grid_auto_columns": null,
            "margin": null,
            "display": null,
            "left": null
          }
        },
        "a5c1030990ac4d2992899c302bdb0b0a": {
          "model_module": "@jupyter-widgets/controls",
          "model_name": "HBoxModel",
          "state": {
            "_view_name": "HBoxView",
            "_dom_classes": [],
            "_model_name": "HBoxModel",
            "_view_module": "@jupyter-widgets/controls",
            "_model_module_version": "1.5.0",
            "_view_count": null,
            "_view_module_version": "1.5.0",
            "box_style": "",
            "layout": "IPY_MODEL_6746d52fbf89440ea32279bfd7621500",
            "_model_module": "@jupyter-widgets/controls",
            "children": [
              "IPY_MODEL_adecd004b66c4ce782aec921869e6509",
              "IPY_MODEL_d94d2d0bcebe4aaa980fc0714f72f726"
            ]
          }
        },
        "6746d52fbf89440ea32279bfd7621500": {
          "model_module": "@jupyter-widgets/base",
          "model_name": "LayoutModel",
          "state": {
            "_view_name": "LayoutView",
            "grid_template_rows": null,
            "right": null,
            "justify_content": null,
            "_view_module": "@jupyter-widgets/base",
            "overflow": null,
            "_model_module_version": "1.2.0",
            "_view_count": null,
            "flex_flow": null,
            "width": null,
            "min_width": null,
            "border": null,
            "align_items": null,
            "bottom": null,
            "_model_module": "@jupyter-widgets/base",
            "top": null,
            "grid_column": null,
            "overflow_y": null,
            "overflow_x": null,
            "grid_auto_flow": null,
            "grid_area": null,
            "grid_template_columns": null,
            "flex": null,
            "_model_name": "LayoutModel",
            "justify_items": null,
            "grid_row": null,
            "max_height": null,
            "align_content": null,
            "visibility": null,
            "align_self": null,
            "height": null,
            "min_height": null,
            "padding": null,
            "grid_auto_rows": null,
            "grid_gap": null,
            "max_width": null,
            "order": null,
            "_view_module_version": "1.2.0",
            "grid_template_areas": null,
            "object_position": null,
            "object_fit": null,
            "grid_auto_columns": null,
            "margin": null,
            "display": null,
            "left": null
          }
        },
        "adecd004b66c4ce782aec921869e6509": {
          "model_module": "@jupyter-widgets/controls",
          "model_name": "FloatProgressModel",
          "state": {
            "_view_name": "ProgressView",
            "style": "IPY_MODEL_cd7e91a3ec974365960b2512d00ab337",
            "_dom_classes": [],
            "description": "Downloading: 100%",
            "_model_name": "FloatProgressModel",
            "bar_style": "success",
            "max": 231508,
            "_view_module": "@jupyter-widgets/controls",
            "_model_module_version": "1.5.0",
            "value": 231508,
            "_view_count": null,
            "_view_module_version": "1.5.0",
            "orientation": "horizontal",
            "min": 0,
            "description_tooltip": null,
            "_model_module": "@jupyter-widgets/controls",
            "layout": "IPY_MODEL_7e9e2e32a5d649869a551fca4415bee5"
          }
        },
        "d94d2d0bcebe4aaa980fc0714f72f726": {
          "model_module": "@jupyter-widgets/controls",
          "model_name": "HTMLModel",
          "state": {
            "_view_name": "HTMLView",
            "style": "IPY_MODEL_30d4c322121d4dad91f6225265295789",
            "_dom_classes": [],
            "description": "",
            "_model_name": "HTMLModel",
            "placeholder": "​",
            "_view_module": "@jupyter-widgets/controls",
            "_model_module_version": "1.5.0",
            "value": " 232k/232k [00:00&lt;00:00, 1.73MB/s]",
            "_view_count": null,
            "_view_module_version": "1.5.0",
            "description_tooltip": null,
            "_model_module": "@jupyter-widgets/controls",
            "layout": "IPY_MODEL_ed8d9e498e4a483aac3abe5cc673655e"
          }
        },
        "cd7e91a3ec974365960b2512d00ab337": {
          "model_module": "@jupyter-widgets/controls",
          "model_name": "ProgressStyleModel",
          "state": {
            "_view_name": "StyleView",
            "_model_name": "ProgressStyleModel",
            "description_width": "initial",
            "_view_module": "@jupyter-widgets/base",
            "_model_module_version": "1.5.0",
            "_view_count": null,
            "_view_module_version": "1.2.0",
            "bar_color": null,
            "_model_module": "@jupyter-widgets/controls"
          }
        },
        "7e9e2e32a5d649869a551fca4415bee5": {
          "model_module": "@jupyter-widgets/base",
          "model_name": "LayoutModel",
          "state": {
            "_view_name": "LayoutView",
            "grid_template_rows": null,
            "right": null,
            "justify_content": null,
            "_view_module": "@jupyter-widgets/base",
            "overflow": null,
            "_model_module_version": "1.2.0",
            "_view_count": null,
            "flex_flow": null,
            "width": null,
            "min_width": null,
            "border": null,
            "align_items": null,
            "bottom": null,
            "_model_module": "@jupyter-widgets/base",
            "top": null,
            "grid_column": null,
            "overflow_y": null,
            "overflow_x": null,
            "grid_auto_flow": null,
            "grid_area": null,
            "grid_template_columns": null,
            "flex": null,
            "_model_name": "LayoutModel",
            "justify_items": null,
            "grid_row": null,
            "max_height": null,
            "align_content": null,
            "visibility": null,
            "align_self": null,
            "height": null,
            "min_height": null,
            "padding": null,
            "grid_auto_rows": null,
            "grid_gap": null,
            "max_width": null,
            "order": null,
            "_view_module_version": "1.2.0",
            "grid_template_areas": null,
            "object_position": null,
            "object_fit": null,
            "grid_auto_columns": null,
            "margin": null,
            "display": null,
            "left": null
          }
        },
        "30d4c322121d4dad91f6225265295789": {
          "model_module": "@jupyter-widgets/controls",
          "model_name": "DescriptionStyleModel",
          "state": {
            "_view_name": "StyleView",
            "_model_name": "DescriptionStyleModel",
            "description_width": "",
            "_view_module": "@jupyter-widgets/base",
            "_model_module_version": "1.5.0",
            "_view_count": null,
            "_view_module_version": "1.2.0",
            "_model_module": "@jupyter-widgets/controls"
          }
        },
        "ed8d9e498e4a483aac3abe5cc673655e": {
          "model_module": "@jupyter-widgets/base",
          "model_name": "LayoutModel",
          "state": {
            "_view_name": "LayoutView",
            "grid_template_rows": null,
            "right": null,
            "justify_content": null,
            "_view_module": "@jupyter-widgets/base",
            "overflow": null,
            "_model_module_version": "1.2.0",
            "_view_count": null,
            "flex_flow": null,
            "width": null,
            "min_width": null,
            "border": null,
            "align_items": null,
            "bottom": null,
            "_model_module": "@jupyter-widgets/base",
            "top": null,
            "grid_column": null,
            "overflow_y": null,
            "overflow_x": null,
            "grid_auto_flow": null,
            "grid_area": null,
            "grid_template_columns": null,
            "flex": null,
            "_model_name": "LayoutModel",
            "justify_items": null,
            "grid_row": null,
            "max_height": null,
            "align_content": null,
            "visibility": null,
            "align_self": null,
            "height": null,
            "min_height": null,
            "padding": null,
            "grid_auto_rows": null,
            "grid_gap": null,
            "max_width": null,
            "order": null,
            "_view_module_version": "1.2.0",
            "grid_template_areas": null,
            "object_position": null,
            "object_fit": null,
            "grid_auto_columns": null,
            "margin": null,
            "display": null,
            "left": null
          }
        },
        "5f2bc54a7d4d4f3db891cb56bcf06951": {
          "model_module": "@jupyter-widgets/controls",
          "model_name": "HBoxModel",
          "state": {
            "_view_name": "HBoxView",
            "_dom_classes": [],
            "_model_name": "HBoxModel",
            "_view_module": "@jupyter-widgets/controls",
            "_model_module_version": "1.5.0",
            "_view_count": null,
            "_view_module_version": "1.5.0",
            "box_style": "",
            "layout": "IPY_MODEL_567788182d134989873f70825f5d6022",
            "_model_module": "@jupyter-widgets/controls",
            "children": [
              "IPY_MODEL_560d7f88e4b84dc496250306040e2745",
              "IPY_MODEL_8ff1cbb2572b4178ba543dc6f2a419e1"
            ]
          }
        },
        "567788182d134989873f70825f5d6022": {
          "model_module": "@jupyter-widgets/base",
          "model_name": "LayoutModel",
          "state": {
            "_view_name": "LayoutView",
            "grid_template_rows": null,
            "right": null,
            "justify_content": null,
            "_view_module": "@jupyter-widgets/base",
            "overflow": null,
            "_model_module_version": "1.2.0",
            "_view_count": null,
            "flex_flow": null,
            "width": null,
            "min_width": null,
            "border": null,
            "align_items": null,
            "bottom": null,
            "_model_module": "@jupyter-widgets/base",
            "top": null,
            "grid_column": null,
            "overflow_y": null,
            "overflow_x": null,
            "grid_auto_flow": null,
            "grid_area": null,
            "grid_template_columns": null,
            "flex": null,
            "_model_name": "LayoutModel",
            "justify_items": null,
            "grid_row": null,
            "max_height": null,
            "align_content": null,
            "visibility": null,
            "align_self": null,
            "height": null,
            "min_height": null,
            "padding": null,
            "grid_auto_rows": null,
            "grid_gap": null,
            "max_width": null,
            "order": null,
            "_view_module_version": "1.2.0",
            "grid_template_areas": null,
            "object_position": null,
            "object_fit": null,
            "grid_auto_columns": null,
            "margin": null,
            "display": null,
            "left": null
          }
        },
        "560d7f88e4b84dc496250306040e2745": {
          "model_module": "@jupyter-widgets/controls",
          "model_name": "FloatProgressModel",
          "state": {
            "_view_name": "ProgressView",
            "style": "IPY_MODEL_5b33fb895b70425c898d7b41dc9d91d2",
            "_dom_classes": [],
            "description": "Downloading: 100%",
            "_model_name": "FloatProgressModel",
            "bar_style": "success",
            "max": 433,
            "_view_module": "@jupyter-widgets/controls",
            "_model_module_version": "1.5.0",
            "value": 433,
            "_view_count": null,
            "_view_module_version": "1.5.0",
            "orientation": "horizontal",
            "min": 0,
            "description_tooltip": null,
            "_model_module": "@jupyter-widgets/controls",
            "layout": "IPY_MODEL_60610d4345a440f79bd8ce084fcc9d8b"
          }
        },
        "8ff1cbb2572b4178ba543dc6f2a419e1": {
          "model_module": "@jupyter-widgets/controls",
          "model_name": "HTMLModel",
          "state": {
            "_view_name": "HTMLView",
            "style": "IPY_MODEL_6b85e8f0de6747f3a98000b04fb14ca8",
            "_dom_classes": [],
            "description": "",
            "_model_name": "HTMLModel",
            "placeholder": "​",
            "_view_module": "@jupyter-widgets/controls",
            "_model_module_version": "1.5.0",
            "value": " 433/433 [01:50&lt;00:00, 3.93B/s]",
            "_view_count": null,
            "_view_module_version": "1.5.0",
            "description_tooltip": null,
            "_model_module": "@jupyter-widgets/controls",
            "layout": "IPY_MODEL_5be6a9d3312a45208629e613282a6cd1"
          }
        },
        "5b33fb895b70425c898d7b41dc9d91d2": {
          "model_module": "@jupyter-widgets/controls",
          "model_name": "ProgressStyleModel",
          "state": {
            "_view_name": "StyleView",
            "_model_name": "ProgressStyleModel",
            "description_width": "initial",
            "_view_module": "@jupyter-widgets/base",
            "_model_module_version": "1.5.0",
            "_view_count": null,
            "_view_module_version": "1.2.0",
            "bar_color": null,
            "_model_module": "@jupyter-widgets/controls"
          }
        },
        "60610d4345a440f79bd8ce084fcc9d8b": {
          "model_module": "@jupyter-widgets/base",
          "model_name": "LayoutModel",
          "state": {
            "_view_name": "LayoutView",
            "grid_template_rows": null,
            "right": null,
            "justify_content": null,
            "_view_module": "@jupyter-widgets/base",
            "overflow": null,
            "_model_module_version": "1.2.0",
            "_view_count": null,
            "flex_flow": null,
            "width": null,
            "min_width": null,
            "border": null,
            "align_items": null,
            "bottom": null,
            "_model_module": "@jupyter-widgets/base",
            "top": null,
            "grid_column": null,
            "overflow_y": null,
            "overflow_x": null,
            "grid_auto_flow": null,
            "grid_area": null,
            "grid_template_columns": null,
            "flex": null,
            "_model_name": "LayoutModel",
            "justify_items": null,
            "grid_row": null,
            "max_height": null,
            "align_content": null,
            "visibility": null,
            "align_self": null,
            "height": null,
            "min_height": null,
            "padding": null,
            "grid_auto_rows": null,
            "grid_gap": null,
            "max_width": null,
            "order": null,
            "_view_module_version": "1.2.0",
            "grid_template_areas": null,
            "object_position": null,
            "object_fit": null,
            "grid_auto_columns": null,
            "margin": null,
            "display": null,
            "left": null
          }
        },
        "6b85e8f0de6747f3a98000b04fb14ca8": {
          "model_module": "@jupyter-widgets/controls",
          "model_name": "DescriptionStyleModel",
          "state": {
            "_view_name": "StyleView",
            "_model_name": "DescriptionStyleModel",
            "description_width": "",
            "_view_module": "@jupyter-widgets/base",
            "_model_module_version": "1.5.0",
            "_view_count": null,
            "_view_module_version": "1.2.0",
            "_model_module": "@jupyter-widgets/controls"
          }
        },
        "5be6a9d3312a45208629e613282a6cd1": {
          "model_module": "@jupyter-widgets/base",
          "model_name": "LayoutModel",
          "state": {
            "_view_name": "LayoutView",
            "grid_template_rows": null,
            "right": null,
            "justify_content": null,
            "_view_module": "@jupyter-widgets/base",
            "overflow": null,
            "_model_module_version": "1.2.0",
            "_view_count": null,
            "flex_flow": null,
            "width": null,
            "min_width": null,
            "border": null,
            "align_items": null,
            "bottom": null,
            "_model_module": "@jupyter-widgets/base",
            "top": null,
            "grid_column": null,
            "overflow_y": null,
            "overflow_x": null,
            "grid_auto_flow": null,
            "grid_area": null,
            "grid_template_columns": null,
            "flex": null,
            "_model_name": "LayoutModel",
            "justify_items": null,
            "grid_row": null,
            "max_height": null,
            "align_content": null,
            "visibility": null,
            "align_self": null,
            "height": null,
            "min_height": null,
            "padding": null,
            "grid_auto_rows": null,
            "grid_gap": null,
            "max_width": null,
            "order": null,
            "_view_module_version": "1.2.0",
            "grid_template_areas": null,
            "object_position": null,
            "object_fit": null,
            "grid_auto_columns": null,
            "margin": null,
            "display": null,
            "left": null
          }
        },
        "a862c43533cd40c491f4df42a3e52d5f": {
          "model_module": "@jupyter-widgets/controls",
          "model_name": "HBoxModel",
          "state": {
            "_view_name": "HBoxView",
            "_dom_classes": [],
            "_model_name": "HBoxModel",
            "_view_module": "@jupyter-widgets/controls",
            "_model_module_version": "1.5.0",
            "_view_count": null,
            "_view_module_version": "1.5.0",
            "box_style": "",
            "layout": "IPY_MODEL_12c203edbc144d7aaf5302d3ba23e0c4",
            "_model_module": "@jupyter-widgets/controls",
            "children": [
              "IPY_MODEL_67ea8fa90014403181677b3bd11f2b37",
              "IPY_MODEL_9274bb4fc4e54833a65cf8c21bbc2b2b"
            ]
          }
        },
        "12c203edbc144d7aaf5302d3ba23e0c4": {
          "model_module": "@jupyter-widgets/base",
          "model_name": "LayoutModel",
          "state": {
            "_view_name": "LayoutView",
            "grid_template_rows": null,
            "right": null,
            "justify_content": null,
            "_view_module": "@jupyter-widgets/base",
            "overflow": null,
            "_model_module_version": "1.2.0",
            "_view_count": null,
            "flex_flow": null,
            "width": null,
            "min_width": null,
            "border": null,
            "align_items": null,
            "bottom": null,
            "_model_module": "@jupyter-widgets/base",
            "top": null,
            "grid_column": null,
            "overflow_y": null,
            "overflow_x": null,
            "grid_auto_flow": null,
            "grid_area": null,
            "grid_template_columns": null,
            "flex": null,
            "_model_name": "LayoutModel",
            "justify_items": null,
            "grid_row": null,
            "max_height": null,
            "align_content": null,
            "visibility": null,
            "align_self": null,
            "height": null,
            "min_height": null,
            "padding": null,
            "grid_auto_rows": null,
            "grid_gap": null,
            "max_width": null,
            "order": null,
            "_view_module_version": "1.2.0",
            "grid_template_areas": null,
            "object_position": null,
            "object_fit": null,
            "grid_auto_columns": null,
            "margin": null,
            "display": null,
            "left": null
          }
        },
        "67ea8fa90014403181677b3bd11f2b37": {
          "model_module": "@jupyter-widgets/controls",
          "model_name": "FloatProgressModel",
          "state": {
            "_view_name": "ProgressView",
            "style": "IPY_MODEL_85b282b8910e40f4a09d7c99520f539a",
            "_dom_classes": [],
            "description": "Downloading: 100%",
            "_model_name": "FloatProgressModel",
            "bar_style": "success",
            "max": 536063208,
            "_view_module": "@jupyter-widgets/controls",
            "_model_module_version": "1.5.0",
            "value": 536063208,
            "_view_count": null,
            "_view_module_version": "1.5.0",
            "orientation": "horizontal",
            "min": 0,
            "description_tooltip": null,
            "_model_module": "@jupyter-widgets/controls",
            "layout": "IPY_MODEL_1d9c3557bacc40278709ca9f797080cd"
          }
        },
        "9274bb4fc4e54833a65cf8c21bbc2b2b": {
          "model_module": "@jupyter-widgets/controls",
          "model_name": "HTMLModel",
          "state": {
            "_view_name": "HTMLView",
            "style": "IPY_MODEL_61dff58cd5dc4bc4af2991490dbeec9d",
            "_dom_classes": [],
            "description": "",
            "_model_name": "HTMLModel",
            "placeholder": "​",
            "_view_module": "@jupyter-widgets/controls",
            "_model_module_version": "1.5.0",
            "value": " 536M/536M [00:07&lt;00:00, 68.7MB/s]",
            "_view_count": null,
            "_view_module_version": "1.5.0",
            "description_tooltip": null,
            "_model_module": "@jupyter-widgets/controls",
            "layout": "IPY_MODEL_3a93b3b8cb9d4fd6845235a28e723994"
          }
        },
        "85b282b8910e40f4a09d7c99520f539a": {
          "model_module": "@jupyter-widgets/controls",
          "model_name": "ProgressStyleModel",
          "state": {
            "_view_name": "StyleView",
            "_model_name": "ProgressStyleModel",
            "description_width": "initial",
            "_view_module": "@jupyter-widgets/base",
            "_model_module_version": "1.5.0",
            "_view_count": null,
            "_view_module_version": "1.2.0",
            "bar_color": null,
            "_model_module": "@jupyter-widgets/controls"
          }
        },
        "1d9c3557bacc40278709ca9f797080cd": {
          "model_module": "@jupyter-widgets/base",
          "model_name": "LayoutModel",
          "state": {
            "_view_name": "LayoutView",
            "grid_template_rows": null,
            "right": null,
            "justify_content": null,
            "_view_module": "@jupyter-widgets/base",
            "overflow": null,
            "_model_module_version": "1.2.0",
            "_view_count": null,
            "flex_flow": null,
            "width": null,
            "min_width": null,
            "border": null,
            "align_items": null,
            "bottom": null,
            "_model_module": "@jupyter-widgets/base",
            "top": null,
            "grid_column": null,
            "overflow_y": null,
            "overflow_x": null,
            "grid_auto_flow": null,
            "grid_area": null,
            "grid_template_columns": null,
            "flex": null,
            "_model_name": "LayoutModel",
            "justify_items": null,
            "grid_row": null,
            "max_height": null,
            "align_content": null,
            "visibility": null,
            "align_self": null,
            "height": null,
            "min_height": null,
            "padding": null,
            "grid_auto_rows": null,
            "grid_gap": null,
            "max_width": null,
            "order": null,
            "_view_module_version": "1.2.0",
            "grid_template_areas": null,
            "object_position": null,
            "object_fit": null,
            "grid_auto_columns": null,
            "margin": null,
            "display": null,
            "left": null
          }
        },
        "61dff58cd5dc4bc4af2991490dbeec9d": {
          "model_module": "@jupyter-widgets/controls",
          "model_name": "DescriptionStyleModel",
          "state": {
            "_view_name": "StyleView",
            "_model_name": "DescriptionStyleModel",
            "description_width": "",
            "_view_module": "@jupyter-widgets/base",
            "_model_module_version": "1.5.0",
            "_view_count": null,
            "_view_module_version": "1.2.0",
            "_model_module": "@jupyter-widgets/controls"
          }
        },
        "3a93b3b8cb9d4fd6845235a28e723994": {
          "model_module": "@jupyter-widgets/base",
          "model_name": "LayoutModel",
          "state": {
            "_view_name": "LayoutView",
            "grid_template_rows": null,
            "right": null,
            "justify_content": null,
            "_view_module": "@jupyter-widgets/base",
            "overflow": null,
            "_model_module_version": "1.2.0",
            "_view_count": null,
            "flex_flow": null,
            "width": null,
            "min_width": null,
            "border": null,
            "align_items": null,
            "bottom": null,
            "_model_module": "@jupyter-widgets/base",
            "top": null,
            "grid_column": null,
            "overflow_y": null,
            "overflow_x": null,
            "grid_auto_flow": null,
            "grid_area": null,
            "grid_template_columns": null,
            "flex": null,
            "_model_name": "LayoutModel",
            "justify_items": null,
            "grid_row": null,
            "max_height": null,
            "align_content": null,
            "visibility": null,
            "align_self": null,
            "height": null,
            "min_height": null,
            "padding": null,
            "grid_auto_rows": null,
            "grid_gap": null,
            "max_width": null,
            "order": null,
            "_view_module_version": "1.2.0",
            "grid_template_areas": null,
            "object_position": null,
            "object_fit": null,
            "grid_auto_columns": null,
            "margin": null,
            "display": null,
            "left": null
          }
        }
      }
    }
  },
  "cells": [
    {
      "cell_type": "code",
      "metadata": {
        "id": "pDUWC3569PFN"
      },
      "source": [
        "#base imports\n",
        "import numpy as np\n",
        "import pandas as pd\n",
        "import matplotlib.pyplot as plt\n",
        "\n",
        "import tensorflow as tf"
      ],
      "execution_count": 1,
      "outputs": []
    },
    {
      "cell_type": "markdown",
      "metadata": {
        "id": "2GDrD-xe8M71"
      },
      "source": [
        "# Simple regression example: <br>\n",
        "Data: <br>\n",
        "\\begin{equation}\n",
        "y = x^2 + 0.2 + z \n",
        "\\end{equation}\n",
        "where $z \\sim \\mathcal{N}(0, 0.01)$ is an additive noise."
      ]
    },
    {
      "cell_type": "code",
      "metadata": {
        "id": "RcSRuH4EF1A9"
      },
      "source": [
        "#generate the data\n",
        "np.random.seed(123)\n",
        "n = 2000\n",
        "x = np.random.randn(n)\n",
        "z = 0.1 * np.random.randn(n)\n",
        "y = x**2 + 0.2 + z"
      ],
      "execution_count": 2,
      "outputs": []
    },
    {
      "cell_type": "code",
      "metadata": {
        "id": "Le1ALozp-AUI",
        "colab": {
          "base_uri": "https://localhost:8080/",
          "height": 334
        },
        "outputId": "f76c79fa-fa6c-4fff-e2d9-c4ed0ee1bf6e"
      },
      "source": [
        "fig, ax = plt.subplots(figsize=(10, 5));\n",
        "ax.scatter(x, y);\n",
        "ax.set_xlabel('feature')\n",
        "ax.set_ylabel('target');"
      ],
      "execution_count": 3,
      "outputs": [
        {
          "output_type": "display_data",
          "data": {
            "image/png": "[encoded data removed]",
            "text/plain": [
              "<Figure size 720x360 with 1 Axes>"
            ]
          },
          "metadata": {
            "tags": [],
            "needs_background": "light"
          }
        }
      ]
    },
    {
      "cell_type": "markdown",
      "metadata": {
        "id": "lpJ7K_3GAIxp"
      },
      "source": [
        "## preprocessing\n",
        "<b>input format:</b> (batch_size, $d_0, d_1, \\ldots, d_m$)"
      ]
    },
    {
      "cell_type": "code",
      "metadata": {
        "id": "l1bteoozvEYx",
        "colab": {
          "base_uri": "https://localhost:8080/"
        },
        "outputId": "b1be9dce-a4ab-49b5-f666-67a8096fba26"
      },
      "source": [
        "x.shape"
      ],
      "execution_count": null,
      "outputs": [
        {
          "output_type": "execute_result",
          "data": {
            "text/plain": [
              "(2000,)"
            ]
          },
          "metadata": {
            "tags": []
          },
          "execution_count": 43
        }
      ]
    },
    {
      "cell_type": "code",
      "metadata": {
        "id": "OnajsP2z-u3m"
      },
      "source": [
        "split = 1600\n",
        "x_train = x[:split][..., np.newaxis]\n",
        "y_train = y[:split]\n",
        "x_val = x[split:][..., np.newaxis]\n",
        "y_val = y[split:]"
      ],
      "execution_count": 5,
      "outputs": []
    },
    {
      "cell_type": "code",
      "metadata": {
        "id": "bpXG3OTAAWYX",
        "colab": {
          "base_uri": "https://localhost:8080/"
        },
        "outputId": "381137c1-ed3b-4202-aec2-9ed5e3742d79"
      },
      "source": [
        "x_train.shape"
      ],
      "execution_count": 6,
      "outputs": [
        {
          "output_type": "execute_result",
          "data": {
            "text/plain": [
              "(1600, 1)"
            ]
          },
          "metadata": {
            "tags": []
          },
          "execution_count": 6
        }
      ]
    },
    {
      "cell_type": "markdown",
      "metadata": {
        "id": "B-35L9dwjbRF"
      },
      "source": [
        "#Keras APIs\n",
        "There are two APIs for creating models:\n",
        "\n",
        "\n",
        "*   Sequential\n",
        "*   Functional\n",
        "\n"
      ]
    },
    {
      "cell_type": "markdown",
      "metadata": {
        "id": "DnElAb48ChnS"
      },
      "source": [
        "## Sequential API"
      ]
    },
    {
      "cell_type": "code",
      "metadata": {
        "id": "roTEKNgZ_C1u"
      },
      "source": [
        "from tensorflow.keras.models import Sequential\n",
        "from tensorflow.keras.layers import Dense"
      ],
      "execution_count": 4,
      "outputs": []
    },
    {
      "cell_type": "code",
      "metadata": {
        "id": "qO3yRcLI_fu2"
      },
      "source": [
        "#Defining the model using sequential API\n",
        "model = Sequential([\n",
        "                    Dense(units=32, activation='relu', input_shape=(1,), name='dense1'),\n",
        "                    Dense(units=16, activation='relu', name='dense2'),\n",
        "                    Dense(units=1, name='dense3')\n",
        "])"
      ],
      "execution_count": 7,
      "outputs": []
    },
    {
      "cell_type": "markdown",
      "metadata": {
        "id": "OzXH0M6ed9Z8"
      },
      "source": [
        "Dense (fully connected) layer: <br>\n",
        "for one sample:\n",
        "\\begin{equation}\n",
        "\\mathbf{y}_{1 \\times u} = g(\\mathbf{x}_{1 \\times N} \\mathbf{W}_{N \\times u} +  \\mathbf{b}_{1 \\times u}) \n",
        "\\end{equation}\n",
        "where $g$ is a nonlinearity function. <br>\n",
        "<br>\n",
        "<br>\n",
        "for a batch of size $M$:\n",
        "\\begin{equation}\n",
        "\\mathbf{y}_{M \\times u} = g(\\mathbf{X}_{M \\times N} \\mathbf{W}_{N \\times u} +  \\mathbf{b}_{M \\times u})\n",
        "\\end{equation}\n",
        "where \n",
        "\\begin{equation}\n",
        "\\mathbf{X}_{M \\times N} = \\begin{bmatrix}\n",
        "\\mathbf{x}^{(1)}\\\\\n",
        "\\mathbf{x}^{(2)}\\\\\n",
        "\\vdots\\\\\n",
        "\\mathbf{x}^{(M)}\n",
        "\\end{bmatrix}\n",
        "\\end{equation}"
      ]
    },
    {
      "cell_type": "code",
      "metadata": {
        "id": "VvoSMJ2N_zwI",
        "colab": {
          "base_uri": "https://localhost:8080/"
        },
        "outputId": "c8c440dd-b82e-4fe5-b836-9fedc1b80f5d"
      },
      "source": [
        "#summary of the model\n",
        "model.summary()"
      ],
      "execution_count": 8,
      "outputs": [
        {
          "output_type": "stream",
          "text": [
            "Model: \"sequential\"\n",
            "_________________________________________________________________\n",
            "Layer (type)                 Output Shape              Param #   \n",
            "=================================================================\n",
            "dense1 (Dense)               (None, 32)                64        \n",
            "_________________________________________________________________\n",
            "dense2 (Dense)               (None, 16)                528       \n",
            "_________________________________________________________________\n",
            "dense3 (Dense)               (None, 1)                 17        \n",
            "=================================================================\n",
            "Total params: 609\n",
            "Trainable params: 609\n",
            "Non-trainable params: 0\n",
            "_________________________________________________________________\n"
          ],
          "name": "stdout"
        }
      ]
    },
    {
      "cell_type": "code",
      "metadata": {
        "id": "76hH1E7Uvn9-",
        "colab": {
          "base_uri": "https://localhost:8080/",
          "height": 422
        },
        "outputId": "e198dbba-378e-412c-aeb6-f4c36eac37da"
      },
      "source": [
        "#Visualizing the model\n",
        "tf.keras.utils.plot_model(model, to_file='model.png', show_shapes=True)"
      ],
      "execution_count": null,
      "outputs": [
        {
          "output_type": "execute_result",
          "data": {
            "image/png": "[encoded data removed]",
            "text/plain": [
              "<IPython.core.display.Image object>"
            ]
          },
          "metadata": {
            "tags": []
          },
          "execution_count": 52
        }
      ]
    },
    {
      "cell_type": "code",
      "metadata": {
        "id": "nPO_veDX_3XA"
      },
      "source": [
        "#Compiling the model\n",
        "model.compile(optimizer='adam', loss='mse', metrics=['mse','mae'])"
      ],
      "execution_count": 9,
      "outputs": []
    },
    {
      "cell_type": "code",
      "metadata": {
        "id": "QmxGdCPvAcQq",
        "colab": {
          "base_uri": "https://localhost:8080/"
        },
        "outputId": "8a3a0c8b-6008-4f16-fd1f-cb447753126b"
      },
      "source": [
        "#Training the model\n",
        "history = model.fit(x=x_train, y=y_train, batch_size=32, epochs=50, validation_data=(x_val, y_val))"
      ],
      "execution_count": 10,
      "outputs": [
        {
          "output_type": "stream",
          "text": [
            "Epoch 1/50\n",
            "50/50 [==============================] - 0s 7ms/step - loss: 3.2583 - mse: 3.2583 - mae: 1.1405 - val_loss: 3.2315 - val_mse: 3.2315 - val_mae: 0.9910\n",
            "Epoch 2/50\n",
            "50/50 [==============================] - 0s 2ms/step - loss: 1.9326 - mse: 1.9326 - mae: 0.7653 - val_loss: 1.9990 - val_mse: 1.9990 - val_mae: 0.6759\n",
            "Epoch 3/50\n",
            "50/50 [==============================] - 0s 3ms/step - loss: 1.0643 - mse: 1.0643 - mae: 0.5827 - val_loss: 1.2415 - val_mse: 1.2415 - val_mae: 0.5853\n",
            "Epoch 4/50\n",
            "50/50 [==============================] - 0s 2ms/step - loss: 0.6735 - mse: 0.6735 - mae: 0.5362 - val_loss: 0.9252 - val_mse: 0.9252 - val_mae: 0.5200\n",
            "Epoch 5/50\n",
            "50/50 [==============================] - 0s 2ms/step - loss: 0.4810 - mse: 0.4810 - mae: 0.4542 - val_loss: 0.7120 - val_mse: 0.7120 - val_mae: 0.4236\n",
            "Epoch 6/50\n",
            "50/50 [==============================] - 0s 3ms/step - loss: 0.3493 - mse: 0.3493 - mae: 0.3574 - val_loss: 0.5744 - val_mse: 0.5744 - val_mae: 0.3486\n",
            "Epoch 7/50\n",
            "50/50 [==============================] - 0s 2ms/step - loss: 0.2648 - mse: 0.2648 - mae: 0.3030 - val_loss: 0.4670 - val_mse: 0.4670 - val_mae: 0.3174\n",
            "Epoch 8/50\n",
            "50/50 [==============================] - 0s 2ms/step - loss: 0.2137 - mse: 0.2137 - mae: 0.2769 - val_loss: 0.4011 - val_mse: 0.4011 - val_mae: 0.3040\n",
            "Epoch 9/50\n",
            "50/50 [==============================] - 0s 2ms/step - loss: 0.1817 - mse: 0.1817 - mae: 0.2610 - val_loss: 0.3643 - val_mse: 0.3643 - val_mae: 0.2794\n",
            "Epoch 10/50\n",
            "50/50 [==============================] - 0s 3ms/step - loss: 0.1607 - mse: 0.1607 - mae: 0.2528 - val_loss: 0.3276 - val_mse: 0.3276 - val_mae: 0.2723\n",
            "Epoch 11/50\n",
            "50/50 [==============================] - 0s 3ms/step - loss: 0.1450 - mse: 0.1450 - mae: 0.2458 - val_loss: 0.3027 - val_mse: 0.3027 - val_mae: 0.2503\n",
            "Epoch 12/50\n",
            "50/50 [==============================] - 0s 2ms/step - loss: 0.1300 - mse: 0.1300 - mae: 0.2310 - val_loss: 0.2744 - val_mse: 0.2744 - val_mae: 0.2387\n",
            "Epoch 13/50\n",
            "50/50 [==============================] - 0s 3ms/step - loss: 0.1156 - mse: 0.1156 - mae: 0.2112 - val_loss: 0.2518 - val_mse: 0.2518 - val_mae: 0.2437\n",
            "Epoch 14/50\n",
            "50/50 [==============================] - 0s 3ms/step - loss: 0.1043 - mse: 0.1043 - mae: 0.2036 - val_loss: 0.2264 - val_mse: 0.2264 - val_mae: 0.2080\n",
            "Epoch 15/50\n",
            "50/50 [==============================] - 0s 2ms/step - loss: 0.0939 - mse: 0.0939 - mae: 0.1883 - val_loss: 0.2159 - val_mse: 0.2159 - val_mae: 0.1846\n",
            "Epoch 16/50\n",
            "50/50 [==============================] - 0s 2ms/step - loss: 0.0801 - mse: 0.0801 - mae: 0.1688 - val_loss: 0.1934 - val_mse: 0.1934 - val_mae: 0.1811\n",
            "Epoch 17/50\n",
            "50/50 [==============================] - 0s 2ms/step - loss: 0.0714 - mse: 0.0714 - mae: 0.1570 - val_loss: 0.1758 - val_mse: 0.1758 - val_mae: 0.1632\n",
            "Epoch 18/50\n",
            "50/50 [==============================] - 0s 2ms/step - loss: 0.0629 - mse: 0.0629 - mae: 0.1422 - val_loss: 0.1710 - val_mse: 0.1710 - val_mae: 0.1495\n",
            "Epoch 19/50\n",
            "50/50 [==============================] - 0s 3ms/step - loss: 0.0574 - mse: 0.0574 - mae: 0.1346 - val_loss: 0.1553 - val_mse: 0.1553 - val_mae: 0.1420\n",
            "Epoch 20/50\n",
            "50/50 [==============================] - 0s 2ms/step - loss: 0.0504 - mse: 0.0504 - mae: 0.1236 - val_loss: 0.1369 - val_mse: 0.1369 - val_mae: 0.1364\n",
            "Epoch 21/50\n",
            "50/50 [==============================] - 0s 2ms/step - loss: 0.0456 - mse: 0.0456 - mae: 0.1202 - val_loss: 0.1293 - val_mse: 0.1293 - val_mae: 0.1330\n",
            "Epoch 22/50\n",
            "50/50 [==============================] - 0s 3ms/step - loss: 0.0418 - mse: 0.0418 - mae: 0.1139 - val_loss: 0.1162 - val_mse: 0.1162 - val_mae: 0.1303\n",
            "Epoch 23/50\n",
            "50/50 [==============================] - 0s 3ms/step - loss: 0.0379 - mse: 0.0379 - mae: 0.1085 - val_loss: 0.1122 - val_mse: 0.1122 - val_mae: 0.1240\n",
            "Epoch 24/50\n",
            "50/50 [==============================] - 0s 3ms/step - loss: 0.0346 - mse: 0.0346 - mae: 0.1050 - val_loss: 0.1066 - val_mse: 0.1066 - val_mae: 0.1203\n",
            "Epoch 25/50\n",
            "50/50 [==============================] - 0s 3ms/step - loss: 0.0324 - mse: 0.0324 - mae: 0.1048 - val_loss: 0.0970 - val_mse: 0.0970 - val_mae: 0.1198\n",
            "Epoch 26/50\n",
            "50/50 [==============================] - 0s 3ms/step - loss: 0.0299 - mse: 0.0299 - mae: 0.1011 - val_loss: 0.0910 - val_mse: 0.0910 - val_mae: 0.1157\n",
            "Epoch 27/50\n",
            "50/50 [==============================] - 0s 3ms/step - loss: 0.0272 - mse: 0.0272 - mae: 0.0973 - val_loss: 0.0882 - val_mse: 0.0882 - val_mae: 0.1128\n",
            "Epoch 28/50\n",
            "50/50 [==============================] - 0s 2ms/step - loss: 0.0260 - mse: 0.0260 - mae: 0.0955 - val_loss: 0.0806 - val_mse: 0.0806 - val_mae: 0.1116\n",
            "Epoch 29/50\n",
            "50/50 [==============================] - 0s 3ms/step - loss: 0.0257 - mse: 0.0257 - mae: 0.0971 - val_loss: 0.0850 - val_mse: 0.0850 - val_mae: 0.1122\n",
            "Epoch 30/50\n",
            "50/50 [==============================] - 0s 3ms/step - loss: 0.0234 - mse: 0.0234 - mae: 0.0937 - val_loss: 0.0727 - val_mse: 0.0727 - val_mae: 0.1087\n",
            "Epoch 31/50\n",
            "50/50 [==============================] - 0s 2ms/step - loss: 0.0217 - mse: 0.0217 - mae: 0.0912 - val_loss: 0.0685 - val_mse: 0.0685 - val_mae: 0.1072\n",
            "Epoch 32/50\n",
            "50/50 [==============================] - 0s 3ms/step - loss: 0.0208 - mse: 0.0208 - mae: 0.0900 - val_loss: 0.0681 - val_mse: 0.0681 - val_mae: 0.1056\n",
            "Epoch 33/50\n",
            "50/50 [==============================] - 0s 3ms/step - loss: 0.0199 - mse: 0.0199 - mae: 0.0918 - val_loss: 0.0644 - val_mse: 0.0644 - val_mae: 0.1036\n",
            "Epoch 34/50\n",
            "50/50 [==============================] - 0s 3ms/step - loss: 0.0194 - mse: 0.0194 - mae: 0.0910 - val_loss: 0.0612 - val_mse: 0.0612 - val_mae: 0.1025\n",
            "Epoch 35/50\n",
            "50/50 [==============================] - 0s 2ms/step - loss: 0.0183 - mse: 0.0183 - mae: 0.0885 - val_loss: 0.0595 - val_mse: 0.0595 - val_mae: 0.1021\n",
            "Epoch 36/50\n",
            "50/50 [==============================] - 0s 3ms/step - loss: 0.0177 - mse: 0.0177 - mae: 0.0892 - val_loss: 0.0574 - val_mse: 0.0574 - val_mae: 0.1049\n",
            "Epoch 37/50\n",
            "50/50 [==============================] - 0s 3ms/step - loss: 0.0180 - mse: 0.0180 - mae: 0.0877 - val_loss: 0.0523 - val_mse: 0.0523 - val_mae: 0.1012\n",
            "Epoch 38/50\n",
            "50/50 [==============================] - 0s 3ms/step - loss: 0.0163 - mse: 0.0163 - mae: 0.0873 - val_loss: 0.0534 - val_mse: 0.0534 - val_mae: 0.1017\n",
            "Epoch 39/50\n",
            "50/50 [==============================] - 0s 3ms/step - loss: 0.0164 - mse: 0.0164 - mae: 0.0866 - val_loss: 0.0524 - val_mse: 0.0524 - val_mae: 0.0989\n",
            "Epoch 40/50\n",
            "50/50 [==============================] - 0s 3ms/step - loss: 0.0158 - mse: 0.0158 - mae: 0.0856 - val_loss: 0.0498 - val_mse: 0.0498 - val_mae: 0.0981\n",
            "Epoch 41/50\n",
            "50/50 [==============================] - 0s 3ms/step - loss: 0.0152 - mse: 0.0152 - mae: 0.0850 - val_loss: 0.0480 - val_mse: 0.0480 - val_mae: 0.0972\n",
            "Epoch 42/50\n",
            "50/50 [==============================] - 0s 3ms/step - loss: 0.0148 - mse: 0.0148 - mae: 0.0835 - val_loss: 0.0448 - val_mse: 0.0448 - val_mae: 0.0952\n",
            "Epoch 43/50\n",
            "50/50 [==============================] - 0s 3ms/step - loss: 0.0151 - mse: 0.0151 - mae: 0.0858 - val_loss: 0.0465 - val_mse: 0.0465 - val_mae: 0.0969\n",
            "Epoch 44/50\n",
            "50/50 [==============================] - 0s 3ms/step - loss: 0.0153 - mse: 0.0153 - mae: 0.0870 - val_loss: 0.0446 - val_mse: 0.0446 - val_mae: 0.0962\n",
            "Epoch 45/50\n",
            "50/50 [==============================] - 0s 3ms/step - loss: 0.0146 - mse: 0.0146 - mae: 0.0854 - val_loss: 0.0434 - val_mse: 0.0434 - val_mae: 0.0946\n",
            "Epoch 46/50\n",
            "50/50 [==============================] - 0s 3ms/step - loss: 0.0140 - mse: 0.0140 - mae: 0.0846 - val_loss: 0.0416 - val_mse: 0.0416 - val_mae: 0.0952\n",
            "Epoch 47/50\n",
            "50/50 [==============================] - 0s 3ms/step - loss: 0.0136 - mse: 0.0136 - mae: 0.0842 - val_loss: 0.0430 - val_mse: 0.0430 - val_mae: 0.0971\n",
            "Epoch 48/50\n",
            "50/50 [==============================] - 0s 3ms/step - loss: 0.0134 - mse: 0.0134 - mae: 0.0834 - val_loss: 0.0388 - val_mse: 0.0388 - val_mae: 0.0933\n",
            "Epoch 49/50\n",
            "50/50 [==============================] - 0s 3ms/step - loss: 0.0133 - mse: 0.0133 - mae: 0.0835 - val_loss: 0.0405 - val_mse: 0.0405 - val_mae: 0.0946\n",
            "Epoch 50/50\n",
            "50/50 [==============================] - 0s 3ms/step - loss: 0.0130 - mse: 0.0130 - mae: 0.0830 - val_loss: 0.0374 - val_mse: 0.0374 - val_mae: 0.0933\n"
          ],
          "name": "stdout"
        }
      ]
    },
    {
      "cell_type": "code",
      "metadata": {
        "id": "FuaE5oOuA2Wm",
        "colab": {
          "base_uri": "https://localhost:8080/",
          "height": 611
        },
        "outputId": "4fe5f94c-5e10-4bd9-caef-934495bc107e"
      },
      "source": [
        "df_hist = pbd.DataFrame(history.history)\n",
        "fig, ax = plt.subplots(nrows=3, sharex=True, figsize=(5,10))\n",
        "df_hist.plot(y=['loss', 'val_loss'], ax=ax[0])\n",
        "df_hist.plot(y=['mse', 'val_mse'], ax=ax[1])\n",
        "df_hist.plot(y=['mae', 'val_mae'], ax=ax[2])"
      ],
      "execution_count": null,
      "outputs": [
        {
          "output_type": "execute_result",
          "data": {
            "text/plain": [
              "<matplotlib.axes._subplots.AxesSubplot at 0x7f568c4ff5f8>"
            ]
          },
          "metadata": {
            "tags": []
          },
          "execution_count": 55
        },
        {
          "output_type": "display_data",
          "data": {
            "image/png": "[encoded data removed]",
            "text/plain": [
              "<Figure size 360x720 with 3 Axes>"
            ]
          },
          "metadata": {
            "tags": [],
            "needs_background": "light"
          }
        }
      ]
    },
    {
      "cell_type": "code",
      "metadata": {
        "id": "bJm39VFYw22E",
        "colab": {
          "base_uri": "https://localhost:8080/"
        },
        "outputId": "cd61ab24-9456-4be4-e500-2c60e038638a"
      },
      "source": [
        "#Evaluating the model\n",
        "model.evaluate(x=x_val, y=y_val, batch_size=32)"
      ],
      "execution_count": 11,
      "outputs": [
        {
          "output_type": "stream",
          "text": [
            "13/13 [==============================] - 0s 2ms/step - loss: 0.0374 - mse: 0.0374 - mae: 0.0933\n"
          ],
          "name": "stdout"
        },
        {
          "output_type": "execute_result",
          "data": {
            "text/plain": [
              "[0.03743762522935867, 0.03743762522935867, 0.09332846850156784]"
            ]
          },
          "metadata": {
            "tags": []
          },
          "execution_count": 11
        }
      ]
    },
    {
      "cell_type": "code",
      "metadata": {
        "id": "ghOco4AiB7Qv"
      },
      "source": [
        "#Performing predictions on the model\n",
        "y_pred = model.predict(x_val)"
      ],
      "execution_count": 12,
      "outputs": []
    },
    {
      "cell_type": "code",
      "metadata": {
        "id": "22y_-83mBp6S",
        "colab": {
          "base_uri": "https://localhost:8080/",
          "height": 282
        },
        "outputId": "0b654da9-f914-4edc-ad06-f6687d329bd4"
      },
      "source": [
        "fig, ax = plt.subplots(figsize=(7,4))\n",
        "ax.scatter(x_train, y_train, label='True')\n",
        "ax.scatter(x_val, y_pred, label='Pred')\n",
        "ax.legend()"
      ],
      "execution_count": 13,
      "outputs": [
        {
          "output_type": "execute_result",
          "data": {
            "text/plain": [
              "<matplotlib.legend.Legend at 0x7f4df0243828>"
            ]
          },
          "metadata": {
            "tags": []
          },
          "execution_count": 13
        },
        {
          "output_type": "display_data",
          "data": {
            "image/png": "[encoded data removed]",
            "text/plain": [
              "<Figure size 504x288 with 1 Axes>"
            ]
          },
          "metadata": {
            "tags": [],
            "needs_background": "light"
          }
        }
      ]
    },
    {
      "cell_type": "markdown",
      "metadata": {
        "id": "ls_pfftACopg"
      },
      "source": [
        "## Functional API"
      ]
    },
    {
      "cell_type": "code",
      "metadata": {
        "id": "muhblhHrCY5X"
      },
      "source": [
        "from tensorflow.keras.models import Model\n",
        "from tensorflow.keras.layers import Input"
      ],
      "execution_count": 14,
      "outputs": []
    },
    {
      "cell_type": "code",
      "metadata": {
        "id": "4RAo2iEVC0vY"
      },
      "source": [
        "#Defining the model using functional API\n",
        "X = Input(shape= (1,))\n",
        "T = Dense(32, activation='relu')(X)\n",
        "T = Dense(16, activation='relu')(T)\n",
        "Y = Dense(1)(T)\n",
        "model = Model(inputs=X, outputs=Y)"
      ],
      "execution_count": 15,
      "outputs": []
    },
    {
      "cell_type": "code",
      "metadata": {
        "id": "mkHuM21sDTH4",
        "colab": {
          "base_uri": "https://localhost:8080/"
        },
        "outputId": "542a081b-7be6-4fcf-9619-d4d9e31454ff"
      },
      "source": [
        "model.summary()"
      ],
      "execution_count": 16,
      "outputs": [
        {
          "output_type": "stream",
          "text": [
            "Model: \"functional_1\"\n",
            "_________________________________________________________________\n",
            "Layer (type)                 Output Shape              Param #   \n",
            "=================================================================\n",
            "input_1 (InputLayer)         [(None, 1)]               0         \n",
            "_________________________________________________________________\n",
            "dense (Dense)                (None, 32)                64        \n",
            "_________________________________________________________________\n",
            "dense_1 (Dense)              (None, 16)                528       \n",
            "_________________________________________________________________\n",
            "dense_2 (Dense)              (None, 1)                 17        \n",
            "=================================================================\n",
            "Total params: 609\n",
            "Trainable params: 609\n",
            "Non-trainable params: 0\n",
            "_________________________________________________________________\n"
          ],
          "name": "stdout"
        }
      ]
    },
    {
      "cell_type": "markdown",
      "metadata": {
        "id": "HE3k6M1ID-7Q"
      },
      "source": [
        "# Callbacks\n",
        "Callbacks are utilities called at certain points during model training. <br>\n",
        "examples:\n",
        "\n",
        "\n",
        "*   <b>EarlyStopping</b>: Stop training when a monitored metric has stopped improving.\n",
        "*   <b>ReduceLROnPlateau</b>: Reduce learning rate when a metric has stopped improving.\n",
        "*   <b>ModelCheckpoint</b>: Callback to save the Keras model or model weights at some frequency. \n",
        "\n"
      ]
    },
    {
      "cell_type": "code",
      "metadata": {
        "id": "QrfP4kVID4K3"
      },
      "source": [
        "from tensorflow.keras.callbacks import ModelCheckpoint, EarlyStopping, ReduceLROnPlateau"
      ],
      "execution_count": 17,
      "outputs": []
    },
    {
      "cell_type": "code",
      "metadata": {
        "id": "8_HeHmi0ET34"
      },
      "source": [
        "mc = ModelCheckpoint(filepath='model', monitor='val_loss', verbose=1, save_best_only=True, save_weights_only=True, save_freq='epoch')\n",
        "es = EarlyStopping(monitor='val_loss', patience=3, verbose=1)\n",
        "rlrop = ReduceLROnPlateau(monitor='val_mse', factor=0.1, patience=10, verbose=1)"
      ],
      "execution_count": 18,
      "outputs": []
    },
    {
      "cell_type": "code",
      "metadata": {
        "id": "eL0h243cFM-v"
      },
      "source": [
        "#Defining the model and compiling it\n",
        "model = Sequential([\n",
        "                    Dense(32, activation='relu', input_shape=(1,), name='dense1'),\n",
        "                    Dense(16, activation='relu', name='dense2'),\n",
        "                    Dense(1, name='dense3')\n",
        "])\n",
        "model.compile(optimizer='adam', loss='mse', metrics=['mse'])"
      ],
      "execution_count": 19,
      "outputs": []
    },
    {
      "cell_type": "code",
      "metadata": {
        "id": "jvrwdZMdFaM6",
        "colab": {
          "base_uri": "https://localhost:8080/"
        },
        "outputId": "2e47f41e-9ff3-4c19-fc7d-1626071ce04b"
      },
      "source": [
        "history = model.fit(x=x_train, y=y_train, batch_size=32, epochs=100, validation_data=(x_val, y_val), callbacks=[mc, es, rlrop])"
      ],
      "execution_count": 20,
      "outputs": [
        {
          "output_type": "stream",
          "text": [
            "Epoch 1/100\n",
            "31/50 [=================>............] - ETA: 0s - loss: 1.5603 - mse: 1.5603\n",
            "Epoch 00001: val_loss improved from inf to 1.27673, saving model to model\n",
            "50/50 [==============================] - 0s 5ms/step - loss: 1.3665 - mse: 1.3665 - val_loss: 1.2767 - val_mse: 1.2767\n",
            "Epoch 2/100\n",
            "30/50 [=================>............] - ETA: 0s - loss: 0.5490 - mse: 0.5490\n",
            "Epoch 00002: val_loss improved from 1.27673 to 0.80639, saving model to model\n",
            "50/50 [==============================] - 0s 3ms/step - loss: 0.5627 - mse: 0.5627 - val_loss: 0.8064 - val_mse: 0.8064\n",
            "Epoch 3/100\n",
            "33/50 [==================>...........] - ETA: 0s - loss: 0.4254 - mse: 0.4254\n",
            "Epoch 00003: val_loss improved from 0.80639 to 0.61612, saving model to model\n",
            "50/50 [==============================] - 0s 3ms/step - loss: 0.3945 - mse: 0.3945 - val_loss: 0.6161 - val_mse: 0.6161\n",
            "Epoch 4/100\n",
            "33/50 [==================>...........] - ETA: 0s - loss: 0.2681 - mse: 0.2681\n",
            "Epoch 00004: val_loss improved from 0.61612 to 0.48856, saving model to model\n",
            "50/50 [==============================] - 0s 3ms/step - loss: 0.2814 - mse: 0.2814 - val_loss: 0.4886 - val_mse: 0.4886\n",
            "Epoch 5/100\n",
            "31/50 [=================>............] - ETA: 0s - loss: 0.2472 - mse: 0.2472\n",
            "Epoch 00005: val_loss improved from 0.48856 to 0.38869, saving model to model\n",
            "50/50 [==============================] - 0s 3ms/step - loss: 0.2099 - mse: 0.2099 - val_loss: 0.3887 - val_mse: 0.3887\n",
            "Epoch 6/100\n",
            "33/50 [==================>...........] - ETA: 0s - loss: 0.1795 - mse: 0.1795\n",
            "Epoch 00006: val_loss improved from 0.38869 to 0.31726, saving model to model\n",
            "50/50 [==============================] - 0s 3ms/step - loss: 0.1601 - mse: 0.1601 - val_loss: 0.3173 - val_mse: 0.3173\n",
            "Epoch 7/100\n",
            "32/50 [==================>...........] - ETA: 0s - loss: 0.1355 - mse: 0.1355\n",
            "Epoch 00007: val_loss improved from 0.31726 to 0.24986, saving model to model\n",
            "50/50 [==============================] - 0s 3ms/step - loss: 0.1219 - mse: 0.1219 - val_loss: 0.2499 - val_mse: 0.2499\n",
            "Epoch 8/100\n",
            "28/50 [===============>..............] - ETA: 0s - loss: 0.1099 - mse: 0.1099\n",
            "Epoch 00008: val_loss improved from 0.24986 to 0.21664, saving model to model\n",
            "50/50 [==============================] - 0s 3ms/step - loss: 0.0974 - mse: 0.0974 - val_loss: 0.2166 - val_mse: 0.2166\n",
            "Epoch 9/100\n",
            "32/50 [==================>...........] - ETA: 0s - loss: 0.0689 - mse: 0.0689\n",
            "Epoch 00009: val_loss improved from 0.21664 to 0.17869, saving model to model\n",
            "50/50 [==============================] - 0s 3ms/step - loss: 0.0776 - mse: 0.0776 - val_loss: 0.1787 - val_mse: 0.1787\n",
            "Epoch 10/100\n",
            "28/50 [===============>..............] - ETA: 0s - loss: 0.0372 - mse: 0.0372\n",
            "Epoch 00010: val_loss improved from 0.17869 to 0.15150, saving model to model\n",
            "50/50 [==============================] - 0s 3ms/step - loss: 0.0647 - mse: 0.0647 - val_loss: 0.1515 - val_mse: 0.1515\n",
            "Epoch 11/100\n",
            "32/50 [==================>...........] - ETA: 0s - loss: 0.0581 - mse: 0.0581\n",
            "Epoch 00011: val_loss improved from 0.15150 to 0.13775, saving model to model\n",
            "50/50 [==============================] - 0s 3ms/step - loss: 0.0554 - mse: 0.0554 - val_loss: 0.1378 - val_mse: 0.1378\n",
            "Epoch 12/100\n",
            "32/50 [==================>...........] - ETA: 0s - loss: 0.0616 - mse: 0.0616\n",
            "Epoch 00012: val_loss improved from 0.13775 to 0.12666, saving model to model\n",
            "50/50 [==============================] - 0s 3ms/step - loss: 0.0479 - mse: 0.0479 - val_loss: 0.1267 - val_mse: 0.1267\n",
            "Epoch 13/100\n",
            "33/50 [==================>...........] - ETA: 0s - loss: 0.0285 - mse: 0.0285\n",
            "Epoch 00013: val_loss improved from 0.12666 to 0.10509, saving model to model\n",
            "50/50 [==============================] - 0s 3ms/step - loss: 0.0417 - mse: 0.0417 - val_loss: 0.1051 - val_mse: 0.1051\n",
            "Epoch 14/100\n",
            "33/50 [==================>...........] - ETA: 0s - loss: 0.0285 - mse: 0.0285\n",
            "Epoch 00014: val_loss improved from 0.10509 to 0.09970, saving model to model\n",
            "50/50 [==============================] - 0s 3ms/step - loss: 0.0376 - mse: 0.0376 - val_loss: 0.0997 - val_mse: 0.0997\n",
            "Epoch 15/100\n",
            "29/50 [================>.............] - ETA: 0s - loss: 0.0317 - mse: 0.0317\n",
            "Epoch 00015: val_loss improved from 0.09970 to 0.09627, saving model to model\n",
            "50/50 [==============================] - 0s 3ms/step - loss: 0.0332 - mse: 0.0332 - val_loss: 0.0963 - val_mse: 0.0963\n",
            "Epoch 16/100\n",
            "31/50 [=================>............] - ETA: 0s - loss: 0.0358 - mse: 0.0358\n",
            "Epoch 00016: val_loss improved from 0.09627 to 0.08512, saving model to model\n",
            "50/50 [==============================] - 0s 3ms/step - loss: 0.0306 - mse: 0.0306 - val_loss: 0.0851 - val_mse: 0.0851\n",
            "Epoch 17/100\n",
            "32/50 [==================>...........] - ETA: 0s - loss: 0.0230 - mse: 0.0230\n",
            "Epoch 00017: val_loss did not improve from 0.08512\n",
            "50/50 [==============================] - 0s 2ms/step - loss: 0.0293 - mse: 0.0293 - val_loss: 0.0856 - val_mse: 0.0856\n",
            "Epoch 18/100\n",
            "33/50 [==================>...........] - ETA: 0s - loss: 0.0237 - mse: 0.0237\n",
            "Epoch 00018: val_loss improved from 0.08512 to 0.07446, saving model to model\n",
            "50/50 [==============================] - 0s 2ms/step - loss: 0.0264 - mse: 0.0264 - val_loss: 0.0745 - val_mse: 0.0745\n",
            "Epoch 19/100\n",
            "32/50 [==================>...........] - ETA: 0s - loss: 0.0318 - mse: 0.0318\n",
            "Epoch 00019: val_loss improved from 0.07446 to 0.07221, saving model to model\n",
            "50/50 [==============================] - 0s 3ms/step - loss: 0.0253 - mse: 0.0253 - val_loss: 0.0722 - val_mse: 0.0722\n",
            "Epoch 20/100\n",
            "31/50 [=================>............] - ETA: 0s - loss: 0.0294 - mse: 0.0294\n",
            "Epoch 00020: val_loss improved from 0.07221 to 0.06714, saving model to model\n",
            "50/50 [==============================] - 0s 3ms/step - loss: 0.0240 - mse: 0.0240 - val_loss: 0.0671 - val_mse: 0.0671\n",
            "Epoch 21/100\n",
            "32/50 [==================>...........] - ETA: 0s - loss: 0.0254 - mse: 0.0254\n",
            "Epoch 00021: val_loss improved from 0.06714 to 0.06142, saving model to model\n",
            "50/50 [==============================] - 0s 3ms/step - loss: 0.0216 - mse: 0.0216 - val_loss: 0.0614 - val_mse: 0.0614\n",
            "Epoch 22/100\n",
            "32/50 [==================>...........] - ETA: 0s - loss: 0.0290 - mse: 0.0290\n",
            "Epoch 00022: val_loss did not improve from 0.06142\n",
            "50/50 [==============================] - 0s 2ms/step - loss: 0.0224 - mse: 0.0224 - val_loss: 0.0636 - val_mse: 0.0636\n",
            "Epoch 23/100\n",
            "32/50 [==================>...........] - ETA: 0s - loss: 0.0242 - mse: 0.0242\n",
            "Epoch 00023: val_loss improved from 0.06142 to 0.05577, saving model to model\n",
            "50/50 [==============================] - 0s 3ms/step - loss: 0.0209 - mse: 0.0209 - val_loss: 0.0558 - val_mse: 0.0558\n",
            "Epoch 24/100\n",
            "31/50 [=================>............] - ETA: 0s - loss: 0.0236 - mse: 0.0236\n",
            "Epoch 00024: val_loss improved from 0.05577 to 0.05344, saving model to model\n",
            "50/50 [==============================] - 0s 3ms/step - loss: 0.0200 - mse: 0.0200 - val_loss: 0.0534 - val_mse: 0.0534\n",
            "Epoch 25/100\n",
            "28/50 [===============>..............] - ETA: 0s - loss: 0.0214 - mse: 0.0214\n",
            "Epoch 00025: val_loss improved from 0.05344 to 0.05164, saving model to model\n",
            "50/50 [==============================] - 0s 3ms/step - loss: 0.0189 - mse: 0.0189 - val_loss: 0.0516 - val_mse: 0.0516\n",
            "Epoch 26/100\n",
            "32/50 [==================>...........] - ETA: 0s - loss: 0.0190 - mse: 0.0190\n",
            "Epoch 00026: val_loss improved from 0.05164 to 0.05127, saving model to model\n",
            "50/50 [==============================] - 0s 3ms/step - loss: 0.0180 - mse: 0.0180 - val_loss: 0.0513 - val_mse: 0.0513\n",
            "Epoch 27/100\n",
            "29/50 [================>.............] - ETA: 0s - loss: 0.0185 - mse: 0.0185\n",
            "Epoch 00027: val_loss improved from 0.05127 to 0.04904, saving model to model\n",
            "50/50 [==============================] - 0s 3ms/step - loss: 0.0173 - mse: 0.0173 - val_loss: 0.0490 - val_mse: 0.0490\n",
            "Epoch 28/100\n",
            "29/50 [================>.............] - ETA: 0s - loss: 0.0196 - mse: 0.0196\n",
            "Epoch 00028: val_loss improved from 0.04904 to 0.04704, saving model to model\n",
            "50/50 [==============================] - 0s 3ms/step - loss: 0.0169 - mse: 0.0169 - val_loss: 0.0470 - val_mse: 0.0470\n",
            "Epoch 29/100\n",
            "32/50 [==================>...........] - ETA: 0s - loss: 0.0178 - mse: 0.0178\n",
            "Epoch 00029: val_loss improved from 0.04704 to 0.04504, saving model to model\n",
            "50/50 [==============================] - 0s 3ms/step - loss: 0.0163 - mse: 0.0163 - val_loss: 0.0450 - val_mse: 0.0450\n",
            "Epoch 30/100\n",
            "31/50 [=================>............] - ETA: 0s - loss: 0.0197 - mse: 0.0197\n",
            "Epoch 00030: val_loss did not improve from 0.04504\n",
            "50/50 [==============================] - 0s 2ms/step - loss: 0.0164 - mse: 0.0164 - val_loss: 0.0451 - val_mse: 0.0451\n",
            "Epoch 31/100\n",
            "32/50 [==================>...........] - ETA: 0s - loss: 0.0136 - mse: 0.0136\n",
            "Epoch 00031: val_loss improved from 0.04504 to 0.04405, saving model to model\n",
            "50/50 [==============================] - 0s 3ms/step - loss: 0.0159 - mse: 0.0159 - val_loss: 0.0441 - val_mse: 0.0441\n",
            "Epoch 32/100\n",
            "32/50 [==================>...........] - ETA: 0s - loss: 0.0172 - mse: 0.0172\n",
            "Epoch 00032: val_loss improved from 0.04405 to 0.04110, saving model to model\n",
            "50/50 [==============================] - 0s 3ms/step - loss: 0.0160 - mse: 0.0160 - val_loss: 0.0411 - val_mse: 0.0411\n",
            "Epoch 33/100\n",
            "32/50 [==================>...........] - ETA: 0s - loss: 0.0166 - mse: 0.0166\n",
            "Epoch 00033: val_loss did not improve from 0.04110\n",
            "50/50 [==============================] - 0s 2ms/step - loss: 0.0157 - mse: 0.0157 - val_loss: 0.0443 - val_mse: 0.0443\n",
            "Epoch 34/100\n",
            "30/50 [=================>............] - ETA: 0s - loss: 0.0131 - mse: 0.0131\n",
            "Epoch 00034: val_loss improved from 0.04110 to 0.03987, saving model to model\n",
            "50/50 [==============================] - 0s 3ms/step - loss: 0.0150 - mse: 0.0150 - val_loss: 0.0399 - val_mse: 0.0399\n",
            "Epoch 35/100\n",
            "32/50 [==================>...........] - ETA: 0s - loss: 0.0160 - mse: 0.0160\n",
            "Epoch 00035: val_loss improved from 0.03987 to 0.03586, saving model to model\n",
            "50/50 [==============================] - 0s 3ms/step - loss: 0.0150 - mse: 0.0150 - val_loss: 0.0359 - val_mse: 0.0359\n",
            "Epoch 36/100\n",
            "30/50 [=================>............] - ETA: 0s - loss: 0.0155 - mse: 0.0155\n",
            "Epoch 00036: val_loss did not improve from 0.03586\n",
            "50/50 [==============================] - 0s 2ms/step - loss: 0.0141 - mse: 0.0141 - val_loss: 0.0366 - val_mse: 0.0366\n",
            "Epoch 37/100\n",
            "32/50 [==================>...........] - ETA: 0s - loss: 0.0102 - mse: 0.0102\n",
            "Epoch 00037: val_loss improved from 0.03586 to 0.03360, saving model to model\n",
            "50/50 [==============================] - 0s 3ms/step - loss: 0.0140 - mse: 0.0140 - val_loss: 0.0336 - val_mse: 0.0336\n",
            "Epoch 38/100\n",
            "32/50 [==================>...........] - ETA: 0s - loss: 0.0158 - mse: 0.0158\n",
            "Epoch 00038: val_loss did not improve from 0.03360\n",
            "50/50 [==============================] - 0s 2ms/step - loss: 0.0142 - mse: 0.0142 - val_loss: 0.0366 - val_mse: 0.0366\n",
            "Epoch 39/100\n",
            "32/50 [==================>...........] - ETA: 0s - loss: 0.0145 - mse: 0.0145\n",
            "Epoch 00039: val_loss did not improve from 0.03360\n",
            "50/50 [==============================] - 0s 2ms/step - loss: 0.0139 - mse: 0.0139 - val_loss: 0.0369 - val_mse: 0.0369\n",
            "Epoch 40/100\n",
            "32/50 [==================>...........] - ETA: 0s - loss: 0.0143 - mse: 0.0143\n",
            "Epoch 00040: val_loss improved from 0.03360 to 0.03312, saving model to model\n",
            "50/50 [==============================] - 0s 3ms/step - loss: 0.0136 - mse: 0.0136 - val_loss: 0.0331 - val_mse: 0.0331\n",
            "Epoch 41/100\n",
            "32/50 [==================>...........] - ETA: 0s - loss: 0.0143 - mse: 0.0143\n",
            "Epoch 00041: val_loss improved from 0.03312 to 0.03193, saving model to model\n",
            "50/50 [==============================] - 0s 3ms/step - loss: 0.0137 - mse: 0.0137 - val_loss: 0.0319 - val_mse: 0.0319\n",
            "Epoch 42/100\n",
            "31/50 [=================>............] - ETA: 0s - loss: 0.0115 - mse: 0.0115\n",
            "Epoch 00042: val_loss did not improve from 0.03193\n",
            "50/50 [==============================] - 0s 2ms/step - loss: 0.0136 - mse: 0.0136 - val_loss: 0.0325 - val_mse: 0.0325\n",
            "Epoch 43/100\n",
            "30/50 [=================>............] - ETA: 0s - loss: 0.0144 - mse: 0.0144\n",
            "Epoch 00043: val_loss improved from 0.03193 to 0.03143, saving model to model\n",
            "50/50 [==============================] - 0s 3ms/step - loss: 0.0133 - mse: 0.0133 - val_loss: 0.0314 - val_mse: 0.0314\n",
            "Epoch 44/100\n",
            "32/50 [==================>...........] - ETA: 0s - loss: 0.0113 - mse: 0.0113\n",
            "Epoch 00044: val_loss improved from 0.03143 to 0.03125, saving model to model\n",
            "50/50 [==============================] - 0s 3ms/step - loss: 0.0127 - mse: 0.0127 - val_loss: 0.0313 - val_mse: 0.0313\n",
            "Epoch 45/100\n",
            "31/50 [=================>............] - ETA: 0s - loss: 0.0148 - mse: 0.0148\n",
            "Epoch 00045: val_loss did not improve from 0.03125\n",
            "50/50 [==============================] - 0s 2ms/step - loss: 0.0131 - mse: 0.0131 - val_loss: 0.0314 - val_mse: 0.0314\n",
            "Epoch 46/100\n",
            "32/50 [==================>...........] - ETA: 0s - loss: 0.0137 - mse: 0.0137\n",
            "Epoch 00046: val_loss did not improve from 0.03125\n",
            "50/50 [==============================] - 0s 2ms/step - loss: 0.0127 - mse: 0.0127 - val_loss: 0.0316 - val_mse: 0.0316\n",
            "Epoch 47/100\n",
            "29/50 [================>.............] - ETA: 0s - loss: 0.0118 - mse: 0.0118\n",
            "Epoch 00047: val_loss did not improve from 0.03125\n",
            "50/50 [==============================] - 0s 2ms/step - loss: 0.0128 - mse: 0.0128 - val_loss: 0.0344 - val_mse: 0.0344\n",
            "Epoch 00047: early stopping\n"
          ],
          "name": "stdout"
        }
      ]
    },
    {
      "cell_type": "markdown",
      "metadata": {
        "id": "qozMlbDILRL3"
      },
      "source": [
        "# Customization\n",
        "We can customize the tensorflow/keras components to our needs. <br>\n",
        "The examples here: \n",
        "\n",
        "\n",
        "*   Layers\n",
        "*   Models\n",
        "*   Losses\n",
        "*   Callbacks\n",
        "\n",
        "How we do it? \n",
        "\n",
        "\n",
        "1.   importing the base class\n",
        "2.   sub-classing\n",
        "\n",
        "\n",
        "\n",
        "\n"
      ]
    },
    {
      "cell_type": "markdown",
      "metadata": {
        "id": "wj_j1KBPLgRA"
      },
      "source": [
        "## Layers"
      ]
    },
    {
      "cell_type": "code",
      "metadata": {
        "id": "_xEWjocTLQMo"
      },
      "source": [
        "from tensorflow.keras.layers import Layer"
      ],
      "execution_count": 21,
      "outputs": []
    },
    {
      "cell_type": "code",
      "metadata": {
        "id": "Q7E78xYJLovI"
      },
      "source": [
        "class MyDense(Layer):\n",
        "  def __init__(self, units, activation=None, **kwargs):\n",
        "    super(MyDense, self).__init__(**kwargs)\n",
        "    self.units = units\n",
        "    self.activation = activation\n",
        "\n",
        "  def build(self, input_shape):\n",
        "    self.W = self.add_weight('W', shape=[int(input_shape[-1]), self.units], trainable=True)\n",
        "    self.b = self.add_weight('bias', shape=[self.units], trainable=True)\n",
        "\n",
        "  def call(self, inputs):\n",
        "    y = tf.matmul(inputs, self.W) + self.b\n",
        "    if self.activation == 'relu':\n",
        "      return tf.nn.relu(y)\n",
        "    else:\n",
        "      return y"
      ],
      "execution_count": 22,
      "outputs": []
    },
    {
      "cell_type": "markdown",
      "metadata": {
        "id": "JfND0eb7OoHy"
      },
      "source": [
        "## Models"
      ]
    },
    {
      "cell_type": "code",
      "metadata": {
        "id": "BQFOHs8POmtT"
      },
      "source": [
        "class MyModel(Model):\n",
        "  def __init__(self, **kwargs):\n",
        "    super(MyModel, self).__init__(**kwargs)\n",
        "\n",
        "  def build(self, input_shape):\n",
        "    self.mydense1 = MyDense(32, activation='relu', input_shape=input_shape)\n",
        "    self.mydense2 = MyDense(16, activation='relu')\n",
        "    self.mydense3 = MyDense(1)\n",
        "\n",
        "  def call(self, inputs):\n",
        "    t = self.mydense1(inputs)\n",
        "    t = self.mydense2(t)\n",
        "    t = self.mydense3(t)\n",
        "    return t\n",
        "\n",
        "model = MyModel()"
      ],
      "execution_count": 23,
      "outputs": []
    },
    {
      "cell_type": "markdown",
      "metadata": {
        "id": "lb9ciyb8SRz-"
      },
      "source": [
        "## Loss"
      ]
    },
    {
      "cell_type": "code",
      "metadata": {
        "id": "TQStpab8SQe4"
      },
      "source": [
        "from tensorflow.keras.losses import Loss"
      ],
      "execution_count": 24,
      "outputs": []
    },
    {
      "cell_type": "code",
      "metadata": {
        "id": "95AFIgi4SmD6"
      },
      "source": [
        "class MyLoss(Loss):\n",
        "  def call(self, y_true, y_pred):\n",
        "    y_true = tf.cast(y_true, y_pred.dtype)\n",
        "    return tf.reduce_mean(tf.math.square(y_pred - y_true), axis=-1)\n",
        "\n",
        "myloss = MyLoss()"
      ],
      "execution_count": 25,
      "outputs": []
    },
    {
      "cell_type": "markdown",
      "metadata": {
        "id": "MrlRGkrtV6qT"
      },
      "source": [
        "## Callbacks"
      ]
    },
    {
      "cell_type": "code",
      "metadata": {
        "id": "mxNdPOIkV5pS"
      },
      "source": [
        "from tensorflow.keras.callbacks import Callback"
      ],
      "execution_count": 26,
      "outputs": []
    },
    {
      "cell_type": "code",
      "metadata": {
        "id": "J4WrUbrsV1HR"
      },
      "source": [
        "class MyCallback(Callback):\n",
        "  def __init__(self, **kwargs):\n",
        "    super(MyCallback, self).__init__( **kwargs)\n",
        "  \n",
        "  def on_epoch_end(self, epoch, logs=None):\n",
        "    if logs['val_loss'] < 0.12:\n",
        "      print('\\nValidation loss is less than 0.12! Stopping training!')\n",
        "      self.model.stop_training = True\n",
        "\n",
        "mycallback = MyCallback()"
      ],
      "execution_count": 27,
      "outputs": []
    },
    {
      "cell_type": "markdown",
      "metadata": {
        "id": "IhyRsDUDWv7a"
      },
      "source": [
        "## Putting together"
      ]
    },
    {
      "cell_type": "code",
      "metadata": {
        "id": "qpm2X0nSW0Aa"
      },
      "source": [
        "model.compile(optimizer='adam', loss=myloss, metrics=['mse'])"
      ],
      "execution_count": 28,
      "outputs": []
    },
    {
      "cell_type": "code",
      "metadata": {
        "id": "tuGTukY9XUba",
        "colab": {
          "base_uri": "https://localhost:8080/"
        },
        "outputId": "3743d1f9-bd62-4f56-a0bb-5f3268fdf0cb"
      },
      "source": [
        "history = model.fit(x=x_train, y=y_train, batch_size=32, epochs=100, validation_data=(x_val, y_val), callbacks=[mycallback])"
      ],
      "execution_count": 29,
      "outputs": [
        {
          "output_type": "stream",
          "text": [
            "Epoch 1/100\n",
            "50/50 [==============================] - 0s 4ms/step - loss: 3.6352 - mse: 3.6352 - val_loss: 3.1359 - val_mse: 3.1359\n",
            "Epoch 2/100\n",
            "50/50 [==============================] - 0s 2ms/step - loss: 1.7423 - mse: 1.7423 - val_loss: 1.6312 - val_mse: 1.6312\n",
            "Epoch 3/100\n",
            "50/50 [==============================] - 0s 3ms/step - loss: 0.8907 - mse: 0.8907 - val_loss: 1.1201 - val_mse: 1.1201\n",
            "Epoch 4/100\n",
            "50/50 [==============================] - 0s 2ms/step - loss: 0.6147 - mse: 0.6147 - val_loss: 0.8624 - val_mse: 0.8624\n",
            "Epoch 5/100\n",
            "50/50 [==============================] - 0s 2ms/step - loss: 0.4445 - mse: 0.4445 - val_loss: 0.6771 - val_mse: 0.6771\n",
            "Epoch 6/100\n",
            "50/50 [==============================] - 0s 2ms/step - loss: 0.3247 - mse: 0.3247 - val_loss: 0.5414 - val_mse: 0.5414\n",
            "Epoch 7/100\n",
            "50/50 [==============================] - 0s 2ms/step - loss: 0.2400 - mse: 0.2400 - val_loss: 0.4499 - val_mse: 0.4499\n",
            "Epoch 8/100\n",
            "50/50 [==============================] - 0s 2ms/step - loss: 0.1842 - mse: 0.1842 - val_loss: 0.3815 - val_mse: 0.3815\n",
            "Epoch 9/100\n",
            "50/50 [==============================] - 0s 2ms/step - loss: 0.1505 - mse: 0.1505 - val_loss: 0.3256 - val_mse: 0.3256\n",
            "Epoch 10/100\n",
            "50/50 [==============================] - 0s 2ms/step - loss: 0.1275 - mse: 0.1275 - val_loss: 0.3017 - val_mse: 0.3017\n",
            "Epoch 11/100\n",
            "50/50 [==============================] - 0s 2ms/step - loss: 0.1112 - mse: 0.1112 - val_loss: 0.2663 - val_mse: 0.2663\n",
            "Epoch 12/100\n",
            "50/50 [==============================] - 0s 2ms/step - loss: 0.0980 - mse: 0.0980 - val_loss: 0.2469 - val_mse: 0.2469\n",
            "Epoch 13/100\n",
            "50/50 [==============================] - 0s 2ms/step - loss: 0.0863 - mse: 0.0863 - val_loss: 0.2241 - val_mse: 0.2241\n",
            "Epoch 14/100\n",
            "50/50 [==============================] - 0s 2ms/step - loss: 0.0782 - mse: 0.0782 - val_loss: 0.2093 - val_mse: 0.2093\n",
            "Epoch 15/100\n",
            "50/50 [==============================] - 0s 2ms/step - loss: 0.0687 - mse: 0.0687 - val_loss: 0.1838 - val_mse: 0.1838\n",
            "Epoch 16/100\n",
            "50/50 [==============================] - 0s 2ms/step - loss: 0.0610 - mse: 0.0610 - val_loss: 0.1702 - val_mse: 0.1702\n",
            "Epoch 17/100\n",
            "50/50 [==============================] - 0s 2ms/step - loss: 0.0544 - mse: 0.0544 - val_loss: 0.1583 - val_mse: 0.1583\n",
            "Epoch 18/100\n",
            "50/50 [==============================] - 0s 2ms/step - loss: 0.0492 - mse: 0.0492 - val_loss: 0.1532 - val_mse: 0.1532\n",
            "Epoch 19/100\n",
            "50/50 [==============================] - 0s 2ms/step - loss: 0.0451 - mse: 0.0451 - val_loss: 0.1339 - val_mse: 0.1339\n",
            "Epoch 20/100\n",
            "50/50 [==============================] - 0s 2ms/step - loss: 0.0412 - mse: 0.0412 - val_loss: 0.1257 - val_mse: 0.1257\n",
            "Epoch 21/100\n",
            "33/50 [==================>...........] - ETA: 0s - loss: 0.0311 - mse: 0.0311\n",
            "Validation loss is less than 0.12! Stopping training!\n",
            "50/50 [==============================] - 0s 2ms/step - loss: 0.0373 - mse: 0.0373 - val_loss: 0.1198 - val_mse: 0.1198\n"
          ],
          "name": "stdout"
        }
      ]
    },
    {
      "cell_type": "markdown",
      "metadata": {
        "id": "mIqcrjZCUj0k"
      },
      "source": [
        "\n",
        "#Data pipeline\n",
        "\n",
        "Tensorflow has its own data pipelining/processing tool which is very powerful."
      ]
    },
    {
      "cell_type": "markdown",
      "metadata": {
        "id": "a1DJGHlbeSg7"
      },
      "source": [
        "##tf.data.Dataset\n",
        "\n",
        "When iterating over training data that fits in memory, feel free to use regular Python iteration. Otherwise, tf.data.Dataset is the best way to stream training data from disk. Datasets are iterables (not iterators), and work just like other Python iterables in Eager mode. <br>\n",
        "For instance, two useful methods:\n",
        "\n",
        "\n",
        "1.   tf.keras.preprocessing.text_dataset_from_directory \n",
        "2.   tf.keras.preprocessing.image_dataset_from_directory\n",
        "\n"
      ]
    },
    {
      "cell_type": "code",
      "metadata": {
        "id": "E0tpDpxWaQKV"
      },
      "source": [
        "#creating the data from arrays\n",
        "data = tf.data.Dataset.from_tensor_slices((x, y))"
      ],
      "execution_count": 30,
      "outputs": []
    },
    {
      "cell_type": "code",
      "metadata": {
        "id": "LjghdS2ZaoKk",
        "colab": {
          "base_uri": "https://localhost:8080/"
        },
        "outputId": "5d8ad8b3-2ea0-4bfc-a562-d98e6f10776c"
      },
      "source": [
        "#get the elements specifications\n",
        "data.element_spec"
      ],
      "execution_count": 31,
      "outputs": [
        {
          "output_type": "execute_result",
          "data": {
            "text/plain": [
              "(TensorSpec(shape=(), dtype=tf.float64, name=None),\n",
              " TensorSpec(shape=(), dtype=tf.float64, name=None))"
            ]
          },
          "metadata": {
            "tags": []
          },
          "execution_count": 31
        }
      ]
    },
    {
      "cell_type": "code",
      "metadata": {
        "id": "qmdglZk6arnG"
      },
      "source": [
        "#expanding the dimension \n",
        "data = data.map(lambda x, y: (x[..., tf.newaxis], y))"
      ],
      "execution_count": 32,
      "outputs": []
    },
    {
      "cell_type": "code",
      "metadata": {
        "id": "iBYB9Bl8a7B2",
        "colab": {
          "base_uri": "https://localhost:8080/"
        },
        "outputId": "620347af-0dba-44fa-90f1-6d5ed59b68e0"
      },
      "source": [
        "data.element_spec"
      ],
      "execution_count": 33,
      "outputs": [
        {
          "output_type": "execute_result",
          "data": {
            "text/plain": [
              "(TensorSpec(shape=(1,), dtype=tf.float64, name=None),\n",
              " TensorSpec(shape=(), dtype=tf.float64, name=None))"
            ]
          },
          "metadata": {
            "tags": []
          },
          "execution_count": 33
        }
      ]
    },
    {
      "cell_type": "code",
      "metadata": {
        "id": "drhP5N_dbdYd",
        "colab": {
          "base_uri": "https://localhost:8080/"
        },
        "outputId": "265b3ba1-180d-4a68-f590-7939c0d23a26"
      },
      "source": [
        "#see a sample of the data\n",
        "next(iter(data))"
      ],
      "execution_count": 34,
      "outputs": [
        {
          "output_type": "execute_result",
          "data": {
            "text/plain": [
              "(<tf.Tensor: shape=(1,), dtype=float64, numpy=array([-1.0856306])>,\n",
              " <tf.Tensor: shape=(), dtype=float64, numpy=1.2011714518840129>)"
            ]
          },
          "metadata": {
            "tags": []
          },
          "execution_count": 34
        }
      ]
    },
    {
      "cell_type": "code",
      "metadata": {
        "id": "clxq1_8lbk0G",
        "colab": {
          "base_uri": "https://localhost:8080/"
        },
        "outputId": "4c01bb33-eef8-4ee0-abcf-9f1ec6eaedf0"
      },
      "source": [
        "#see samples of the data\n",
        "for x, y in data.take(2):\n",
        "  print(f'x: {x}, y: {y}')"
      ],
      "execution_count": 35,
      "outputs": [
        {
          "output_type": "stream",
          "text": [
            "x: [-1.0856306], y: 1.2011714518840129\n",
            "x: [0.99734545], y: 1.074560209250567\n"
          ],
          "name": "stdout"
        }
      ]
    },
    {
      "cell_type": "code",
      "metadata": {
        "id": "foPzxwNob_D3"
      },
      "source": [
        "#train and test split\n",
        "train_data = data.take(1600)\n",
        "val_data = data.skip(1600)"
      ],
      "execution_count": 36,
      "outputs": []
    },
    {
      "cell_type": "code",
      "metadata": {
        "id": "A0QSAOi_a88t"
      },
      "source": [
        "#batching the data\n",
        "train_data = train_data.batch(32).prefetch(1)\n",
        "val_data = val_data.batch(16)"
      ],
      "execution_count": 37,
      "outputs": []
    },
    {
      "cell_type": "code",
      "metadata": {
        "id": "3bE3bAE_6zYZ"
      },
      "source": [
        "#Defining the model and compiling it\n",
        "model = Sequential([\n",
        "                    Dense(32, activation='relu', input_shape=(1,), name='dense1'),\n",
        "                    Dense(16, activation='relu', name='dense2'),\n",
        "                    Dense(1, name='dense3')\n",
        "])\n",
        "model.compile(optimizer='adam', loss='mse', metrics=['mse'])"
      ],
      "execution_count": 38,
      "outputs": []
    },
    {
      "cell_type": "code",
      "metadata": {
        "id": "ZzqOsOjqbQS1",
        "colab": {
          "base_uri": "https://localhost:8080/"
        },
        "outputId": "ce450962-6031-4905-e08f-f572d5fab492"
      },
      "source": [
        "history = model.fit(x=train_data, epochs=20, validation_data=val_data)"
      ],
      "execution_count": 39,
      "outputs": [
        {
          "output_type": "stream",
          "text": [
            "Epoch 1/20\n",
            "50/50 [==============================] - 0s 6ms/step - loss: 2.4352 - mse: 2.4352 - val_loss: 2.2145 - val_mse: 2.2145\n",
            "Epoch 2/20\n",
            "50/50 [==============================] - 0s 4ms/step - loss: 1.2233 - mse: 1.2233 - val_loss: 1.1398 - val_mse: 1.1398\n",
            "Epoch 3/20\n",
            "50/50 [==============================] - 0s 4ms/step - loss: 0.6446 - mse: 0.6446 - val_loss: 0.7854 - val_mse: 0.7854\n",
            "Epoch 4/20\n",
            "50/50 [==============================] - 0s 4ms/step - loss: 0.4140 - mse: 0.4140 - val_loss: 0.5775 - val_mse: 0.5775\n",
            "Epoch 5/20\n",
            "50/50 [==============================] - 0s 5ms/step - loss: 0.2870 - mse: 0.2870 - val_loss: 0.4465 - val_mse: 0.4465\n",
            "Epoch 6/20\n",
            "50/50 [==============================] - 0s 5ms/step - loss: 0.2209 - mse: 0.2209 - val_loss: 0.3738 - val_mse: 0.3738\n",
            "Epoch 7/20\n",
            "50/50 [==============================] - 0s 4ms/step - loss: 0.1868 - mse: 0.1868 - val_loss: 0.3295 - val_mse: 0.3295\n",
            "Epoch 8/20\n",
            "50/50 [==============================] - 0s 4ms/step - loss: 0.1625 - mse: 0.1625 - val_loss: 0.2957 - val_mse: 0.2957\n",
            "Epoch 9/20\n",
            "50/50 [==============================] - 0s 4ms/step - loss: 0.1398 - mse: 0.1398 - val_loss: 0.2646 - val_mse: 0.2646\n",
            "Epoch 10/20\n",
            "50/50 [==============================] - 0s 4ms/step - loss: 0.1199 - mse: 0.1199 - val_loss: 0.2364 - val_mse: 0.2364\n",
            "Epoch 11/20\n",
            "50/50 [==============================] - 0s 5ms/step - loss: 0.1022 - mse: 0.1022 - val_loss: 0.2098 - val_mse: 0.2098\n",
            "Epoch 12/20\n",
            "50/50 [==============================] - 0s 5ms/step - loss: 0.0867 - mse: 0.0867 - val_loss: 0.1877 - val_mse: 0.1877\n",
            "Epoch 13/20\n",
            "50/50 [==============================] - 0s 4ms/step - loss: 0.0741 - mse: 0.0741 - val_loss: 0.1682 - val_mse: 0.1682\n",
            "Epoch 14/20\n",
            "50/50 [==============================] - 0s 4ms/step - loss: 0.0638 - mse: 0.0638 - val_loss: 0.1504 - val_mse: 0.1504\n",
            "Epoch 15/20\n",
            "50/50 [==============================] - 0s 4ms/step - loss: 0.0556 - mse: 0.0556 - val_loss: 0.1369 - val_mse: 0.1369\n",
            "Epoch 16/20\n",
            "50/50 [==============================] - 0s 4ms/step - loss: 0.0487 - mse: 0.0487 - val_loss: 0.1234 - val_mse: 0.1234\n",
            "Epoch 17/20\n",
            "50/50 [==============================] - 0s 5ms/step - loss: 0.0434 - mse: 0.0434 - val_loss: 0.1133 - val_mse: 0.1133\n",
            "Epoch 18/20\n",
            "50/50 [==============================] - 0s 4ms/step - loss: 0.0390 - mse: 0.0390 - val_loss: 0.1030 - val_mse: 0.1030\n",
            "Epoch 19/20\n",
            "50/50 [==============================] - 0s 4ms/step - loss: 0.0355 - mse: 0.0355 - val_loss: 0.0951 - val_mse: 0.0951\n",
            "Epoch 20/20\n",
            "50/50 [==============================] - 0s 4ms/step - loss: 0.0324 - mse: 0.0324 - val_loss: 0.0870 - val_mse: 0.0870\n"
          ],
          "name": "stdout"
        }
      ]
    },
    {
      "cell_type": "markdown",
      "metadata": {
        "id": "sX6ocz-veXQP"
      },
      "source": [
        "## tensorflow_datasets lib\n",
        "\n",
        "Tensorflow also provides many popular databases."
      ]
    },
    {
      "cell_type": "code",
      "metadata": {
        "id": "vf4MGB9Yb5zr"
      },
      "source": [
        "import tensorflow_datasets as tfds"
      ],
      "execution_count": null,
      "outputs": []
    },
    {
      "cell_type": "code",
      "metadata": {
        "id": "Y9wGs7T_eejS",
        "colab": {
          "base_uri": "https://localhost:8080/"
        },
        "outputId": "9a48b2c2-0486-45d5-ede9-1756ee11e366"
      },
      "source": [
        "#list of datasets\n",
        "print(tfds.list_builders())"
      ],
      "execution_count": null,
      "outputs": [
        {
          "output_type": "stream",
          "text": [
            "['abstract_reasoning', 'accentdb', 'aeslc', 'aflw2k3d', 'ag_news_subset', 'ai2_arc', 'ai2_arc_with_ir', 'amazon_us_reviews', 'anli', 'arc', 'bair_robot_pushing_small', 'bccd', 'beans', 'big_patent', 'bigearthnet', 'billsum', 'binarized_mnist', 'binary_alpha_digits', 'blimp', 'bool_q', 'c4', 'caltech101', 'caltech_birds2010', 'caltech_birds2011', 'cars196', 'cassava', 'cats_vs_dogs', 'celeb_a', 'celeb_a_hq', 'cfq', 'chexpert', 'cifar10', 'cifar100', 'cifar10_1', 'cifar10_corrupted', 'citrus_leaves', 'cityscapes', 'civil_comments', 'clevr', 'clic', 'clinc_oos', 'cmaterdb', 'cnn_dailymail', 'coco', 'coco_captions', 'coil100', 'colorectal_histology', 'colorectal_histology_large', 'common_voice', 'coqa', 'cos_e', 'cosmos_qa', 'covid19sum', 'crema_d', 'curated_breast_imaging_ddsm', 'cycle_gan', 'deep_weeds', 'definite_pronoun_resolution', 'dementiabank', 'diabetic_retinopathy_detection', 'div2k', 'dmlab', 'downsampled_imagenet', 'dsprites', 'dtd', 'duke_ultrasound', 'emnist', 'eraser_multi_rc', 'esnli', 'eurosat', 'fashion_mnist', 'flic', 'flores', 'food101', 'forest_fires', 'fuss', 'gap', 'geirhos_conflict_stimuli', 'genomics_ood', 'german_credit_numeric', 'gigaword', 'glue', 'goemotions', 'gpt3', 'groove', 'gtzan', 'gtzan_music_speech', 'hellaswag', 'higgs', 'horses_or_humans', 'i_naturalist2017', 'imagenet2012', 'imagenet2012_corrupted', 'imagenet2012_real', 'imagenet2012_subset', 'imagenet_a', 'imagenet_r', 'imagenet_resized', 'imagenet_v2', 'imagenette', 'imagewang', 'imdb_reviews', 'irc_disentanglement', 'iris', 'kitti', 'kmnist', 'lfw', 'librispeech', 'librispeech_lm', 'libritts', 'ljspeech', 'lm1b', 'lost_and_found', 'lsun', 'malaria', 'math_dataset', 'mctaco', 'mnist', 'mnist_corrupted', 'movie_lens', 'movie_rationales', 'movielens', 'moving_mnist', 'multi_news', 'multi_nli', 'multi_nli_mismatch', 'natural_questions', 'natural_questions_open', 'newsroom', 'nsynth', 'nyu_depth_v2', 'omniglot', 'open_images_challenge2019_detection', 'open_images_v4', 'openbookqa', 'opinion_abstracts', 'opinosis', 'opus', 'oxford_flowers102', 'oxford_iiit_pet', 'para_crawl', 'patch_camelyon', 'paws_wiki', 'paws_x_wiki', 'pet_finder', 'pg19', 'places365_small', 'plant_leaves', 'plant_village', 'plantae_k', 'qa4mre', 'qasc', 'quickdraw_bitmap', 'radon', 'reddit', 'reddit_disentanglement', 'reddit_tifu', 'resisc45', 'robonet', 'rock_paper_scissors', 'rock_you', 'salient_span_wikipedia', 'samsum', 'savee', 'scan', 'scene_parse150', 'scicite', 'scientific_papers', 'sentiment140', 'shapes3d', 'smallnorb', 'snli', 'so2sat', 'speech_commands', 'spoken_digit', 'squad', 'stanford_dogs', 'stanford_online_products', 'starcraft_video', 'stl10', 'sun397', 'super_glue', 'svhn_cropped', 'ted_hrlr_translate', 'ted_multi_translate', 'tedlium', 'tf_flowers', 'the300w_lp', 'tiny_shakespeare', 'titanic', 'trec', 'trivia_qa', 'tydi_qa', 'uc_merced', 'ucf101', 'vctk', 'vgg_face2', 'visual_domain_decathlon', 'voc', 'voxceleb', 'voxforge', 'waymo_open_dataset', 'web_questions', 'wider_face', 'wiki40b', 'wikihow', 'wikipedia', 'wikipedia_toxicity_subtypes', 'wine_quality', 'winogrande', 'wmt14_translate', 'wmt15_translate', 'wmt16_translate', 'wmt17_translate', 'wmt18_translate', 'wmt19_translate', 'wmt_t2t_translate', 'wmt_translate', 'wordnet', 'xnli', 'xquad', 'xsum', 'yelp_polarity_reviews', 'yes_no']\n"
          ],
          "name": "stdout"
        }
      ]
    },
    {
      "cell_type": "code",
      "metadata": {
        "id": "vQNupC6Kemwt",
        "colab": {
          "base_uri": "https://localhost:8080/",
          "height": 200,
          "referenced_widgets": [
            "ccc1e9600ab24e33a8c5c792c82f8186",
            "319e14f5dca042df97d6c57a1d238778",
            "c87b9ef3f5f744418726638dcb4f148d",
            "b1dc27cdae9a4b0da7349cd7162c0e62",
            "8bfe1b5d263c45629d42f5f2f116e424",
            "c72abae9fbb64a5385e98291e9e788de",
            "80f4b1ef1b5b489cab01fa8ed78402b0",
            "d1019e2fd7ea47aa9885ef716078926b"
          ]
        },
        "outputId": "73ae33ad-16af-4491-b63e-95264a93b177"
      },
      "source": [
        "#loading mnist dataset\n",
        "mnist_train, mnist_val = tfds.load('mnist', split=['train', 'test'])"
      ],
      "execution_count": null,
      "outputs": [
        {
          "output_type": "stream",
          "text": [
            "\u001b[1mDownloading and preparing dataset mnist/3.0.1 (download: 11.06 MiB, generated: 21.00 MiB, total: 32.06 MiB) to /root/tensorflow_datasets/mnist/3.0.1...\u001b[0m\n"
          ],
          "name": "stdout"
        },
        {
          "output_type": "stream",
          "text": [
            "WARNING:absl:Dataset mnist is hosted on GCS. It will automatically be downloaded to your\n",
            "local data directory. If you'd instead prefer to read directly from our public\n",
            "GCS bucket (recommended if you're running on GCP), you can instead pass\n",
            "`try_gcs=True` to `tfds.load` or set `data_dir=gs://tfds-data/datasets`.\n",
            "\n"
          ],
          "name": "stderr"
        },
        {
          "output_type": "display_data",
          "data": {
            "application/vnd.jupyter.widget-view+json": {
              "model_id": "ccc1e9600ab24e33a8c5c792c82f8186",
              "version_minor": 0,
              "version_major": 2
            },
            "text/plain": [
              "HBox(children=(FloatProgress(value=0.0, description='Dl Completed...', max=4.0, style=ProgressStyle(descriptio…"
            ]
          },
          "metadata": {
            "tags": []
          }
        },
        {
          "output_type": "stream",
          "text": [
            "\n",
            "\n",
            "\u001b[1mDataset mnist downloaded and prepared to /root/tensorflow_datasets/mnist/3.0.1. Subsequent calls will reuse this data.\u001b[0m\n"
          ],
          "name": "stdout"
        }
      ]
    },
    {
      "cell_type": "code",
      "metadata": {
        "id": "t5N5THKee3ll",
        "colab": {
          "base_uri": "https://localhost:8080/"
        },
        "outputId": "df9ebf5a-4e16-41dd-ce33-7ad6cf679877"
      },
      "source": [
        "mnist_train.element_spec"
      ],
      "execution_count": null,
      "outputs": [
        {
          "output_type": "execute_result",
          "data": {
            "text/plain": [
              "{'image': TensorSpec(shape=(28, 28, 1), dtype=tf.uint8, name=None),\n",
              " 'label': TensorSpec(shape=(), dtype=tf.int64, name=None)}"
            ]
          },
          "metadata": {
            "tags": []
          },
          "execution_count": 96
        }
      ]
    },
    {
      "cell_type": "code",
      "metadata": {
        "id": "DsjO9zWL8NAe",
        "colab": {
          "base_uri": "https://localhost:8080/",
          "height": 298
        },
        "outputId": "76949e48-4828-4813-fe04-2b317cb4751a"
      },
      "source": [
        "sample = next(iter(mnist_train))\n",
        "pic = sample['image']\n",
        "label = sample['label']\n",
        "plt.imshow(pic.numpy()[..., 0], cmap='gray')\n",
        "plt.title(label.numpy())"
      ],
      "execution_count": null,
      "outputs": [
        {
          "output_type": "execute_result",
          "data": {
            "text/plain": [
              "Text(0.5, 1.0, '4')"
            ]
          },
          "metadata": {
            "tags": []
          },
          "execution_count": 104
        },
        {
          "output_type": "display_data",
          "data": {
            "image/png": "[encoded data removed]",
            "text/plain": [
              "<Figure size 432x288 with 1 Axes>"
            ]
          },
          "metadata": {
            "tags": [],
            "needs_background": "light"
          }
        }
      ]
    },
    {
      "cell_type": "code",
      "metadata": {
        "id": "uVVEZj6IgDLk"
      },
      "source": [
        "#preprocessing\n",
        "mnist_train = mnist_train.map(lambda item: (tf.reshape(item['image'], (784,)), item['label']))\\\n",
        "                         .map(lambda x, y: (tf.cast(x, tf.float32)/255., tf.one_hot(y, 10)))\\\n",
        "                         .batch(64)\\\n",
        "                         .prefetch(1)\n",
        "mnist_val = mnist_val.map(lambda item: (tf.reshape(item['image'], (784,)), item['label']))\\\n",
        "                         .map(lambda x, y: (tf.cast(x, tf.float32)/255., tf.one_hot(y, 10)))\\\n",
        "                         .batch(64)"
      ],
      "execution_count": null,
      "outputs": []
    },
    {
      "cell_type": "code",
      "metadata": {
        "id": "fWl6IprqhT82",
        "colab": {
          "base_uri": "https://localhost:8080/"
        },
        "outputId": "d1f67f01-16b0-4374-9473-974e2055095f"
      },
      "source": [
        "mnist_train.element_spec"
      ],
      "execution_count": null,
      "outputs": [
        {
          "output_type": "execute_result",
          "data": {
            "text/plain": [
              "(TensorSpec(shape=(None, 784), dtype=tf.float32, name=None),\n",
              " TensorSpec(shape=(None, 10), dtype=tf.float32, name=None))"
            ]
          },
          "metadata": {
            "tags": []
          },
          "execution_count": 106
        }
      ]
    },
    {
      "cell_type": "code",
      "metadata": {
        "id": "EjvmGROciPp8"
      },
      "source": [
        "#defining the model and compiling it\n",
        "model = Sequential([\n",
        "                    Dense(512, activation='relu', input_shape=(784, )),\n",
        "                    Dense(128, activation='relu'),\n",
        "                    Dense(10, activation='softmax')\n",
        "])\n",
        "\n",
        "model.compile(optimizer='adam', loss='categorical_crossentropy', metrics=['accuracy'])"
      ],
      "execution_count": null,
      "outputs": []
    },
    {
      "cell_type": "code",
      "metadata": {
        "id": "y8jqBb0Zjno9",
        "colab": {
          "base_uri": "https://localhost:8080/"
        },
        "outputId": "7488ceb0-e618-4332-d072-d9c0de14f60e"
      },
      "source": [
        "history = model.fit(x=mnist_train, epochs=5, validation_data=mnist_val)"
      ],
      "execution_count": null,
      "outputs": [
        {
          "output_type": "stream",
          "text": [
            "Epoch 1/5\n",
            "938/938 [==============================] - 5s 5ms/step - loss: 0.2045 - accuracy: 0.9393 - val_loss: 0.1076 - val_accuracy: 0.9688\n",
            "Epoch 2/5\n",
            "938/938 [==============================] - 5s 5ms/step - loss: 0.0799 - accuracy: 0.9757 - val_loss: 0.0828 - val_accuracy: 0.9740\n",
            "Epoch 3/5\n",
            "938/938 [==============================] - 6s 6ms/step - loss: 0.0502 - accuracy: 0.9847 - val_loss: 0.0788 - val_accuracy: 0.9770\n",
            "Epoch 4/5\n",
            "938/938 [==============================] - 5s 5ms/step - loss: 0.0334 - accuracy: 0.9895 - val_loss: 0.1053 - val_accuracy: 0.9668\n",
            "Epoch 5/5\n",
            "938/938 [==============================] - 5s 6ms/step - loss: 0.0261 - accuracy: 0.9916 - val_loss: 0.0743 - val_accuracy: 0.9799\n"
          ],
          "name": "stdout"
        }
      ]
    },
    {
      "cell_type": "code",
      "metadata": {
        "id": "CjSeo6tEjyDk",
        "colab": {
          "base_uri": "https://localhost:8080/",
          "height": 337
        },
        "outputId": "a04f9ff4-72b8-4cec-dcff-b9e59771d4e4"
      },
      "source": [
        "df_hist = pd.DataFrame(history.history)\n",
        "fig, ax = plt.subplots(1, 2, figsize=(14,5))\n",
        "df_hist.plot(y=['loss', 'val_loss'], ax=ax[0])\n",
        "df_hist.plot(y=['accuracy', 'val_accuracy'], ax=ax[1])\n"
      ],
      "execution_count": null,
      "outputs": [
        {
          "output_type": "execute_result",
          "data": {
            "text/plain": [
              "<matplotlib.axes._subplots.AxesSubplot at 0x7f568f264860>"
            ]
          },
          "metadata": {
            "tags": []
          },
          "execution_count": 111
        },
        {
          "output_type": "display_data",
          "data": {
            "image/png": "[encoded data removed]",
            "text/plain": [
              "<Figure size 1008x360 with 2 Axes>"
            ]
          },
          "metadata": {
            "tags": [],
            "needs_background": "light"
          }
        }
      ]
    },
    {
      "cell_type": "markdown",
      "metadata": {
        "id": "MUoEzXYOrh8g"
      },
      "source": [
        "#Transfer Learning\n",
        "\n",
        "Transfer learning is machine learning method that focuses on storing knowledge gained while solving one problem and applying it to a different but related problem (downstream task). <br>\n",
        "We can use the whole/a part of the model, then\n",
        "\n",
        "\n",
        "*   freeze it\n",
        "*   fine-tune it (whole or subset of weights)\n",
        "*   freeze and fine-tune it\n",
        "\n"
      ]
    },
    {
      "cell_type": "markdown",
      "metadata": {
        "id": "XRRa29MHrmaq"
      },
      "source": [
        "##tf.keras.applications\n",
        "\n",
        "tf.keras.applications provides pre-trained models."
      ]
    },
    {
      "cell_type": "code",
      "metadata": {
        "id": "BCeODoUcksPg"
      },
      "source": [
        "from tensorflow.keras.applications import InceptionV3"
      ],
      "execution_count": null,
      "outputs": []
    },
    {
      "cell_type": "code",
      "metadata": {
        "id": "HCyb-h4vsi5Y"
      },
      "source": [
        "#lading the inception model for computer vision and imgae analysis\n",
        "inception_model = InceptionV3(include_top=False, input_shape=(150, 150, 3))"
      ],
      "execution_count": null,
      "outputs": []
    },
    {
      "cell_type": "markdown",
      "metadata": {
        "id": "a58ki3iAt2ui"
      },
      "source": [
        "![inceptionv3.png](data:image/png;base64,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)"
      ]
    },
    {
      "cell_type": "code",
      "metadata": {
        "id": "Do4aTe-ft1JM",
        "colab": {
          "base_uri": "https://localhost:8080/"
        },
        "outputId": "9f91572c-2aa1-4200-caee-ab83b32ab85f"
      },
      "source": [
        "#layers in inception model\n",
        "print([layer.name for layer in inception_model.layers])"
      ],
      "execution_count": null,
      "outputs": [
        {
          "output_type": "stream",
          "text": [
            "['input_4', 'conv2d_94', 'batch_normalization_94', 'activation_94', 'conv2d_95', 'batch_normalization_95', 'activation_95', 'conv2d_96', 'batch_normalization_96', 'activation_96', 'max_pooling2d_4', 'conv2d_97', 'batch_normalization_97', 'activation_97', 'conv2d_98', 'batch_normalization_98', 'activation_98', 'max_pooling2d_5', 'conv2d_102', 'batch_normalization_102', 'activation_102', 'conv2d_100', 'conv2d_103', 'batch_normalization_100', 'batch_normalization_103', 'activation_100', 'activation_103', 'average_pooling2d_9', 'conv2d_99', 'conv2d_101', 'conv2d_104', 'conv2d_105', 'batch_normalization_99', 'batch_normalization_101', 'batch_normalization_104', 'batch_normalization_105', 'activation_99', 'activation_101', 'activation_104', 'activation_105', 'mixed0', 'conv2d_109', 'batch_normalization_109', 'activation_109', 'conv2d_107', 'conv2d_110', 'batch_normalization_107', 'batch_normalization_110', 'activation_107', 'activation_110', 'average_pooling2d_10', 'conv2d_106', 'conv2d_108', 'conv2d_111', 'conv2d_112', 'batch_normalization_106', 'batch_normalization_108', 'batch_normalization_111', 'batch_normalization_112', 'activation_106', 'activation_108', 'activation_111', 'activation_112', 'mixed1', 'conv2d_116', 'batch_normalization_116', 'activation_116', 'conv2d_114', 'conv2d_117', 'batch_normalization_114', 'batch_normalization_117', 'activation_114', 'activation_117', 'average_pooling2d_11', 'conv2d_113', 'conv2d_115', 'conv2d_118', 'conv2d_119', 'batch_normalization_113', 'batch_normalization_115', 'batch_normalization_118', 'batch_normalization_119', 'activation_113', 'activation_115', 'activation_118', 'activation_119', 'mixed2', 'conv2d_121', 'batch_normalization_121', 'activation_121', 'conv2d_122', 'batch_normalization_122', 'activation_122', 'conv2d_120', 'conv2d_123', 'batch_normalization_120', 'batch_normalization_123', 'activation_120', 'activation_123', 'max_pooling2d_6', 'mixed3', 'conv2d_128', 'batch_normalization_128', 'activation_128', 'conv2d_129', 'batch_normalization_129', 'activation_129', 'conv2d_125', 'conv2d_130', 'batch_normalization_125', 'batch_normalization_130', 'activation_125', 'activation_130', 'conv2d_126', 'conv2d_131', 'batch_normalization_126', 'batch_normalization_131', 'activation_126', 'activation_131', 'average_pooling2d_12', 'conv2d_124', 'conv2d_127', 'conv2d_132', 'conv2d_133', 'batch_normalization_124', 'batch_normalization_127', 'batch_normalization_132', 'batch_normalization_133', 'activation_124', 'activation_127', 'activation_132', 'activation_133', 'mixed4', 'conv2d_138', 'batch_normalization_138', 'activation_138', 'conv2d_139', 'batch_normalization_139', 'activation_139', 'conv2d_135', 'conv2d_140', 'batch_normalization_135', 'batch_normalization_140', 'activation_135', 'activation_140', 'conv2d_136', 'conv2d_141', 'batch_normalization_136', 'batch_normalization_141', 'activation_136', 'activation_141', 'average_pooling2d_13', 'conv2d_134', 'conv2d_137', 'conv2d_142', 'conv2d_143', 'batch_normalization_134', 'batch_normalization_137', 'batch_normalization_142', 'batch_normalization_143', 'activation_134', 'activation_137', 'activation_142', 'activation_143', 'mixed5', 'conv2d_148', 'batch_normalization_148', 'activation_148', 'conv2d_149', 'batch_normalization_149', 'activation_149', 'conv2d_145', 'conv2d_150', 'batch_normalization_145', 'batch_normalization_150', 'activation_145', 'activation_150', 'conv2d_146', 'conv2d_151', 'batch_normalization_146', 'batch_normalization_151', 'activation_146', 'activation_151', 'average_pooling2d_14', 'conv2d_144', 'conv2d_147', 'conv2d_152', 'conv2d_153', 'batch_normalization_144', 'batch_normalization_147', 'batch_normalization_152', 'batch_normalization_153', 'activation_144', 'activation_147', 'activation_152', 'activation_153', 'mixed6', 'conv2d_158', 'batch_normalization_158', 'activation_158', 'conv2d_159', 'batch_normalization_159', 'activation_159', 'conv2d_155', 'conv2d_160', 'batch_normalization_155', 'batch_normalization_160', 'activation_155', 'activation_160', 'conv2d_156', 'conv2d_161', 'batch_normalization_156', 'batch_normalization_161', 'activation_156', 'activation_161', 'average_pooling2d_15', 'conv2d_154', 'conv2d_157', 'conv2d_162', 'conv2d_163', 'batch_normalization_154', 'batch_normalization_157', 'batch_normalization_162', 'batch_normalization_163', 'activation_154', 'activation_157', 'activation_162', 'activation_163', 'mixed7', 'conv2d_166', 'batch_normalization_166', 'activation_166', 'conv2d_167', 'batch_normalization_167', 'activation_167', 'conv2d_164', 'conv2d_168', 'batch_normalization_164', 'batch_normalization_168', 'activation_164', 'activation_168', 'conv2d_165', 'conv2d_169', 'batch_normalization_165', 'batch_normalization_169', 'activation_165', 'activation_169', 'max_pooling2d_7', 'mixed8', 'conv2d_174', 'batch_normalization_174', 'activation_174', 'conv2d_171', 'conv2d_175', 'batch_normalization_171', 'batch_normalization_175', 'activation_171', 'activation_175', 'conv2d_172', 'conv2d_173', 'conv2d_176', 'conv2d_177', 'average_pooling2d_16', 'conv2d_170', 'batch_normalization_172', 'batch_normalization_173', 'batch_normalization_176', 'batch_normalization_177', 'conv2d_178', 'batch_normalization_170', 'activation_172', 'activation_173', 'activation_176', 'activation_177', 'batch_normalization_178', 'activation_170', 'mixed9_0', 'concatenate_2', 'activation_178', 'mixed9', 'conv2d_183', 'batch_normalization_183', 'activation_183', 'conv2d_180', 'conv2d_184', 'batch_normalization_180', 'batch_normalization_184', 'activation_180', 'activation_184', 'conv2d_181', 'conv2d_182', 'conv2d_185', 'conv2d_186', 'average_pooling2d_17', 'conv2d_179', 'batch_normalization_181', 'batch_normalization_182', 'batch_normalization_185', 'batch_normalization_186', 'conv2d_187', 'batch_normalization_179', 'activation_181', 'activation_182', 'activation_185', 'activation_186', 'batch_normalization_187', 'activation_179', 'mixed9_1', 'concatenate_3', 'activation_187', 'mixed10']\n"
          ],
          "name": "stdout"
        }
      ]
    },
    {
      "cell_type": "code",
      "metadata": {
        "id": "o1_uGkNJuRSv",
        "colab": {
          "base_uri": "https://localhost:8080/"
        },
        "outputId": "48751503-4b98-442d-ca27-e7adf4d35d3d"
      },
      "source": [
        "#the concatincaton (mixer) layers\n",
        "print([layer.name for layer in inception_model.layers if 'mixed' in layer.name])"
      ],
      "execution_count": null,
      "outputs": [
        {
          "output_type": "stream",
          "text": [
            "['mixed0', 'mixed1', 'mixed2', 'mixed3', 'mixed4', 'mixed5', 'mixed6', 'mixed7', 'mixed8', 'mixed9_0', 'mixed9', 'mixed9_1', 'mixed10']\n"
          ],
          "name": "stdout"
        }
      ]
    },
    {
      "cell_type": "code",
      "metadata": {
        "id": "w3ZPPtF9uyql",
        "colab": {
          "base_uri": "https://localhost:8080/"
        },
        "outputId": "475dc1dd-1a84-487e-ff5a-cabc1c6e97b0"
      },
      "source": [
        "[layer for layer in inception_model.layers if 'mixed' in layer.name]"
      ],
      "execution_count": null,
      "outputs": [
        {
          "output_type": "execute_result",
          "data": {
            "text/plain": [
              "[<tensorflow.python.keras.layers.merge.Concatenate at 0x7f791aaeb0f0>,\n",
              " <tensorflow.python.keras.layers.merge.Concatenate at 0x7f791aa407f0>,\n",
              " <tensorflow.python.keras.layers.merge.Concatenate at 0x7f791a91a160>,\n",
              " <tensorflow.python.keras.layers.merge.Concatenate at 0x7f791a8ad0f0>,\n",
              " <tensorflow.python.keras.layers.merge.Concatenate at 0x7f7917fa5860>,\n",
              " <tensorflow.python.keras.layers.merge.Concatenate at 0x7f7917e560b8>,\n",
              " <tensorflow.python.keras.layers.merge.Concatenate at 0x7f7917d032b0>,\n",
              " <tensorflow.python.keras.layers.merge.Concatenate at 0x7f7917c33160>,\n",
              " <tensorflow.python.keras.layers.merge.Concatenate at 0x7f7917b7cb70>,\n",
              " <tensorflow.python.keras.layers.merge.Concatenate at 0x7f791ace0630>,\n",
              " <tensorflow.python.keras.layers.merge.Concatenate at 0x7f7917a5c048>,\n",
              " <tensorflow.python.keras.layers.merge.Concatenate at 0x7f79179cf240>,\n",
              " <tensorflow.python.keras.layers.merge.Concatenate at 0x7f7917970080>]"
            ]
          },
          "metadata": {
            "tags": []
          },
          "execution_count": 26
        }
      ]
    },
    {
      "cell_type": "code",
      "metadata": {
        "id": "jLghRmvlvCpc"
      },
      "source": [
        "#Freeze the weights\n",
        "for layer in inception_model.layers:\n",
        "  layer.trainable = False"
      ],
      "execution_count": null,
      "outputs": []
    },
    {
      "cell_type": "code",
      "metadata": {
        "id": "N8ALoiBMv-LU"
      },
      "source": [
        "# identifying the last layer we want to use\n",
        "last_layer = inception_model.get_layer(name='mixed5')"
      ],
      "execution_count": null,
      "outputs": []
    },
    {
      "cell_type": "code",
      "metadata": {
        "id": "qjBFliHjwIfV"
      },
      "source": [
        "#Defining a new pre-trained model comprised of first several layers\n",
        "truncated_inception_model = Model(inputs=inception_model.input, outputs=last_layer.output)"
      ],
      "execution_count": null,
      "outputs": []
    },
    {
      "cell_type": "code",
      "metadata": {
        "id": "88bHbymswdmL"
      },
      "source": [
        "from tensorflow.keras.layers import Flatten"
      ],
      "execution_count": null,
      "outputs": []
    },
    {
      "cell_type": "code",
      "metadata": {
        "id": "jwVAqIuCwRyH"
      },
      "source": [
        "#defining our downstream model\n",
        "model = Sequential([\n",
        "                    truncated_inception_model,\n",
        "                    Flatten(),\n",
        "                    Dense(16, activation='relu'),\n",
        "                    Dense(5, activation='softmax')\n",
        "])"
      ],
      "execution_count": null,
      "outputs": []
    },
    {
      "cell_type": "code",
      "metadata": {
        "id": "YdrH-nt-wpKq",
        "colab": {
          "base_uri": "https://localhost:8080/"
        },
        "outputId": "d3c79431-cb01-471f-c258-c8d0f1181fbc"
      },
      "source": [
        "model.summary()"
      ],
      "execution_count": null,
      "outputs": [
        {
          "output_type": "stream",
          "text": [
            "Model: \"sequential_7\"\n",
            "_________________________________________________________________\n",
            "Layer (type)                 Output Shape              Param #   \n",
            "=================================================================\n",
            "functional_5 (Functional)    (None, 7, 7, 768)         5138656   \n",
            "_________________________________________________________________\n",
            "flatten (Flatten)            (None, 37632)             0         \n",
            "_________________________________________________________________\n",
            "dense_18 (Dense)             (None, 16)                602128    \n",
            "_________________________________________________________________\n",
            "dense_19 (Dense)             (None, 5)                 85        \n",
            "=================================================================\n",
            "Total params: 5,740,869\n",
            "Trainable params: 602,213\n",
            "Non-trainable params: 5,138,656\n",
            "_________________________________________________________________\n"
          ],
          "name": "stdout"
        }
      ]
    },
    {
      "cell_type": "markdown",
      "metadata": {
        "id": "SEKDCKTe-mGz"
      },
      "source": [
        "## tensorflow hub\n",
        "\n",
        "tensorflow hub also provides pre-trained models"
      ]
    },
    {
      "cell_type": "code",
      "metadata": {
        "id": "bNQbd4sV-lhU"
      },
      "source": [
        "import tensorflow_hub as hub"
      ],
      "execution_count": null,
      "outputs": []
    },
    {
      "cell_type": "code",
      "metadata": {
        "id": "aHXbOc0dws7v"
      },
      "source": [
        "model_url =\"https://tfhub.dev/google/imagenet/inception_v3/feature_vector/4\""
      ],
      "execution_count": null,
      "outputs": []
    },
    {
      "cell_type": "code",
      "metadata": {
        "id": "8TlEHpPc_qfY"
      },
      "source": [
        "#import the model as a layer\n",
        "inception_layer = hub.KerasLayer(model_url, input_shape=(150, 150, 3), trainable=False)"
      ],
      "execution_count": null,
      "outputs": []
    },
    {
      "cell_type": "code",
      "metadata": {
        "id": "AqYXpb9Y_7Vs"
      },
      "source": [
        "model = Sequential([\n",
        "                    inception_layer,\n",
        "                    Dense(16, activation='relu'),\n",
        "                    Dense(5, activation='softmax')\n",
        "])"
      ],
      "execution_count": null,
      "outputs": []
    },
    {
      "cell_type": "code",
      "metadata": {
        "id": "x2FZ2qeIBAT0",
        "colab": {
          "base_uri": "https://localhost:8080/"
        },
        "outputId": "62a74169-0df2-4e5c-bfa0-69fdccec5c77"
      },
      "source": [
        "model.summary()"
      ],
      "execution_count": null,
      "outputs": [
        {
          "output_type": "stream",
          "text": [
            "Model: \"sequential_2\"\n",
            "_________________________________________________________________\n",
            "Layer (type)                 Output Shape              Param #   \n",
            "=================================================================\n",
            "keras_layer_1 (KerasLayer)   (None, 2048)              21802784  \n",
            "_________________________________________________________________\n",
            "dense_4 (Dense)              (None, 16)                32784     \n",
            "_________________________________________________________________\n",
            "dense_5 (Dense)              (None, 5)                 85        \n",
            "=================================================================\n",
            "Total params: 21,835,653\n",
            "Trainable params: 32,869\n",
            "Non-trainable params: 21,802,784\n",
            "_________________________________________________________________\n"
          ],
          "name": "stdout"
        }
      ]
    },
    {
      "cell_type": "markdown",
      "metadata": {
        "id": "xLQ_bkEyEJzK"
      },
      "source": [
        "# Customized training loop (lower level coding)\n",
        "\n",
        "To have more control over the training phase, we can write customized training loops. <br>\n",
        "<br>\n",
        "\n",
        "Use of tf.function decorator: <br>\n",
        "Compiles a function into a callable TensorFlow graph. constructs a callable that executes a TensorFlow graph (tf.Graph) created by trace-compiling the TensorFlow operations in func, effectively executing func as a TensorFlow graph."
      ]
    },
    {
      "cell_type": "code",
      "metadata": {
        "id": "YnVIKHMCDAxr"
      },
      "source": [
        "from tensorflow.keras.optimizers import Adam\n",
        "from tensorflow.keras.losses import MeanSquaredError"
      ],
      "execution_count": null,
      "outputs": []
    },
    {
      "cell_type": "code",
      "metadata": {
        "id": "Pz63Ou_MEttQ"
      },
      "source": [
        "#defining optimizer and loss\n",
        "opt = Adam()\n",
        "loss = MeanSquaredError()"
      ],
      "execution_count": null,
      "outputs": []
    },
    {
      "cell_type": "code",
      "metadata": {
        "id": "Fg28h5uyFdhL"
      },
      "source": [
        "#defining a function to calculate the loss and gradients in training\n",
        "@tf.function\n",
        "def get_gradients_and_loss(x, y):\n",
        "  with tf.GradientTape() as tape:\n",
        "    y_pred = model(x)\n",
        "    calculated_loss = loss(y, y_pred)\n",
        "    gradients = tape.gradient(calculated_loss, model.trainable_variables)\n",
        "  return gradients, calculated_loss"
      ],
      "execution_count": null,
      "outputs": []
    },
    {
      "cell_type": "code",
      "metadata": {
        "id": "-_oo0TWuGpHB"
      },
      "source": [
        "#defining a function to calculate validation loss\n",
        "@tf.function\n",
        "def get_validation_loss(x, y):\n",
        "  y_pred = model(x)\n",
        "  calculated_loss = loss(y, y_pred)\n",
        "  return calculated_loss"
      ],
      "execution_count": null,
      "outputs": []
    },
    {
      "cell_type": "code",
      "metadata": {
        "id": "Q_pwKtcAIlY3"
      },
      "source": [
        "#Defining the model\n",
        "model = Sequential([\n",
        "                    Dense(32, activation='relu', input_shape=(1,), name='dense1'),\n",
        "                    Dense(16, activation='relu', name='dense2'),\n",
        "                    Dense(1, name='dense3')\n",
        "])"
      ],
      "execution_count": null,
      "outputs": []
    },
    {
      "cell_type": "code",
      "metadata": {
        "id": "6U_gIVCMG42f",
        "colab": {
          "base_uri": "https://localhost:8080/"
        },
        "outputId": "6700bce5-5199-45dd-d4d5-81368907adf0"
      },
      "source": [
        "from tensorflow.keras.metrics import Mean\n",
        "epochs = 10\n",
        "\n",
        "batch_history = []\n",
        "epoch_history = {\n",
        "    'epoch': [],\n",
        "    'loss': [],\n",
        "    'val_loss': []\n",
        "}\n",
        "\n",
        "for epoch in range(epochs):\n",
        "  # Training the model\n",
        "  epoch_train_loss = Mean()\n",
        "\n",
        "  print(f'epoch: {epoch}\\n')\n",
        "\n",
        "  for batch_num, (batch_x, batch_y) in enumerate(train_data):\n",
        "\n",
        "    # calculating the gradients and train loss for the current batch\n",
        "    gradients, train_loss = get_gradients_and_loss(batch_x, batch_y)\n",
        "\n",
        "    # storing train loss for the current batch\n",
        "    batch_history.append(train_loss.numpy())\n",
        "\n",
        "    if batch_num % 20 == 0:\n",
        "      print('batch: ', batch_num, ', loss: ', train_loss.numpy())\n",
        "    \n",
        "    # accumulating and updating the train loss for the current batch \n",
        "    epoch_train_loss(train_loss.numpy())\n",
        "\n",
        "    # updating the weights using the optimizer\n",
        "    opt.apply_gradients(zip(gradients, model.trainable_variables))\n",
        "  \n",
        "  print('epoch train loss: ', epoch_train_loss.result().numpy())\n",
        "\n",
        "  # calculating validation loss\n",
        "  epoch_val_loss = Mean()\n",
        "  for batch_x, batch_y in val_data:\n",
        "    # calculating the validation loss for the current batch\n",
        "    val_loss = get_validation_loss(batch_x, batch_y)\n",
        "\n",
        "    # accumulating and updating the validation loss for the current batch \n",
        "    epoch_val_loss(val_loss.numpy())\n",
        "\n",
        "  print('epoch validation loss: ', epoch_val_loss.result().numpy())\n",
        "\n",
        "  print('\\n')\n",
        "    \n",
        "  # updating the logs\n",
        "  epoch_history['epoch'].append(epoch)\n",
        "  epoch_history['loss'].append(epoch_train_loss.result().numpy())\n",
        "  epoch_history['val_loss'].append(epoch_val_loss.result().numpy())\n"
      ],
      "execution_count": null,
      "outputs": [
        {
          "output_type": "stream",
          "text": [
            "epoch: 0\n",
            "\n",
            "batch:  0 , loss:  6.972942\n",
            "batch:  20 , loss:  2.2927637\n",
            "batch:  40 , loss:  1.814451\n",
            "epoch train loss:  2.6114051\n",
            "epoch validation loss:  2.4407673\n",
            "\n",
            "\n",
            "epoch: 1\n",
            "\n",
            "batch:  0 , loss:  3.9452815\n",
            "batch:  20 , loss:  0.7378671\n",
            "batch:  40 , loss:  0.45958596\n",
            "epoch train loss:  1.1140994\n",
            "epoch validation loss:  1.0662043\n",
            "\n",
            "\n",
            "epoch: 2\n",
            "\n",
            "batch:  0 , loss:  1.4922829\n",
            "batch:  20 , loss:  0.3613758\n",
            "batch:  40 , loss:  0.26125526\n",
            "epoch train loss:  0.5651585\n",
            "epoch validation loss:  0.7741536\n",
            "\n",
            "\n",
            "epoch: 3\n",
            "\n",
            "batch:  0 , loss:  1.0141531\n",
            "batch:  20 , loss:  0.22615783\n",
            "batch:  40 , loss:  0.15688205\n",
            "epoch train loss:  0.3942533\n",
            "epoch validation loss:  0.5938705\n",
            "\n",
            "\n",
            "epoch: 4\n",
            "\n",
            "batch:  0 , loss:  0.74112856\n",
            "batch:  20 , loss:  0.14404635\n",
            "batch:  40 , loss:  0.09761896\n",
            "epoch train loss:  0.28434318\n",
            "epoch validation loss:  0.4673159\n",
            "\n",
            "\n",
            "epoch: 5\n",
            "\n",
            "batch:  0 , loss:  0.54744935\n",
            "batch:  20 , loss:  0.09650321\n",
            "batch:  40 , loss:  0.06921463\n",
            "epoch train loss:  0.21490273\n",
            "epoch validation loss:  0.38245204\n",
            "\n",
            "\n",
            "epoch: 6\n",
            "\n",
            "batch:  0 , loss:  0.4172462\n",
            "batch:  20 , loss:  0.06917444\n",
            "batch:  40 , loss:  0.056008115\n",
            "epoch train loss:  0.17121157\n",
            "epoch validation loss:  0.3232365\n",
            "\n",
            "\n",
            "epoch: 7\n",
            "\n",
            "batch:  0 , loss:  0.32846904\n",
            "batch:  20 , loss:  0.053740896\n",
            "batch:  40 , loss:  0.05040841\n",
            "epoch train loss:  0.14219369\n",
            "epoch validation loss:  0.2805621\n",
            "\n",
            "\n",
            "epoch: 8\n",
            "\n",
            "batch:  0 , loss:  0.26693788\n",
            "batch:  20 , loss:  0.044609603\n",
            "batch:  40 , loss:  0.04676024\n",
            "epoch train loss:  0.12161784\n",
            "epoch validation loss:  0.24818057\n",
            "\n",
            "\n",
            "epoch: 9\n",
            "\n",
            "batch:  0 , loss:  0.22130758\n",
            "batch:  20 , loss:  0.03840644\n",
            "batch:  40 , loss:  0.04212103\n",
            "epoch train loss:  0.10549797\n",
            "epoch validation loss:  0.22206444\n",
            "\n",
            "\n"
          ],
          "name": "stdout"
        }
      ]
    },
    {
      "cell_type": "markdown",
      "metadata": {
        "id": "3y0Ns32mpbFG"
      },
      "source": [
        "#NLP"
      ]
    },
    {
      "cell_type": "markdown",
      "metadata": {
        "id": "FHGGSCnopduj"
      },
      "source": [
        "## data: Sarcasm classification"
      ]
    },
    {
      "cell_type": "code",
      "metadata": {
        "id": "ZtP3rJo_zYYG"
      },
      "source": [
        "pd.set_option('max_colwidth', 200)"
      ],
      "execution_count": null,
      "outputs": []
    },
    {
      "cell_type": "code",
      "metadata": {
        "id": "rcd0AF7RMNzI",
        "colab": {
          "base_uri": "https://localhost:8080/",
          "height": 195
        },
        "outputId": "0fbc037c-06f7-4a9b-ca81-2c139792bc46"
      },
      "source": [
        "df = pd.read_json('Sarcasm_Headlines_Dataset_v2.json', lines=True)\n",
        "df.head()"
      ],
      "execution_count": null,
      "outputs": [
        {
          "output_type": "execute_result",
          "data": {
            "text/html": [
              "<div>\n",
              "<style scoped>\n",
              "    .dataframe tbody tr th:only-of-type {\n",
              "        vertical-align: middle;\n",
              "    }\n",
              "\n",
              "    .dataframe tbody tr th {\n",
              "        vertical-align: top;\n",
              "    }\n",
              "\n",
              "    .dataframe thead th {\n",
              "        text-align: right;\n",
              "    }\n",
              "</style>\n",
              "<table border=\"1\" class=\"dataframe\">\n",
              "  <thead>\n",
              "    <tr style=\"text-align: right;\">\n",
              "      <th></th>\n",
              "      <th>is_sarcastic</th>\n",
              "      <th>headline</th>\n",
              "      <th>article_link</th>\n",
              "    </tr>\n",
              "  </thead>\n",
              "  <tbody>\n",
              "    <tr>\n",
              "      <th>0</th>\n",
              "      <td>1</td>\n",
              "      <td>thirtysomething scientists unveil doomsday clock of hair loss</td>\n",
              "      <td>https://www.theonion.com/thirtysomething-scientists-unveil-doomsday-clock-of-hai-1819586205</td>\n",
              "    </tr>\n",
              "    <tr>\n",
              "      <th>1</th>\n",
              "      <td>0</td>\n",
              "      <td>dem rep. totally nails why congress is falling short on gender, racial equality</td>\n",
              "      <td>https://www.huffingtonpost.com/entry/donna-edwards-inequality_us_57455f7fe4b055bb1170b207</td>\n",
              "    </tr>\n",
              "    <tr>\n",
              "      <th>2</th>\n",
              "      <td>0</td>\n",
              "      <td>eat your veggies: 9 deliciously different recipes</td>\n",
              "      <td>https://www.huffingtonpost.com/entry/eat-your-veggies-9-delici_b_8899742.html</td>\n",
              "    </tr>\n",
              "    <tr>\n",
              "      <th>3</th>\n",
              "      <td>1</td>\n",
              "      <td>inclement weather prevents liar from getting to work</td>\n",
              "      <td>https://local.theonion.com/inclement-weather-prevents-liar-from-getting-to-work-1819576031</td>\n",
              "    </tr>\n",
              "    <tr>\n",
              "      <th>4</th>\n",
              "      <td>1</td>\n",
              "      <td>mother comes pretty close to using word 'streaming' correctly</td>\n",
              "      <td>https://www.theonion.com/mother-comes-pretty-close-to-using-word-streaming-cor-1819575546</td>\n",
              "    </tr>\n",
              "  </tbody>\n",
              "</table>\n",
              "</div>"
            ],
            "text/plain": [
              "   is_sarcastic  ...                                                                                 article_link\n",
              "0             1  ...  https://www.theonion.com/thirtysomething-scientists-unveil-doomsday-clock-of-hai-1819586205\n",
              "1             0  ...    https://www.huffingtonpost.com/entry/donna-edwards-inequality_us_57455f7fe4b055bb1170b207\n",
              "2             0  ...                https://www.huffingtonpost.com/entry/eat-your-veggies-9-delici_b_8899742.html\n",
              "3             1  ...   https://local.theonion.com/inclement-weather-prevents-liar-from-getting-to-work-1819576031\n",
              "4             1  ...    https://www.theonion.com/mother-comes-pretty-close-to-using-word-streaming-cor-1819575546\n",
              "\n",
              "[5 rows x 3 columns]"
            ]
          },
          "metadata": {
            "tags": []
          },
          "execution_count": 31
        }
      ]
    },
    {
      "cell_type": "code",
      "metadata": {
        "id": "3vUxWsdVzx-m",
        "colab": {
          "base_uri": "https://localhost:8080/"
        },
        "outputId": "3c9a7e76-b436-4d24-da35-3f0160e299a7"
      },
      "source": [
        "len(df)"
      ],
      "execution_count": null,
      "outputs": [
        {
          "output_type": "execute_result",
          "data": {
            "text/plain": [
              "28619"
            ]
          },
          "metadata": {
            "tags": []
          },
          "execution_count": 32
        }
      ]
    },
    {
      "cell_type": "markdown",
      "metadata": {
        "id": "OH0h-D9T4Guz"
      },
      "source": [
        "## Preprocessing and Tokenization"
      ]
    },
    {
      "cell_type": "code",
      "metadata": {
        "id": "ZbRkb_hjz5E-"
      },
      "source": [
        "from sklearn.model_selection import train_test_split"
      ],
      "execution_count": null,
      "outputs": []
    },
    {
      "cell_type": "code",
      "metadata": {
        "id": "xOzZ3VYF0OJ2"
      },
      "source": [
        "texts_train, texts_test, y_train, y_test = train_test_split(df['headline'], df['is_sarcastic'], test_size=0.2, random_state=123)"
      ],
      "execution_count": null,
      "outputs": []
    },
    {
      "cell_type": "code",
      "metadata": {
        "id": "LY-v7WMbqzK-"
      },
      "source": [
        "from tensorflow.keras.preprocessing.text import Tokenizer"
      ],
      "execution_count": null,
      "outputs": []
    },
    {
      "cell_type": "code",
      "metadata": {
        "id": "wP-Q9cCKrGvN"
      },
      "source": [
        "tokenizer = Tokenizer(oov_token='<oov>')"
      ],
      "execution_count": null,
      "outputs": []
    },
    {
      "cell_type": "code",
      "metadata": {
        "id": "6944SiFMrMLF"
      },
      "source": [
        "tokenizer.fit_on_texts(texts_train)"
      ],
      "execution_count": null,
      "outputs": []
    },
    {
      "cell_type": "code",
      "metadata": {
        "id": "Z0vw9W-SsZgU",
        "colab": {
          "base_uri": "https://localhost:8080/"
        },
        "outputId": "cd42a822-c0c6-438d-f735-65d4c1968d4d"
      },
      "source": [
        "tokenizer.index_word"
      ],
      "execution_count": null,
      "outputs": [
        {
          "output_type": "execute_result",
          "data": {
            "text/plain": [
              "{1: '<oov>',\n",
              " 2: 'to',\n",
              " 3: 'of',\n",
              " 4: 'the',\n",
              " 5: 'in',\n",
              " 6: 'for',\n",
              " 7: 'a',\n",
              " 8: 'on',\n",
              " 9: 'and',\n",
              " 10: 'with',\n",
              " 11: 'is',\n",
              " 12: 'new',\n",
              " 13: 'trump',\n",
              " 14: 'man',\n",
              " 15: 'from',\n",
              " 16: 'at',\n",
              " 17: 'about',\n",
              " 18: 'by',\n",
              " 19: 'after',\n",
              " 20: 'you',\n",
              " 21: 'this',\n",
              " 22: 'up',\n",
              " 23: 'out',\n",
              " 24: 'as',\n",
              " 25: 'be',\n",
              " 26: 'that',\n",
              " 27: 'it',\n",
              " 28: 'how',\n",
              " 29: 'not',\n",
              " 30: 'he',\n",
              " 31: 'are',\n",
              " 32: 'your',\n",
              " 33: 'his',\n",
              " 34: 'just',\n",
              " 35: 'what',\n",
              " 36: 'who',\n",
              " 37: 'has',\n",
              " 38: 'all',\n",
              " 39: 'report',\n",
              " 40: 'into',\n",
              " 41: 'will',\n",
              " 42: 'more',\n",
              " 43: 'one',\n",
              " 44: 'year',\n",
              " 45: 'have',\n",
              " 46: 'why',\n",
              " 47: 'u',\n",
              " 48: 'over',\n",
              " 49: 'woman',\n",
              " 50: 'day',\n",
              " 51: 's',\n",
              " 52: 'area',\n",
              " 53: 'donald',\n",
              " 54: 'first',\n",
              " 55: 'time',\n",
              " 56: 'says',\n",
              " 57: 'can',\n",
              " 58: 'like',\n",
              " 59: 'get',\n",
              " 60: \"trump's\",\n",
              " 61: 'off',\n",
              " 62: 'no',\n",
              " 63: 'her',\n",
              " 64: 'old',\n",
              " 65: 'now',\n",
              " 66: 'people',\n",
              " 67: \"'\",\n",
              " 68: 'life',\n",
              " 69: 'an',\n",
              " 70: 'obama',\n",
              " 71: 'house',\n",
              " 72: 'still',\n",
              " 73: 'white',\n",
              " 74: 'was',\n",
              " 75: 'back',\n",
              " 76: 'make',\n",
              " 77: 'than',\n",
              " 78: 'down',\n",
              " 79: 'women',\n",
              " 80: 'if',\n",
              " 81: 'i',\n",
              " 82: '5',\n",
              " 83: 'they',\n",
              " 84: 'clinton',\n",
              " 85: 'their',\n",
              " 86: 'him',\n",
              " 87: 'my',\n",
              " 88: 'could',\n",
              " 89: 'when',\n",
              " 90: 'americans',\n",
              " 91: 'before',\n",
              " 92: 'world',\n",
              " 93: 'family',\n",
              " 94: 'way',\n",
              " 95: 'study',\n",
              " 96: 'do',\n",
              " 97: 'would',\n",
              " 98: 'we',\n",
              " 99: 'most',\n",
              " 100: 'being',\n",
              " 101: 'gop',\n",
              " 102: 'bill',\n",
              " 103: 'school',\n",
              " 104: 'only',\n",
              " 105: 'finds',\n",
              " 106: 'she',\n",
              " 107: 'american',\n",
              " 108: \"it's\",\n",
              " 109: 'black',\n",
              " 110: 'really',\n",
              " 111: 'should',\n",
              " 112: 'years',\n",
              " 113: \"can't\",\n",
              " 114: 'best',\n",
              " 115: '3',\n",
              " 116: 'know',\n",
              " 117: 'watch',\n",
              " 118: 'nation',\n",
              " 119: 'police',\n",
              " 120: 'during',\n",
              " 121: 'but',\n",
              " 122: 'so',\n",
              " 123: 'last',\n",
              " 124: 'going',\n",
              " 125: 'home',\n",
              " 126: 'president',\n",
              " 127: '10',\n",
              " 128: 'or',\n",
              " 129: 'state',\n",
              " 130: 'video',\n",
              " 131: 'good',\n",
              " 132: 'every',\n",
              " 133: 'health',\n",
              " 134: 'death',\n",
              " 135: 'show',\n",
              " 136: 'against',\n",
              " 137: 'campaign',\n",
              " 138: '2',\n",
              " 139: 'big',\n",
              " 140: 'say',\n",
              " 141: 'hillary',\n",
              " 142: 'work',\n",
              " 143: 'love',\n",
              " 144: 'things',\n",
              " 145: 'may',\n",
              " 146: 'getting',\n",
              " 147: 'party',\n",
              " 148: 'while',\n",
              " 149: 'mom',\n",
              " 150: 'right',\n",
              " 151: \"'the\",\n",
              " 152: 'some',\n",
              " 153: '000',\n",
              " 154: 'too',\n",
              " 155: 'need',\n",
              " 156: 'self',\n",
              " 157: 'news',\n",
              " 158: 'kids',\n",
              " 159: 'high',\n",
              " 160: 'never',\n",
              " 161: 'where',\n",
              " 162: 'gets',\n",
              " 163: 'little',\n",
              " 164: 'makes',\n",
              " 165: 'child',\n",
              " 166: 'through',\n",
              " 167: 'parents',\n",
              " 168: 'john',\n",
              " 169: 'take',\n",
              " 170: \"doesn't\",\n",
              " 171: 'court',\n",
              " 172: 'dead',\n",
              " 173: 'change',\n",
              " 174: 'other',\n",
              " 175: 'our',\n",
              " 176: 'calls',\n",
              " 177: 'stop',\n",
              " 178: 'look',\n",
              " 179: 'local',\n",
              " 180: 'election',\n",
              " 181: 'these',\n",
              " 182: \"don't\",\n",
              " 183: 'around',\n",
              " 184: 'america',\n",
              " 185: 'gay',\n",
              " 186: 'real',\n",
              " 187: 'next',\n",
              " 188: \"he's\",\n",
              " 189: 'takes',\n",
              " 190: 'own',\n",
              " 191: 'see',\n",
              " 192: 'go',\n",
              " 193: '4',\n",
              " 194: 'want',\n",
              " 195: \"nation's\",\n",
              " 196: 'again',\n",
              " 197: 'even',\n",
              " 198: 'debate',\n",
              " 199: '7',\n",
              " 200: 'its',\n",
              " 201: 'another',\n",
              " 202: 'war',\n",
              " 203: \"here's\",\n",
              " 204: 'million',\n",
              " 205: 'dog',\n",
              " 206: 'baby',\n",
              " 207: 'week',\n",
              " 208: 'guy',\n",
              " 209: 'office',\n",
              " 210: 'them',\n",
              " 211: 'sex',\n",
              " 212: 'made',\n",
              " 213: 'long',\n",
              " 214: 'ever',\n",
              " 215: 'finally',\n",
              " 216: 'college',\n",
              " 217: 'plan',\n",
              " 218: 'bush',\n",
              " 219: 'announces',\n",
              " 220: 'couple',\n",
              " 221: 'thing',\n",
              " 222: '6',\n",
              " 223: 'been',\n",
              " 224: 'job',\n",
              " 225: 'wants',\n",
              " 226: 'dad',\n",
              " 227: 'got',\n",
              " 228: 'help',\n",
              " 229: 'trying',\n",
              " 230: 'shows',\n",
              " 231: 'two',\n",
              " 232: 'care',\n",
              " 233: 'better',\n",
              " 234: 'night',\n",
              " 235: 'reveals',\n",
              " 236: '1',\n",
              " 237: 'under',\n",
              " 238: 'us',\n",
              " 239: 'senate',\n",
              " 240: 'live',\n",
              " 241: 'facebook',\n",
              " 242: 'much',\n",
              " 243: 'gun',\n",
              " 244: 'star',\n",
              " 245: 'law',\n",
              " 246: \"won't\",\n",
              " 247: 'climate',\n",
              " 248: 'season',\n",
              " 249: '8',\n",
              " 250: \"man's\",\n",
              " 251: 'paul',\n",
              " 252: 'there',\n",
              " 253: 'north',\n",
              " 254: 'congress',\n",
              " 255: 'had',\n",
              " 256: 'give',\n",
              " 257: 'anti',\n",
              " 258: 'national',\n",
              " 259: 'actually',\n",
              " 260: 'end',\n",
              " 261: 'top',\n",
              " 262: 'children',\n",
              " 263: '9',\n",
              " 264: 'away',\n",
              " 265: 'without',\n",
              " 266: 'shooting',\n",
              " 267: 'sexual',\n",
              " 268: 'fight',\n",
              " 269: 'god',\n",
              " 270: 'ways',\n",
              " 271: 'movie',\n",
              " 272: 'food',\n",
              " 273: 'money',\n",
              " 274: 'son',\n",
              " 275: 'media',\n",
              " 276: 'game',\n",
              " 277: 'york',\n",
              " 278: 'students',\n",
              " 279: 'any',\n",
              " 280: 'everyone',\n",
              " 281: 'story',\n",
              " 282: 'bad',\n",
              " 283: '20',\n",
              " 284: 'business',\n",
              " 285: 'city',\n",
              " 286: 'friend',\n",
              " 287: 'face',\n",
              " 288: 'introduces',\n",
              " 289: 'history',\n",
              " 290: 'company',\n",
              " 291: 'teen',\n",
              " 292: 'friends',\n",
              " 293: 'pope',\n",
              " 294: 'making',\n",
              " 295: 'supreme',\n",
              " 296: 'single',\n",
              " 297: 'attack',\n",
              " 298: '11',\n",
              " 299: 'great',\n",
              " 300: 'body',\n",
              " 301: 'sanders',\n",
              " 302: 'think',\n",
              " 303: 'tell',\n",
              " 304: 'enough',\n",
              " 305: 'find',\n",
              " 306: 'me',\n",
              " 307: 'republican',\n",
              " 308: 'fire',\n",
              " 309: 'line',\n",
              " 310: 'men',\n",
              " 311: 'free',\n",
              " 312: 'already',\n",
              " 313: 'releases',\n",
              " 314: 'part',\n",
              " 315: 'second',\n",
              " 316: 'same',\n",
              " 317: 'middle',\n",
              " 318: 'government',\n",
              " 319: 'use',\n",
              " 320: 'book',\n",
              " 321: 'entire',\n",
              " 322: 'social',\n",
              " 323: 'run',\n",
              " 324: 'tv',\n",
              " 325: 'power',\n",
              " 326: 'talk',\n",
              " 327: 'does',\n",
              " 328: 'case',\n",
              " 329: 'pretty',\n",
              " 330: 'girl',\n",
              " 331: 'support',\n",
              " 332: 'deal',\n",
              " 333: 'found',\n",
              " 334: 'keep',\n",
              " 335: 'full',\n",
              " 336: 'presidential',\n",
              " 337: 'behind',\n",
              " 338: \"didn't\",\n",
              " 339: 'room',\n",
              " 340: 'former',\n",
              " 341: 'film',\n",
              " 342: 'must',\n",
              " 343: 'unveils',\n",
              " 344: 'looking',\n",
              " 345: 'ceo',\n",
              " 346: 'name',\n",
              " 347: 'public',\n",
              " 348: 'photos',\n",
              " 349: 'open',\n",
              " 350: 'voters',\n",
              " 351: 'forced',\n",
              " 352: 'scientists',\n",
              " 353: 'car',\n",
              " 354: 'because',\n",
              " 355: 'human',\n",
              " 356: 'between',\n",
              " 357: 'come',\n",
              " 358: 'fans',\n",
              " 359: 'female',\n",
              " 360: 'vote',\n",
              " 361: 'morning',\n",
              " 362: 'speech',\n",
              " 363: 'win',\n",
              " 364: 'claims',\n",
              " 365: 'coming',\n",
              " 366: 'wedding',\n",
              " 367: 'used',\n",
              " 368: 'email',\n",
              " 369: 'thinks',\n",
              " 370: '12',\n",
              " 371: 'security',\n",
              " 372: 'having',\n",
              " 373: 'bernie',\n",
              " 374: 'might',\n",
              " 375: 'group',\n",
              " 376: 'tax',\n",
              " 377: 'fucking',\n",
              " 378: 'twitter',\n",
              " 379: 'james',\n",
              " 380: 'many',\n",
              " 381: 'secret',\n",
              " 382: 'doing',\n",
              " 383: 'ban',\n",
              " 384: 'christmas',\n",
              " 385: 'once',\n",
              " 386: 'future',\n",
              " 387: 'past',\n",
              " 388: 'something',\n",
              " 389: 'violence',\n",
              " 390: 'call',\n",
              " 391: 'student',\n",
              " 392: 'admits',\n",
              " 393: 'running',\n",
              " 394: 'reports',\n",
              " 395: 'democrats',\n",
              " 396: '2016',\n",
              " 397: 'rights',\n",
              " 398: 'asks',\n",
              " 399: 'teacher',\n",
              " 400: 'sure',\n",
              " 401: 'ad',\n",
              " 402: 'person',\n",
              " 403: 'goes',\n",
              " 404: 'until',\n",
              " 405: \"world's\",\n",
              " 406: 'inside',\n",
              " 407: 'class',\n",
              " 408: 'always',\n",
              " 409: 'republicans',\n",
              " 410: 'team',\n",
              " 411: 'killed',\n",
              " 412: 'very',\n",
              " 413: 'minutes',\n",
              " 414: 'poll',\n",
              " 415: 'super',\n",
              " 416: 'red',\n",
              " 417: 'political',\n",
              " 418: 'wife',\n",
              " 419: 'warns',\n",
              " 420: 'country',\n",
              " 421: 'photo',\n",
              " 422: 'each',\n",
              " 423: 'dies',\n",
              " 424: 'tells',\n",
              " 425: 'perfect',\n",
              " 426: 'michael',\n",
              " 427: 'control',\n",
              " 428: 'missing',\n",
              " 429: 'meet',\n",
              " 430: 'post',\n",
              " 431: 'eating',\n",
              " 432: 'department',\n",
              " 433: 'candidate',\n",
              " 434: 'judge',\n",
              " 435: 'were',\n",
              " 436: 'put',\n",
              " 437: 'water',\n",
              " 438: 'idea',\n",
              " 439: 'boy',\n",
              " 440: '15',\n",
              " 441: 'ryan',\n",
              " 442: 'race',\n",
              " 443: 'left',\n",
              " 444: 'did',\n",
              " 445: 'working',\n",
              " 446: 'father',\n",
              " 447: 'living',\n",
              " 448: 'service',\n",
              " 449: 'record',\n",
              " 450: 'thought',\n",
              " 451: 'days',\n",
              " 452: 'art',\n",
              " 453: 'taking',\n",
              " 454: 'gives',\n",
              " 455: 'together',\n",
              " 456: 'shot',\n",
              " 457: 'summer',\n",
              " 458: 'iran',\n",
              " 459: 'russia',\n",
              " 460: 'secretary',\n",
              " 461: '30',\n",
              " 462: 'music',\n",
              " 463: 'everything',\n",
              " 464: 'pay',\n",
              " 465: 'hours',\n",
              " 466: 'set',\n",
              " 467: 'thousands',\n",
              " 468: 'believe',\n",
              " 469: 'employee',\n",
              " 470: \"she's\",\n",
              " 471: 'isis',\n",
              " 472: '50',\n",
              " 473: 'plans',\n",
              " 474: 'shit',\n",
              " 475: 'ready',\n",
              " 476: 'month',\n",
              " 477: 'justice',\n",
              " 478: 'cruz',\n",
              " 479: 'list',\n",
              " 480: 'breaking',\n",
              " 481: 'times',\n",
              " 482: 'talks',\n",
              " 483: 'mike',\n",
              " 484: 'looks',\n",
              " 485: 'obamacare',\n",
              " 486: 'ice',\n",
              " 487: 'wrong',\n",
              " 488: 'here',\n",
              " 489: 'marriage',\n",
              " 490: 'owner',\n",
              " 491: 'ex',\n",
              " 492: 'head',\n",
              " 493: 'korea',\n",
              " 494: 'cancer',\n",
              " 495: 'mother',\n",
              " 496: 'states',\n",
              " 497: 'young',\n",
              " 498: 'prison',\n",
              " 499: 'king',\n",
              " 500: 'needs',\n",
              " 501: 'chief',\n",
              " 502: 'phone',\n",
              " 503: 'wall',\n",
              " 504: 'system',\n",
              " 505: 'few',\n",
              " 506: 'biden',\n",
              " 507: 'nuclear',\n",
              " 508: 'town',\n",
              " 509: 'george',\n",
              " 510: 'lives',\n",
              " 511: 'yet',\n",
              " 512: 'meeting',\n",
              " 513: 'probably',\n",
              " 514: 'start',\n",
              " 515: 'hot',\n",
              " 516: 'place',\n",
              " 517: \"you're\",\n",
              " 518: 'kim',\n",
              " 519: 'california',\n",
              " 520: 'watching',\n",
              " 521: 'personal',\n",
              " 522: 'sleep',\n",
              " 523: \"i'm\",\n",
              " 524: 'street',\n",
              " 525: 'let',\n",
              " 526: 'wearing',\n",
              " 527: \"'i\",\n",
              " 528: 'kill',\n",
              " 529: 'small',\n",
              " 530: 'dream',\n",
              " 531: 'excited',\n",
              " 532: 'daughter',\n",
              " 533: 'democratic',\n",
              " 534: 'save',\n",
              " 535: \"women's\",\n",
              " 536: 'texas',\n",
              " 537: 'someone',\n",
              " 538: 'crisis',\n",
              " 539: 'drug',\n",
              " 540: 'heart',\n",
              " 541: 'age',\n",
              " 542: 'third',\n",
              " 543: 'lost',\n",
              " 544: 'cat',\n",
              " 545: 'education',\n",
              " 546: 'tweets',\n",
              " 547: 'leave',\n",
              " 548: 'comes',\n",
              " 549: 'bar',\n",
              " 550: 'leaves',\n",
              " 551: 'fan',\n",
              " 552: 'three',\n",
              " 553: 'letter',\n",
              " 554: 'giving',\n",
              " 555: 'girlfriend',\n",
              " 556: 'officials',\n",
              " 557: 'online',\n",
              " 558: 'hard',\n",
              " 559: 'restaurant',\n",
              " 560: 'minute',\n",
              " 561: 'francis',\n",
              " 562: 'military',\n",
              " 563: 'south',\n",
              " 564: 'tips',\n",
              " 565: 'attacks',\n",
              " 566: 'fbi',\n",
              " 567: 'feel',\n",
              " 568: 'fox',\n",
              " 569: 'rise',\n",
              " 570: 'move',\n",
              " 571: 'air',\n",
              " 572: 'half',\n",
              " 573: 'months',\n",
              " 574: 'today',\n",
              " 575: 'mark',\n",
              " 576: 'congressman',\n",
              " 577: 'kid',\n",
              " 578: 'mueller',\n",
              " 579: 'series',\n",
              " 580: 'majority',\n",
              " 581: 'rules',\n",
              " 582: 'read',\n",
              " 583: 'issues',\n",
              " 584: 'david',\n",
              " 585: 'wins',\n",
              " 586: 'chris',\n",
              " 587: 'outside',\n",
              " 588: 'hollywood',\n",
              " 589: 'ted',\n",
              " 590: 'nothing',\n",
              " 591: 'community',\n",
              " 592: 'florida',\n",
              " 593: 'buy',\n",
              " 594: 'federal',\n",
              " 595: 'hit',\n",
              " 596: 'lot',\n",
              " 597: 'earth',\n",
              " 598: 'talking',\n",
              " 599: 'order',\n",
              " 600: 'stephen',\n",
              " 601: 'washington',\n",
              " 602: 'told',\n",
              " 603: 'using',\n",
              " 604: 'word',\n",
              " 605: 'following',\n",
              " 606: 'internet',\n",
              " 607: 'rock',\n",
              " 608: 'fun',\n",
              " 609: 'special',\n",
              " 610: 'latest',\n",
              " 611: 'well',\n",
              " 612: 'huge',\n",
              " 613: 'romney',\n",
              " 614: 'thinking',\n",
              " 615: 'holiday',\n",
              " 616: 'investigation',\n",
              " 617: 'administration',\n",
              " 618: 'knows',\n",
              " 619: 'store',\n",
              " 620: 'travel',\n",
              " 621: 'protest',\n",
              " 622: 't',\n",
              " 623: 'birthday',\n",
              " 624: 'percent',\n",
              " 625: 'hour',\n",
              " 626: 'questions',\n",
              " 627: 'fall',\n",
              " 628: 'gift',\n",
              " 629: 'stars',\n",
              " 630: 'march',\n",
              " 631: 'hands',\n",
              " 632: 'candidates',\n",
              " 633: 'scott',\n",
              " 634: 'birth',\n",
              " 635: 'director',\n",
              " 636: 'muslim',\n",
              " 637: 'waiting',\n",
              " 638: 'front',\n",
              " 639: 'those',\n",
              " 640: 'hate',\n",
              " 641: \"what's\",\n",
              " 642: 'play',\n",
              " 643: 'die',\n",
              " 644: 'since',\n",
              " 645: 'celebrates',\n",
              " 646: 'problem',\n",
              " 647: 'oil',\n",
              " 648: 'words',\n",
              " 649: 'abortion',\n",
              " 650: 'cop',\n",
              " 651: 'kind',\n",
              " 652: '40',\n",
              " 653: 'called',\n",
              " 654: 'offers',\n",
              " 655: 'relationship',\n",
              " 656: 'happy',\n",
              " 657: 'across',\n",
              " 658: '2015',\n",
              " 659: 'point',\n",
              " 660: 'beautiful',\n",
              " 661: 'worried',\n",
              " 662: 'driving',\n",
              " 663: 'cover',\n",
              " 664: 'trip',\n",
              " 665: 'assault',\n",
              " 666: 'response',\n",
              " 667: 'accused',\n",
              " 668: 'visit',\n",
              " 669: 'less',\n",
              " 670: 'guide',\n",
              " 671: 'chinese',\n",
              " 672: 'whole',\n",
              " 673: 'immigration',\n",
              " 674: 'himself',\n",
              " 675: 'huffpost',\n",
              " 676: 'drunk',\n",
              " 677: 'pence',\n",
              " 678: 'china',\n",
              " 679: 'leaders',\n",
              " 680: 'jr',\n",
              " 681: 'sign',\n",
              " 682: 'straight',\n",
              " 683: 'adds',\n",
              " 684: 'role',\n",
              " 685: 'syria',\n",
              " 686: 'favorite',\n",
              " 687: 'discover',\n",
              " 688: 'late',\n",
              " 689: 'mass',\n",
              " 690: 'un',\n",
              " 691: 'al',\n",
              " 692: 'russian',\n",
              " 693: '100',\n",
              " 694: 'millions',\n",
              " 695: 'hoping',\n",
              " 696: 'girls',\n",
              " 697: 'center',\n",
              " 698: 'adorable',\n",
              " 699: 'spends',\n",
              " 700: 'struggling',\n",
              " 701: 'west',\n",
              " 702: 'reason',\n",
              " 703: 'employees',\n",
              " 704: \"isn't\",\n",
              " 705: 'fashion',\n",
              " 706: \"america's\",\n",
              " 707: 'anything',\n",
              " 708: \"obama's\",\n",
              " 709: 'cops',\n",
              " 710: 'c',\n",
              " 711: 'turns',\n",
              " 712: 'united',\n",
              " 713: 'hair',\n",
              " 714: 'completely',\n",
              " 715: 'non',\n",
              " 716: 'worst',\n",
              " 717: 'names',\n",
              " 718: 'victims',\n",
              " 719: 'murder',\n",
              " 720: 'apple',\n",
              " 721: 'different',\n",
              " 722: 'taylor',\n",
              " 723: 'dating',\n",
              " 724: 'message',\n",
              " 725: 'returns',\n",
              " 726: 'moment',\n",
              " 727: 'date',\n",
              " 728: 'politics',\n",
              " 729: 'jimmy',\n",
              " 730: 'global',\n",
              " 731: 'far',\n",
              " 732: 'lead',\n",
              " 733: 'union',\n",
              " 734: 'stage',\n",
              " 735: 'powerful',\n",
              " 736: 'risk',\n",
              " 737: 'experts',\n",
              " 738: 'begins',\n",
              " 739: 'key',\n",
              " 740: 'break',\n",
              " 741: 'data',\n",
              " 742: 'totally',\n",
              " 743: 'dance',\n",
              " 744: 'keeps',\n",
              " 745: 'ask',\n",
              " 746: 'stand',\n",
              " 747: 'true',\n",
              " 748: 'bring',\n",
              " 749: 'iraq',\n",
              " 750: 'k',\n",
              " 751: 'leader',\n",
              " 752: 'lessons',\n",
              " 753: 'light',\n",
              " 754: 'robert',\n",
              " 755: 'chance',\n",
              " 756: 'seen',\n",
              " 757: 'killing',\n",
              " 758: 'host',\n",
              " 759: 'sick',\n",
              " 760: 'vows',\n",
              " 761: 'moving',\n",
              " 762: \"they're\",\n",
              " 763: 'abuse',\n",
              " 764: 'song',\n",
              " 765: 'weird',\n",
              " 766: 'reality',\n",
              " 767: 'feels',\n",
              " 768: 'apartment',\n",
              " 769: 'prince',\n",
              " 770: 'reasons',\n",
              " 771: 'sports',\n",
              " 772: 'steve',\n",
              " 773: 'wishes',\n",
              " 774: 'weekend',\n",
              " 775: 'massive',\n",
              " 776: 'interview',\n",
              " 777: 'least',\n",
              " 778: '13',\n",
              " 779: 'users',\n",
              " 780: 'workers',\n",
              " 781: 'university',\n",
              " 782: 'return',\n",
              " 783: 'j',\n",
              " 784: 'schools',\n",
              " 785: 'starting',\n",
              " 786: 'oscar',\n",
              " 787: 'band',\n",
              " 788: 'almost',\n",
              " 789: 'box',\n",
              " 790: 'breaks',\n",
              " 791: \"there's\",\n",
              " 792: 'test',\n",
              " 793: 'lgbt',\n",
              " 794: 'hope',\n",
              " 795: 'church',\n",
              " 796: 'industry',\n",
              " 797: 'planned',\n",
              " 798: 'awards',\n",
              " 799: 'signs',\n",
              " 800: 'conversation',\n",
              " 801: 'decision',\n",
              " 802: 'advice',\n",
              " 803: 'joe',\n",
              " 804: 'trailer',\n",
              " 805: 'opens',\n",
              " 806: 'biggest',\n",
              " 807: 'whether',\n",
              " 808: 'demands',\n",
              " 809: 'mental',\n",
              " 810: 'hand',\n",
              " 811: 'surprise',\n",
              " 812: 'low',\n",
              " 813: 'learned',\n",
              " 814: 'early',\n",
              " 815: 'bus',\n",
              " 816: 'turn',\n",
              " 817: 'anniversary',\n",
              " 818: 'near',\n",
              " 819: 'nfl',\n",
              " 820: 'doctor',\n",
              " 821: 'fuck',\n",
              " 822: 'policy',\n",
              " 823: 'fear',\n",
              " 824: 'career',\n",
              " 825: 'table',\n",
              " 826: 'cool',\n",
              " 827: 'press',\n",
              " 828: 'dying',\n",
              " 829: 'chicago',\n",
              " 830: 'clearly',\n",
              " 831: 'general',\n",
              " 832: 'bowl',\n",
              " 833: 'important',\n",
              " 834: 'onion',\n",
              " 835: 'elizabeth',\n",
              " 836: 'hits',\n",
              " 837: 'number',\n",
              " 838: 'try',\n",
              " 839: 'dinner',\n",
              " 840: 'pregnant',\n",
              " 841: 'billion',\n",
              " 842: 'playing',\n",
              " 843: 'audience',\n",
              " 844: 'supporters',\n",
              " 845: 'become',\n",
              " 846: 'senator',\n",
              " 847: 'kardashian',\n",
              " 848: 'iowa',\n",
              " 849: 'learn',\n",
              " 850: 'crime',\n",
              " 851: 'transgender',\n",
              " 852: 'puts',\n",
              " 853: 'style',\n",
              " 854: 'coworker',\n",
              " 855: 'hurricane',\n",
              " 856: 'question',\n",
              " 857: 'coffee',\n",
              " 858: 'program',\n",
              " 859: 'hospital',\n",
              " 860: 'mind',\n",
              " 861: 'voting',\n",
              " 862: 'feeling',\n",
              " 863: 'peace',\n",
              " 864: 'moore',\n",
              " 865: 'oscars',\n",
              " 866: 'amazon',\n",
              " 867: 'space',\n",
              " 868: 'defense',\n",
              " 869: 'demand',\n",
              " 870: 'address',\n",
              " 871: 'announce',\n",
              " 872: 'building',\n",
              " 873: 'anyone',\n",
              " 874: 'members',\n",
              " 875: 'went',\n",
              " 876: '2017',\n",
              " 877: 'staff',\n",
              " 878: 'picture',\n",
              " 879: 'hall',\n",
              " 880: 'experience',\n",
              " 881: 'trans',\n",
              " 882: 'sound',\n",
              " 883: 'cnn',\n",
              " 884: 'apparently',\n",
              " 885: 'grandma',\n",
              " 886: 'side',\n",
              " 887: 'accidentally',\n",
              " 888: 'card',\n",
              " 889: 'd',\n",
              " 890: 'five',\n",
              " 891: 'protesters',\n",
              " 892: 'train',\n",
              " 893: 'final',\n",
              " 894: 'football',\n",
              " 895: 'hear',\n",
              " 896: 'boys',\n",
              " 897: 'moms',\n",
              " 898: 'road',\n",
              " 899: 'success',\n",
              " 900: 'guest',\n",
              " 901: 'shop',\n",
              " 902: 'voice',\n",
              " 903: 'easy',\n",
              " 904: 'passes',\n",
              " 905: 'crowd',\n",
              " 906: 'official',\n",
              " 907: 'hearing',\n",
              " 908: 'suicide',\n",
              " 909: 'check',\n",
              " 910: 'blood',\n",
              " 911: 'suggests',\n",
              " 912: 'jeff',\n",
              " 913: 'push',\n",
              " 914: 'reveal',\n",
              " 915: 'uses',\n",
              " 916: 'reform',\n",
              " 917: 'door',\n",
              " 918: 'remember',\n",
              " 919: 'reporter',\n",
              " 920: 'episode',\n",
              " 921: 'died',\n",
              " 922: 'saudi',\n",
              " 923: 'queer',\n",
              " 924: 'executive',\n",
              " 925: 'weight',\n",
              " 926: 'reportedly',\n",
              " 927: 'governor',\n",
              " 928: 'park',\n",
              " 929: 'israel',\n",
              " 930: 'finding',\n",
              " 931: 'rest',\n",
              " 932: 'officer',\n",
              " 933: 'proud',\n",
              " 934: 'apologizes',\n",
              " 935: 'hopes',\n",
              " 936: 'pick',\n",
              " 937: 'which',\n",
              " 938: 'jobs',\n",
              " 939: 'cut',\n",
              " 940: 'walking',\n",
              " 941: 'major',\n",
              " 942: 'toward',\n",
              " 943: 'tom',\n",
              " 944: 'possible',\n",
              " 945: 'album',\n",
              " 946: 'throws',\n",
              " 947: 'ben',\n",
              " 948: 'act',\n",
              " 949: 'lgbtq',\n",
              " 950: 'kills',\n",
              " 951: 'avoid',\n",
              " 952: 'perfectly',\n",
              " 953: 'syrian',\n",
              " 954: 'teens',\n",
              " 955: 'dozens',\n",
              " 956: 'learning',\n",
              " 957: 'longer',\n",
              " 958: 'urges',\n",
              " 959: 'suspect',\n",
              " 960: 'allegations',\n",
              " 961: 'leads',\n",
              " 962: '25',\n",
              " 963: 'close',\n",
              " 964: '18',\n",
              " 965: 'magazine',\n",
              " 966: 'male',\n",
              " 967: 'private',\n",
              " 968: 'pizza',\n",
              " 969: 'also',\n",
              " 970: 'performance',\n",
              " 971: 'homeless',\n",
              " 972: 'beauty',\n",
              " 973: 'driver',\n",
              " 974: 'evidence',\n",
              " 975: 'fails',\n",
              " 976: 'force',\n",
              " 977: '14',\n",
              " 978: 'halloween',\n",
              " 979: 'chicken',\n",
              " 980: 'ideas',\n",
              " 981: 'given',\n",
              " 982: 'ebola',\n",
              " 983: 'harassment',\n",
              " 984: 'epa',\n",
              " 985: 'paris',\n",
              " 986: 'racist',\n",
              " 987: 'spot',\n",
              " 988: 'green',\n",
              " 989: 'poor',\n",
              " 990: 'rubio',\n",
              " 991: 'tour',\n",
              " 992: 'mayor',\n",
              " 993: 'humans',\n",
              " 994: 'leading',\n",
              " 995: 'explains',\n",
              " 996: 'likely',\n",
              " 997: 'williams',\n",
              " 998: 'commercial',\n",
              " 999: 'older',\n",
              " 1000: 'hundreds',\n",
              " ...}"
            ]
          },
          "metadata": {
            "tags": []
          },
          "execution_count": 39
        }
      ]
    },
    {
      "cell_type": "code",
      "metadata": {
        "id": "nyazUJ21rf1e",
        "colab": {
          "base_uri": "https://localhost:8080/"
        },
        "outputId": "30360da3-4af7-442a-c34e-bd2a36d443cb"
      },
      "source": [
        "vocab_size = max(tokenizer.index_word)\n",
        "vocab_size"
      ],
      "execution_count": null,
      "outputs": [
        {
          "output_type": "execute_result",
          "data": {
            "text/plain": [
              "27749"
            ]
          },
          "metadata": {
            "tags": []
          },
          "execution_count": 40
        }
      ]
    },
    {
      "cell_type": "code",
      "metadata": {
        "id": "3zKIuL_Hrt9k"
      },
      "source": [
        "X_train = tokenizer.texts_to_sequences(texts_train)\n",
        "X_test = tokenizer.texts_to_sequences(texts_test)"
      ],
      "execution_count": null,
      "outputs": []
    },
    {
      "cell_type": "code",
      "metadata": {
        "id": "S8jOby0rr-nm",
        "colab": {
          "base_uri": "https://localhost:8080/"
        },
        "outputId": "db6626d0-7146-45c0-f0a6-6786021bcc94"
      },
      "source": [
        "X_train[:3]"
      ],
      "execution_count": null,
      "outputs": [
        {
          "output_type": "execute_result",
          "data": {
            "text/plain": [
              "[[379, 1162, 2, 4259, 30, 602, 13, 30, 2060, 237, 616, 14020],\n",
              " [764, 9, 743, 6, 9922, 545],\n",
              " [14, 683, 7, 505, 7681, 3201, 2, 3845, 12, 555, 2184, 3202]]"
            ]
          },
          "metadata": {
            "tags": []
          },
          "execution_count": 43
        }
      ]
    },
    {
      "cell_type": "code",
      "metadata": {
        "id": "i-rlXvEw1c-W"
      },
      "source": [
        "from tensorflow.keras.preprocessing.sequence import pad_sequences"
      ],
      "execution_count": null,
      "outputs": []
    },
    {
      "cell_type": "code",
      "metadata": {
        "id": "1vn31Rym1rkd",
        "colab": {
          "base_uri": "https://localhost:8080/",
          "height": 320
        },
        "outputId": "728b4176-b224-4301-c036-716607d20c63"
      },
      "source": [
        "fig, ax = plt.subplots(figsize=(10,5))\n",
        "ax.hist([len(seq) for seq in X_train], 50);"
      ],
      "execution_count": null,
      "outputs": [
        {
          "output_type": "display_data",
          "data": {
            "image/png": "[encoded data removed]",
            "text/plain": [
              "<Figure size 720x360 with 1 Axes>"
            ]
          },
          "metadata": {
            "tags": [],
            "needs_background": "light"
          }
        }
      ]
    },
    {
      "cell_type": "code",
      "metadata": {
        "id": "egDgdwe51xgO",
        "colab": {
          "base_uri": "https://localhost:8080/"
        },
        "outputId": "271f7e94-ad9d-4d61-b9b0-708de4c69b8b"
      },
      "source": [
        "np.sum(np.array([len(seq) for seq in X_train]) < 30)/len(X_train)"
      ],
      "execution_count": null,
      "outputs": [
        {
          "output_type": "execute_result",
          "data": {
            "text/plain": [
              "0.9997816117056125"
            ]
          },
          "metadata": {
            "tags": []
          },
          "execution_count": 55
        }
      ]
    },
    {
      "cell_type": "code",
      "metadata": {
        "id": "ERdatvnr3Imz"
      },
      "source": [
        "maxlen = 30\n",
        "X_train_padded = pad_sequences(X_train, maxlen=maxlen, padding='post', truncating='post')\n",
        "X_test_padded = pad_sequences(X_test, maxlen=maxlen, padding='post', truncating='post')"
      ],
      "execution_count": null,
      "outputs": []
    },
    {
      "cell_type": "code",
      "metadata": {
        "id": "d1R7hkLm32rO",
        "colab": {
          "base_uri": "https://localhost:8080/"
        },
        "outputId": "33129bf2-2768-486c-ab0e-1283a05f0b21"
      },
      "source": [
        "X_train_padded.shape"
      ],
      "execution_count": null,
      "outputs": [
        {
          "output_type": "execute_result",
          "data": {
            "text/plain": [
              "(22895, 30)"
            ]
          },
          "metadata": {
            "tags": []
          },
          "execution_count": 57
        }
      ]
    },
    {
      "cell_type": "markdown",
      "metadata": {
        "id": "lmCQ6isu4Lqt"
      },
      "source": [
        "## No pre-trained embedding and no RNN"
      ]
    },
    {
      "cell_type": "code",
      "metadata": {
        "id": "hM4rXoW-34UY"
      },
      "source": [
        "from tensorflow.keras.layers import Embedding, Dense, GlobalAveragePooling1D, Dropout"
      ],
      "execution_count": null,
      "outputs": []
    },
    {
      "cell_type": "code",
      "metadata": {
        "id": "NgOIok8o4kLr"
      },
      "source": [
        "embed_dim = 100\n",
        "model = Sequential([\n",
        "                    Embedding(input_dim=vocab_size + 1, output_dim=embed_dim, input_length=maxlen),\n",
        "                    GlobalAveragePooling1D(),\n",
        "                    Dropout(0.5),\n",
        "                    Dense(64, activation='relu'),\n",
        "                    Dropout(0.5),\n",
        "                    Dense(1, activation='sigmoid')\n",
        "])"
      ],
      "execution_count": null,
      "outputs": []
    },
    {
      "cell_type": "code",
      "metadata": {
        "id": "mRsI4I2y5AK-",
        "colab": {
          "base_uri": "https://localhost:8080/"
        },
        "outputId": "b994e1a8-02c9-43bd-c397-363c2220d6aa"
      },
      "source": [
        "model.summary()"
      ],
      "execution_count": null,
      "outputs": [
        {
          "output_type": "stream",
          "text": [
            "Model: \"sequential_2\"\n",
            "_________________________________________________________________\n",
            "Layer (type)                 Output Shape              Param #   \n",
            "=================================================================\n",
            "embedding_2 (Embedding)      (None, 30, 100)           2775000   \n",
            "_________________________________________________________________\n",
            "global_average_pooling1d_2 ( (None, 100)               0         \n",
            "_________________________________________________________________\n",
            "dropout_2 (Dropout)          (None, 100)               0         \n",
            "_________________________________________________________________\n",
            "dense_5 (Dense)              (None, 64)                6464      \n",
            "_________________________________________________________________\n",
            "dropout_3 (Dropout)          (None, 64)                0         \n",
            "_________________________________________________________________\n",
            "dense_6 (Dense)              (None, 1)                 65        \n",
            "=================================================================\n",
            "Total params: 2,781,529\n",
            "Trainable params: 2,781,529\n",
            "Non-trainable params: 0\n",
            "_________________________________________________________________\n"
          ],
          "name": "stdout"
        }
      ]
    },
    {
      "cell_type": "code",
      "metadata": {
        "id": "FUmOYxra5FVT"
      },
      "source": [
        "model.compile(optimizer='adam', loss='binary_crossentropy', metrics=['accuracy'])"
      ],
      "execution_count": null,
      "outputs": []
    },
    {
      "cell_type": "code",
      "metadata": {
        "id": "0VQfB1x75gvJ",
        "colab": {
          "base_uri": "https://localhost:8080/"
        },
        "outputId": "e629671a-ca4a-45fd-c7fd-3b963778c33b"
      },
      "source": [
        "history = model.fit(x=X_train_padded, y=y_train, batch_size=64, epochs=10, validation_data=(X_test_padded, y_test))"
      ],
      "execution_count": null,
      "outputs": [
        {
          "output_type": "stream",
          "text": [
            "Epoch 1/10\n",
            "358/358 [==============================] - 10s 27ms/step - loss: 0.5593 - accuracy: 0.7024 - val_loss: 0.3733 - val_accuracy: 0.8372\n",
            "Epoch 2/10\n",
            "358/358 [==============================] - 10s 27ms/step - loss: 0.3070 - accuracy: 0.8735 - val_loss: 0.3344 - val_accuracy: 0.8468\n",
            "Epoch 3/10\n",
            "358/358 [==============================] - 10s 27ms/step - loss: 0.2066 - accuracy: 0.9216 - val_loss: 0.3424 - val_accuracy: 0.8566\n",
            "Epoch 4/10\n",
            "358/358 [==============================] - 10s 27ms/step - loss: 0.1465 - accuracy: 0.9475 - val_loss: 0.3777 - val_accuracy: 0.8482\n",
            "Epoch 5/10\n",
            "358/358 [==============================] - 10s 27ms/step - loss: 0.1025 - accuracy: 0.9668 - val_loss: 0.4250 - val_accuracy: 0.8438\n",
            "Epoch 6/10\n",
            "358/358 [==============================] - 10s 27ms/step - loss: 0.0755 - accuracy: 0.9756 - val_loss: 0.4789 - val_accuracy: 0.8454\n",
            "Epoch 7/10\n",
            "358/358 [==============================] - 10s 27ms/step - loss: 0.0552 - accuracy: 0.9823 - val_loss: 0.5475 - val_accuracy: 0.8381\n",
            "Epoch 8/10\n",
            "358/358 [==============================] - 10s 27ms/step - loss: 0.0421 - accuracy: 0.9870 - val_loss: 0.6106 - val_accuracy: 0.8354\n",
            "Epoch 9/10\n",
            "358/358 [==============================] - 10s 27ms/step - loss: 0.0329 - accuracy: 0.9896 - val_loss: 0.6518 - val_accuracy: 0.8326\n",
            "Epoch 10/10\n",
            "358/358 [==============================] - 10s 27ms/step - loss: 0.0242 - accuracy: 0.9925 - val_loss: 0.7360 - val_accuracy: 0.8290\n"
          ],
          "name": "stdout"
        }
      ]
    },
    {
      "cell_type": "markdown",
      "metadata": {
        "id": "k7C5cu3Q6eoc"
      },
      "source": [
        "## Pre-trained Embeddings with no RNN"
      ]
    },
    {
      "cell_type": "code",
      "metadata": {
        "id": "I0JcKfX85vDv",
        "colab": {
          "base_uri": "https://localhost:8080/"
        },
        "outputId": "2f5149de-c1a6-404f-b4b4-d2bd39c7bbd9"
      },
      "source": [
        "import os\n",
        "try:\n",
        "  os.mkdir('./tmp')\n",
        "except OSError:\n",
        "  pass\n",
        "\n",
        "!wget --no-check-certificate \\\n",
        "    https://storage.googleapis.com/laurencemoroney-blog.appspot.com/glove.6B.100d.txt \\\n",
        "    -O ./tmp/glove.6B.100d.txt\n",
        "embeddings_index = {};\n",
        "with open('./tmp/glove.6B.100d.txt') as f:\n",
        "    for line in f:\n",
        "        values = line.split();\n",
        "        word = values[0];\n",
        "        coefs = np.asarray(values[1:], dtype='float32');\n",
        "        embeddings_index[word] = coefs;"
      ],
      "execution_count": null,
      "outputs": [
        {
          "output_type": "stream",
          "text": [
            "--2020-11-15 22:00:42--  https://storage.googleapis.com/laurencemoroney-blog.appspot.com/glove.6B.100d.txt\n",
            "Resolving storage.googleapis.com (storage.googleapis.com)... 172.217.164.176, 172.253.63.128, 142.250.31.128, ...\n",
            "Connecting to storage.googleapis.com (storage.googleapis.com)|172.217.164.176|:443... connected.\n",
            "HTTP request sent, awaiting response... 200 OK\n",
            "Length: 347116733 (331M) [text/plain]\n",
            "Saving to: ‘./tmp/glove.6B.100d.txt’\n",
            "\n",
            "./tmp/glove.6B.100d 100%[===================>] 331.04M   127MB/s    in 2.6s    \n",
            "\n",
            "2020-11-15 22:00:45 (127 MB/s) - ‘./tmp/glove.6B.100d.txt’ saved [347116733/347116733]\n",
            "\n"
          ],
          "name": "stdout"
        }
      ]
    },
    {
      "cell_type": "code",
      "metadata": {
        "id": "dz9PYhIH7KxM"
      },
      "source": [
        "embeddings_matrix = np.zeros((vocab_size + 1, embed_dim))\n",
        "for word, index in tokenizer.word_index.items():\n",
        "  embed_vector = embeddings_index.get(word)\n",
        "  if embed_vector is not None:\n",
        "    embeddings_matrix[index] = embed_vector"
      ],
      "execution_count": null,
      "outputs": []
    },
    {
      "cell_type": "code",
      "metadata": {
        "id": "j_290TiS7YLu"
      },
      "source": [
        "model = Sequential([\n",
        "                    Embedding(input_dim=vocab_size + 1, output_dim=embed_dim, input_length=maxlen, weights=[embeddings_matrix], trainable=True),\n",
        "                    GlobalAveragePooling1D(),\n",
        "                    Dropout(0.5),\n",
        "                    Dense(64, activation='relu'),\n",
        "                    Dropout(0.5),\n",
        "                    Dense(1, activation='sigmoid')\n",
        "])"
      ],
      "execution_count": null,
      "outputs": []
    },
    {
      "cell_type": "code",
      "metadata": {
        "id": "5EfVmSAE7tVE"
      },
      "source": [
        "model.compile(optimizer='adam', loss='binary_crossentropy', metrics=['accuracy'])"
      ],
      "execution_count": null,
      "outputs": []
    },
    {
      "cell_type": "code",
      "metadata": {
        "id": "_aDptZPj7xhn",
        "colab": {
          "base_uri": "https://localhost:8080/",
          "height": 673
        },
        "outputId": "dcbbd9a7-0a25-44d7-a853-27cfe126f119"
      },
      "source": [
        "history = model.fit(x=X_train_padded, y=y_train, batch_size=64, epochs=10, validation_data=(X_test_padded, y_test))"
      ],
      "execution_count": null,
      "outputs": [
        {
          "output_type": "stream",
          "text": [
            "Epoch 1/100\n",
            "358/358 [==============================] - 10s 27ms/step - loss: 0.6378 - accuracy: 0.6249 - val_loss: 0.4868 - val_accuracy: 0.7816\n",
            "Epoch 2/100\n",
            "358/358 [==============================] - 10s 27ms/step - loss: 0.4457 - accuracy: 0.7956 - val_loss: 0.3734 - val_accuracy: 0.8344\n",
            "Epoch 3/100\n",
            "358/358 [==============================] - 9s 26ms/step - loss: 0.3592 - accuracy: 0.8449 - val_loss: 0.3432 - val_accuracy: 0.8480\n",
            "Epoch 4/100\n",
            "358/358 [==============================] - 9s 26ms/step - loss: 0.3113 - accuracy: 0.8687 - val_loss: 0.3312 - val_accuracy: 0.8536\n",
            "Epoch 5/100\n",
            "358/358 [==============================] - 9s 26ms/step - loss: 0.2728 - accuracy: 0.8874 - val_loss: 0.3242 - val_accuracy: 0.8550\n",
            "Epoch 6/100\n",
            "358/358 [==============================] - 9s 26ms/step - loss: 0.2433 - accuracy: 0.9031 - val_loss: 0.3241 - val_accuracy: 0.8583\n",
            "Epoch 7/100\n",
            "358/358 [==============================] - 9s 26ms/step - loss: 0.2135 - accuracy: 0.9147 - val_loss: 0.3272 - val_accuracy: 0.8601\n",
            "Epoch 8/100\n",
            "358/358 [==============================] - 9s 26ms/step - loss: 0.1967 - accuracy: 0.9233 - val_loss: 0.3361 - val_accuracy: 0.8583\n",
            "Epoch 9/100\n",
            "358/358 [==============================] - 9s 26ms/step - loss: 0.1809 - accuracy: 0.9282 - val_loss: 0.3403 - val_accuracy: 0.8606\n",
            "Epoch 10/100\n",
            "358/358 [==============================] - 9s 26ms/step - loss: 0.1643 - accuracy: 0.9362 - val_loss: 0.3429 - val_accuracy: 0.8623\n",
            "Epoch 11/100\n",
            "159/358 [============>.................] - ETA: 5s - loss: 0.1468 - accuracy: 0.9432"
          ],
          "name": "stdout"
        },
        {
          "output_type": "error",
          "ename": "KeyboardInterrupt",
          "evalue": "ignored",
          "traceback": [
            "\u001b[0;31m---------------------------------------------------------------------------\u001b[0m",
            "\u001b[0;31mKeyboardInterrupt\u001b[0m                         Traceback (most recent call last)",
            "\u001b[0;32m<ipython-input-81-64b8b54f2401>\u001b[0m in \u001b[0;36m<module>\u001b[0;34m()\u001b[0m\n\u001b[0;32m----> 1\u001b[0;31m \u001b[0mhistory\u001b[0m \u001b[0;34m=\u001b[0m \u001b[0mmodel\u001b[0m\u001b[0;34m.\u001b[0m\u001b[0mfit\u001b[0m\u001b[0;34m(\u001b[0m\u001b[0mx\u001b[0m\u001b[0;34m=\u001b[0m\u001b[0mX_train_padded\u001b[0m\u001b[0;34m,\u001b[0m \u001b[0my\u001b[0m\u001b[0;34m=\u001b[0m\u001b[0my_train\u001b[0m\u001b[0;34m,\u001b[0m \u001b[0mbatch_size\u001b[0m\u001b[0;34m=\u001b[0m\u001b[0;36m64\u001b[0m\u001b[0;34m,\u001b[0m \u001b[0mepochs\u001b[0m\u001b[0;34m=\u001b[0m\u001b[0;36m100\u001b[0m\u001b[0;34m,\u001b[0m \u001b[0mvalidation_data\u001b[0m\u001b[0;34m=\u001b[0m\u001b[0;34m(\u001b[0m\u001b[0mX_test_padded\u001b[0m\u001b[0;34m,\u001b[0m \u001b[0my_test\u001b[0m\u001b[0;34m)\u001b[0m\u001b[0;34m)\u001b[0m\u001b[0;34m\u001b[0m\u001b[0;34m\u001b[0m\u001b[0m\n\u001b[0m",
            "\u001b[0;32m/usr/local/lib/python3.6/dist-packages/tensorflow/python/keras/engine/training.py\u001b[0m in \u001b[0;36m_method_wrapper\u001b[0;34m(self, *args, **kwargs)\u001b[0m\n\u001b[1;32m    106\u001b[0m   \u001b[0;32mdef\u001b[0m \u001b[0m_method_wrapper\u001b[0m\u001b[0;34m(\u001b[0m\u001b[0mself\u001b[0m\u001b[0;34m,\u001b[0m \u001b[0;34m*\u001b[0m\u001b[0margs\u001b[0m\u001b[0;34m,\u001b[0m \u001b[0;34m**\u001b[0m\u001b[0mkwargs\u001b[0m\u001b[0;34m)\u001b[0m\u001b[0;34m:\u001b[0m\u001b[0;34m\u001b[0m\u001b[0;34m\u001b[0m\u001b[0m\n\u001b[1;32m    107\u001b[0m     \u001b[0;32mif\u001b[0m \u001b[0;32mnot\u001b[0m \u001b[0mself\u001b[0m\u001b[0;34m.\u001b[0m\u001b[0m_in_multi_worker_mode\u001b[0m\u001b[0;34m(\u001b[0m\u001b[0;34m)\u001b[0m\u001b[0;34m:\u001b[0m  \u001b[0;31m# pylint: disable=protected-access\u001b[0m\u001b[0;34m\u001b[0m\u001b[0;34m\u001b[0m\u001b[0m\n\u001b[0;32m--> 108\u001b[0;31m       \u001b[0;32mreturn\u001b[0m \u001b[0mmethod\u001b[0m\u001b[0;34m(\u001b[0m\u001b[0mself\u001b[0m\u001b[0;34m,\u001b[0m \u001b[0;34m*\u001b[0m\u001b[0margs\u001b[0m\u001b[0;34m,\u001b[0m \u001b[0;34m**\u001b[0m\u001b[0mkwargs\u001b[0m\u001b[0;34m)\u001b[0m\u001b[0;34m\u001b[0m\u001b[0;34m\u001b[0m\u001b[0m\n\u001b[0m\u001b[1;32m    109\u001b[0m \u001b[0;34m\u001b[0m\u001b[0m\n\u001b[1;32m    110\u001b[0m     \u001b[0;31m# Running inside `run_distribute_coordinator` already.\u001b[0m\u001b[0;34m\u001b[0m\u001b[0;34m\u001b[0m\u001b[0;34m\u001b[0m\u001b[0m\n",
            "\u001b[0;32m/usr/local/lib/python3.6/dist-packages/tensorflow/python/keras/engine/training.py\u001b[0m in \u001b[0;36mfit\u001b[0;34m(self, x, y, batch_size, epochs, verbose, callbacks, validation_split, validation_data, shuffle, class_weight, sample_weight, initial_epoch, steps_per_epoch, validation_steps, validation_batch_size, validation_freq, max_queue_size, workers, use_multiprocessing)\u001b[0m\n\u001b[1;32m   1096\u001b[0m                 batch_size=batch_size):\n\u001b[1;32m   1097\u001b[0m               \u001b[0mcallbacks\u001b[0m\u001b[0;34m.\u001b[0m\u001b[0mon_train_batch_begin\u001b[0m\u001b[0;34m(\u001b[0m\u001b[0mstep\u001b[0m\u001b[0;34m)\u001b[0m\u001b[0;34m\u001b[0m\u001b[0;34m\u001b[0m\u001b[0m\n\u001b[0;32m-> 1098\u001b[0;31m               \u001b[0mtmp_logs\u001b[0m \u001b[0;34m=\u001b[0m \u001b[0mtrain_function\u001b[0m\u001b[0;34m(\u001b[0m\u001b[0miterator\u001b[0m\u001b[0;34m)\u001b[0m\u001b[0;34m\u001b[0m\u001b[0;34m\u001b[0m\u001b[0m\n\u001b[0m\u001b[1;32m   1099\u001b[0m               \u001b[0;32mif\u001b[0m \u001b[0mdata_handler\u001b[0m\u001b[0;34m.\u001b[0m\u001b[0mshould_sync\u001b[0m\u001b[0;34m:\u001b[0m\u001b[0;34m\u001b[0m\u001b[0;34m\u001b[0m\u001b[0m\n\u001b[1;32m   1100\u001b[0m                 \u001b[0mcontext\u001b[0m\u001b[0;34m.\u001b[0m\u001b[0masync_wait\u001b[0m\u001b[0;34m(\u001b[0m\u001b[0;34m)\u001b[0m\u001b[0;34m\u001b[0m\u001b[0;34m\u001b[0m\u001b[0m\n",
            "\u001b[0;32m/usr/local/lib/python3.6/dist-packages/tensorflow/python/eager/def_function.py\u001b[0m in \u001b[0;36m__call__\u001b[0;34m(self, *args, **kwds)\u001b[0m\n\u001b[1;32m    778\u001b[0m       \u001b[0;32melse\u001b[0m\u001b[0;34m:\u001b[0m\u001b[0;34m\u001b[0m\u001b[0;34m\u001b[0m\u001b[0m\n\u001b[1;32m    779\u001b[0m         \u001b[0mcompiler\u001b[0m \u001b[0;34m=\u001b[0m \u001b[0;34m\"nonXla\"\u001b[0m\u001b[0;34m\u001b[0m\u001b[0;34m\u001b[0m\u001b[0m\n\u001b[0;32m--> 780\u001b[0;31m         \u001b[0mresult\u001b[0m \u001b[0;34m=\u001b[0m \u001b[0mself\u001b[0m\u001b[0;34m.\u001b[0m\u001b[0m_call\u001b[0m\u001b[0;34m(\u001b[0m\u001b[0;34m*\u001b[0m\u001b[0margs\u001b[0m\u001b[0;34m,\u001b[0m \u001b[0;34m**\u001b[0m\u001b[0mkwds\u001b[0m\u001b[0;34m)\u001b[0m\u001b[0;34m\u001b[0m\u001b[0;34m\u001b[0m\u001b[0m\n\u001b[0m\u001b[1;32m    781\u001b[0m \u001b[0;34m\u001b[0m\u001b[0m\n\u001b[1;32m    782\u001b[0m       \u001b[0mnew_tracing_count\u001b[0m \u001b[0;34m=\u001b[0m \u001b[0mself\u001b[0m\u001b[0;34m.\u001b[0m\u001b[0m_get_tracing_count\u001b[0m\u001b[0;34m(\u001b[0m\u001b[0;34m)\u001b[0m\u001b[0;34m\u001b[0m\u001b[0;34m\u001b[0m\u001b[0m\n",
            "\u001b[0;32m/usr/local/lib/python3.6/dist-packages/tensorflow/python/eager/def_function.py\u001b[0m in \u001b[0;36m_call\u001b[0;34m(self, *args, **kwds)\u001b[0m\n\u001b[1;32m    805\u001b[0m       \u001b[0;31m# In this case we have created variables on the first call, so we run the\u001b[0m\u001b[0;34m\u001b[0m\u001b[0;34m\u001b[0m\u001b[0;34m\u001b[0m\u001b[0m\n\u001b[1;32m    806\u001b[0m       \u001b[0;31m# defunned version which is guaranteed to never create variables.\u001b[0m\u001b[0;34m\u001b[0m\u001b[0;34m\u001b[0m\u001b[0;34m\u001b[0m\u001b[0m\n\u001b[0;32m--> 807\u001b[0;31m       \u001b[0;32mreturn\u001b[0m \u001b[0mself\u001b[0m\u001b[0;34m.\u001b[0m\u001b[0m_stateless_fn\u001b[0m\u001b[0;34m(\u001b[0m\u001b[0;34m*\u001b[0m\u001b[0margs\u001b[0m\u001b[0;34m,\u001b[0m \u001b[0;34m**\u001b[0m\u001b[0mkwds\u001b[0m\u001b[0;34m)\u001b[0m  \u001b[0;31m# pylint: disable=not-callable\u001b[0m\u001b[0;34m\u001b[0m\u001b[0;34m\u001b[0m\u001b[0m\n\u001b[0m\u001b[1;32m    808\u001b[0m     \u001b[0;32melif\u001b[0m \u001b[0mself\u001b[0m\u001b[0;34m.\u001b[0m\u001b[0m_stateful_fn\u001b[0m \u001b[0;32mis\u001b[0m \u001b[0;32mnot\u001b[0m \u001b[0;32mNone\u001b[0m\u001b[0;34m:\u001b[0m\u001b[0;34m\u001b[0m\u001b[0;34m\u001b[0m\u001b[0m\n\u001b[1;32m    809\u001b[0m       \u001b[0;31m# Release the lock early so that multiple threads can perform the call\u001b[0m\u001b[0;34m\u001b[0m\u001b[0;34m\u001b[0m\u001b[0;34m\u001b[0m\u001b[0m\n",
            "\u001b[0;32m/usr/local/lib/python3.6/dist-packages/tensorflow/python/eager/function.py\u001b[0m in \u001b[0;36m__call__\u001b[0;34m(self, *args, **kwargs)\u001b[0m\n\u001b[1;32m   2827\u001b[0m     \u001b[0;32mwith\u001b[0m \u001b[0mself\u001b[0m\u001b[0;34m.\u001b[0m\u001b[0m_lock\u001b[0m\u001b[0;34m:\u001b[0m\u001b[0;34m\u001b[0m\u001b[0;34m\u001b[0m\u001b[0m\n\u001b[1;32m   2828\u001b[0m       \u001b[0mgraph_function\u001b[0m\u001b[0;34m,\u001b[0m \u001b[0margs\u001b[0m\u001b[0;34m,\u001b[0m \u001b[0mkwargs\u001b[0m \u001b[0;34m=\u001b[0m \u001b[0mself\u001b[0m\u001b[0;34m.\u001b[0m\u001b[0m_maybe_define_function\u001b[0m\u001b[0;34m(\u001b[0m\u001b[0margs\u001b[0m\u001b[0;34m,\u001b[0m \u001b[0mkwargs\u001b[0m\u001b[0;34m)\u001b[0m\u001b[0;34m\u001b[0m\u001b[0;34m\u001b[0m\u001b[0m\n\u001b[0;32m-> 2829\u001b[0;31m     \u001b[0;32mreturn\u001b[0m \u001b[0mgraph_function\u001b[0m\u001b[0;34m.\u001b[0m\u001b[0m_filtered_call\u001b[0m\u001b[0;34m(\u001b[0m\u001b[0margs\u001b[0m\u001b[0;34m,\u001b[0m \u001b[0mkwargs\u001b[0m\u001b[0;34m)\u001b[0m  \u001b[0;31m# pylint: disable=protected-access\u001b[0m\u001b[0;34m\u001b[0m\u001b[0;34m\u001b[0m\u001b[0m\n\u001b[0m\u001b[1;32m   2830\u001b[0m \u001b[0;34m\u001b[0m\u001b[0m\n\u001b[1;32m   2831\u001b[0m   \u001b[0;34m@\u001b[0m\u001b[0mproperty\u001b[0m\u001b[0;34m\u001b[0m\u001b[0;34m\u001b[0m\u001b[0m\n",
            "\u001b[0;32m/usr/local/lib/python3.6/dist-packages/tensorflow/python/eager/function.py\u001b[0m in \u001b[0;36m_filtered_call\u001b[0;34m(self, args, kwargs, cancellation_manager)\u001b[0m\n\u001b[1;32m   1846\u001b[0m                            resource_variable_ops.BaseResourceVariable))],\n\u001b[1;32m   1847\u001b[0m         \u001b[0mcaptured_inputs\u001b[0m\u001b[0;34m=\u001b[0m\u001b[0mself\u001b[0m\u001b[0;34m.\u001b[0m\u001b[0mcaptured_inputs\u001b[0m\u001b[0;34m,\u001b[0m\u001b[0;34m\u001b[0m\u001b[0;34m\u001b[0m\u001b[0m\n\u001b[0;32m-> 1848\u001b[0;31m         cancellation_manager=cancellation_manager)\n\u001b[0m\u001b[1;32m   1849\u001b[0m \u001b[0;34m\u001b[0m\u001b[0m\n\u001b[1;32m   1850\u001b[0m   \u001b[0;32mdef\u001b[0m \u001b[0m_call_flat\u001b[0m\u001b[0;34m(\u001b[0m\u001b[0mself\u001b[0m\u001b[0;34m,\u001b[0m \u001b[0margs\u001b[0m\u001b[0;34m,\u001b[0m \u001b[0mcaptured_inputs\u001b[0m\u001b[0;34m,\u001b[0m \u001b[0mcancellation_manager\u001b[0m\u001b[0;34m=\u001b[0m\u001b[0;32mNone\u001b[0m\u001b[0;34m)\u001b[0m\u001b[0;34m:\u001b[0m\u001b[0;34m\u001b[0m\u001b[0;34m\u001b[0m\u001b[0m\n",
            "\u001b[0;32m/usr/local/lib/python3.6/dist-packages/tensorflow/python/eager/function.py\u001b[0m in \u001b[0;36m_call_flat\u001b[0;34m(self, args, captured_inputs, cancellation_manager)\u001b[0m\n\u001b[1;32m   1922\u001b[0m       \u001b[0;31m# No tape is watching; skip to running the function.\u001b[0m\u001b[0;34m\u001b[0m\u001b[0;34m\u001b[0m\u001b[0;34m\u001b[0m\u001b[0m\n\u001b[1;32m   1923\u001b[0m       return self._build_call_outputs(self._inference_function.call(\n\u001b[0;32m-> 1924\u001b[0;31m           ctx, args, cancellation_manager=cancellation_manager))\n\u001b[0m\u001b[1;32m   1925\u001b[0m     forward_backward = self._select_forward_and_backward_functions(\n\u001b[1;32m   1926\u001b[0m         \u001b[0margs\u001b[0m\u001b[0;34m,\u001b[0m\u001b[0;34m\u001b[0m\u001b[0;34m\u001b[0m\u001b[0m\n",
            "\u001b[0;32m/usr/local/lib/python3.6/dist-packages/tensorflow/python/eager/function.py\u001b[0m in \u001b[0;36mcall\u001b[0;34m(self, ctx, args, cancellation_manager)\u001b[0m\n\u001b[1;32m    548\u001b[0m               \u001b[0minputs\u001b[0m\u001b[0;34m=\u001b[0m\u001b[0margs\u001b[0m\u001b[0;34m,\u001b[0m\u001b[0;34m\u001b[0m\u001b[0;34m\u001b[0m\u001b[0m\n\u001b[1;32m    549\u001b[0m               \u001b[0mattrs\u001b[0m\u001b[0;34m=\u001b[0m\u001b[0mattrs\u001b[0m\u001b[0;34m,\u001b[0m\u001b[0;34m\u001b[0m\u001b[0;34m\u001b[0m\u001b[0m\n\u001b[0;32m--> 550\u001b[0;31m               ctx=ctx)\n\u001b[0m\u001b[1;32m    551\u001b[0m         \u001b[0;32melse\u001b[0m\u001b[0;34m:\u001b[0m\u001b[0;34m\u001b[0m\u001b[0;34m\u001b[0m\u001b[0m\n\u001b[1;32m    552\u001b[0m           outputs = execute.execute_with_cancellation(\n",
            "\u001b[0;32m/usr/local/lib/python3.6/dist-packages/tensorflow/python/eager/execute.py\u001b[0m in \u001b[0;36mquick_execute\u001b[0;34m(op_name, num_outputs, inputs, attrs, ctx, name)\u001b[0m\n\u001b[1;32m     58\u001b[0m     \u001b[0mctx\u001b[0m\u001b[0;34m.\u001b[0m\u001b[0mensure_initialized\u001b[0m\u001b[0;34m(\u001b[0m\u001b[0;34m)\u001b[0m\u001b[0;34m\u001b[0m\u001b[0;34m\u001b[0m\u001b[0m\n\u001b[1;32m     59\u001b[0m     tensors = pywrap_tfe.TFE_Py_Execute(ctx._handle, device_name, op_name,\n\u001b[0;32m---> 60\u001b[0;31m                                         inputs, attrs, num_outputs)\n\u001b[0m\u001b[1;32m     61\u001b[0m   \u001b[0;32mexcept\u001b[0m \u001b[0mcore\u001b[0m\u001b[0;34m.\u001b[0m\u001b[0m_NotOkStatusException\u001b[0m \u001b[0;32mas\u001b[0m \u001b[0me\u001b[0m\u001b[0;34m:\u001b[0m\u001b[0;34m\u001b[0m\u001b[0;34m\u001b[0m\u001b[0m\n\u001b[1;32m     62\u001b[0m     \u001b[0;32mif\u001b[0m \u001b[0mname\u001b[0m \u001b[0;32mis\u001b[0m \u001b[0;32mnot\u001b[0m \u001b[0;32mNone\u001b[0m\u001b[0;34m:\u001b[0m\u001b[0;34m\u001b[0m\u001b[0;34m\u001b[0m\u001b[0m\n",
            "\u001b[0;31mKeyboardInterrupt\u001b[0m: "
          ]
        }
      ]
    },
    {
      "cell_type": "markdown",
      "metadata": {
        "id": "8DzbKQT78nKY"
      },
      "source": [
        "## Pre-trained embeddings with RNN"
      ]
    },
    {
      "cell_type": "code",
      "metadata": {
        "id": "B0tC2gCJ8uQ5"
      },
      "source": [
        "from tensorflow.keras.layers import LSTM, Bidirectional"
      ],
      "execution_count": null,
      "outputs": []
    },
    {
      "cell_type": "code",
      "metadata": {
        "id": "EZ38hGU27yO3"
      },
      "source": [
        "model = Sequential([\n",
        "                    Embedding(input_dim=vocab_size + 1, output_dim=embed_dim, input_length=maxlen, weights=[embeddings_matrix], trainable=True, mask_zero=True),\n",
        "                    Bidirectional(LSTM(128, return_sequences=True)),\n",
        "                    Bidirectional(LSTM(64, return_sequences=False)),\n",
        "                    Dropout(0.5),\n",
        "                    Dense(64, activation='relu'),\n",
        "                    Dropout(0.5),\n",
        "                    Dense(1, activation='sigmoid')\n",
        "])"
      ],
      "execution_count": null,
      "outputs": []
    },
    {
      "cell_type": "code",
      "metadata": {
        "id": "u6ouQTTJ9Ata",
        "colab": {
          "base_uri": "https://localhost:8080/"
        },
        "outputId": "2aa925c5-5112-44ad-be09-52c93988ea06"
      },
      "source": [
        "model.summary()"
      ],
      "execution_count": null,
      "outputs": [
        {
          "output_type": "stream",
          "text": [
            "Model: \"sequential_8\"\n",
            "_________________________________________________________________\n",
            "Layer (type)                 Output Shape              Param #   \n",
            "=================================================================\n",
            "embedding_8 (Embedding)      (None, 30, 100)           2775000   \n",
            "_________________________________________________________________\n",
            "bidirectional_4 (Bidirection (None, 30, 256)           234496    \n",
            "_________________________________________________________________\n",
            "bidirectional_5 (Bidirection (None, 128)               164352    \n",
            "_________________________________________________________________\n",
            "dropout_14 (Dropout)         (None, 128)               0         \n",
            "_________________________________________________________________\n",
            "dense_17 (Dense)             (None, 64)                8256      \n",
            "_________________________________________________________________\n",
            "dropout_15 (Dropout)         (None, 64)                0         \n",
            "_________________________________________________________________\n",
            "dense_18 (Dense)             (None, 1)                 65        \n",
            "=================================================================\n",
            "Total params: 3,182,169\n",
            "Trainable params: 3,182,169\n",
            "Non-trainable params: 0\n",
            "_________________________________________________________________\n"
          ],
          "name": "stdout"
        }
      ]
    },
    {
      "cell_type": "code",
      "metadata": {
        "id": "VNs5F5OT9CYs"
      },
      "source": [
        "model.compile(optimizer='adam', loss='binary_crossentropy', metrics=['accuracy'])"
      ],
      "execution_count": null,
      "outputs": []
    },
    {
      "cell_type": "code",
      "metadata": {
        "id": "zLbDQ10o9JQ4",
        "colab": {
          "base_uri": "https://localhost:8080/"
        },
        "outputId": "a5a1f17a-2bfe-4e1d-ae23-7bb2166303d5"
      },
      "source": [
        "history = model.fit(x=X_train_padded, y=y_train, batch_size=64, epochs=2, validation_data=(X_test_padded, y_test))"
      ],
      "execution_count": null,
      "outputs": [
        {
          "output_type": "stream",
          "text": [
            "Epoch 1/2\n",
            "358/358 [==============================] - 21s 59ms/step - loss: 0.4406 - accuracy: 0.7887 - val_loss: 0.3296 - val_accuracy: 0.8534\n",
            "Epoch 2/2\n",
            "358/358 [==============================] - 18s 50ms/step - loss: 0.2446 - accuracy: 0.9040 - val_loss: 0.3042 - val_accuracy: 0.8747\n"
          ],
          "name": "stdout"
        }
      ]
    },
    {
      "cell_type": "markdown",
      "metadata": {
        "id": "crEhrvZC-sBA"
      },
      "source": [
        "## Transfer learning (Transformers)"
      ]
    },
    {
      "cell_type": "code",
      "metadata": {
        "id": "rC3QBji79MXf",
        "colab": {
          "base_uri": "https://localhost:8080/"
        },
        "outputId": "96d4c199-84b6-491d-b398-ad5324b6f163"
      },
      "source": [
        "!pip install transformers"
      ],
      "execution_count": null,
      "outputs": [
        {
          "output_type": "stream",
          "text": [
            "Collecting transformers\n",
            "\u001b[?25l  Downloading https://files.pythonhosted.org/packages/3a/83/e74092e7f24a08d751aa59b37a9fc572b2e4af3918cb66f7766c3affb1b4/transformers-3.5.1-py3-none-any.whl (1.3MB)\n",
            "\u001b[K     |████████████████████████████████| 1.3MB 12.6MB/s \n",
            "\u001b[?25hRequirement already satisfied: dataclasses; python_version < \"3.7\" in /usr/local/lib/python3.6/dist-packages (from transformers) (0.7)\n",
            "Collecting sacremoses\n",
            "\u001b[?25l  Downloading https://files.pythonhosted.org/packages/7d/34/09d19aff26edcc8eb2a01bed8e98f13a1537005d31e95233fd48216eed10/sacremoses-0.0.43.tar.gz (883kB)\n",
            "\u001b[K     |████████████████████████████████| 890kB 51.5MB/s \n",
            "\u001b[?25hRequirement already satisfied: tqdm>=4.27 in /usr/local/lib/python3.6/dist-packages (from transformers) (4.41.1)\n",
            "Requirement already satisfied: requests in /usr/local/lib/python3.6/dist-packages (from transformers) (2.23.0)\n",
            "Requirement already satisfied: packaging in /usr/local/lib/python3.6/dist-packages (from transformers) (20.4)\n",
            "Requirement already satisfied: protobuf in /usr/local/lib/python3.6/dist-packages (from transformers) (3.12.4)\n",
            "Requirement already satisfied: regex!=2019.12.17 in /usr/local/lib/python3.6/dist-packages (from transformers) (2019.12.20)\n",
            "Collecting tokenizers==0.9.3\n",
            "\u001b[?25l  Downloading https://files.pythonhosted.org/packages/4c/34/b39eb9994bc3c999270b69c9eea40ecc6f0e97991dba28282b9fd32d44ee/tokenizers-0.9.3-cp36-cp36m-manylinux1_x86_64.whl (2.9MB)\n",
            "\u001b[K     |████████████████████████████████| 2.9MB 53.1MB/s \n",
            "\u001b[?25hRequirement already satisfied: numpy in /usr/local/lib/python3.6/dist-packages (from transformers) (1.18.5)\n",
            "Collecting sentencepiece==0.1.91\n",
            "\u001b[?25l  Downloading https://files.pythonhosted.org/packages/d4/a4/d0a884c4300004a78cca907a6ff9a5e9fe4f090f5d95ab341c53d28cbc58/sentencepiece-0.1.91-cp36-cp36m-manylinux1_x86_64.whl (1.1MB)\n",
            "\u001b[K     |████████████████████████████████| 1.1MB 47.8MB/s \n",
            "\u001b[?25hRequirement already satisfied: filelock in /usr/local/lib/python3.6/dist-packages (from transformers) (3.0.12)\n",
            "Requirement already satisfied: six in /usr/local/lib/python3.6/dist-packages (from sacremoses->transformers) (1.15.0)\n",
            "Requirement already satisfied: click in /usr/local/lib/python3.6/dist-packages (from sacremoses->transformers) (7.1.2)\n",
            "Requirement already satisfied: joblib in /usr/local/lib/python3.6/dist-packages (from sacremoses->transformers) (0.17.0)\n",
            "Requirement already satisfied: idna<3,>=2.5 in /usr/local/lib/python3.6/dist-packages (from requests->transformers) (2.10)\n",
            "Requirement already satisfied: urllib3!=1.25.0,!=1.25.1,<1.26,>=1.21.1 in /usr/local/lib/python3.6/dist-packages (from requests->transformers) (1.24.3)\n",
            "Requirement already satisfied: certifi>=2017.4.17 in /usr/local/lib/python3.6/dist-packages (from requests->transformers) (2020.6.20)\n",
            "Requirement already satisfied: chardet<4,>=3.0.2 in /usr/local/lib/python3.6/dist-packages (from requests->transformers) (3.0.4)\n",
            "Requirement already satisfied: pyparsing>=2.0.2 in /usr/local/lib/python3.6/dist-packages (from packaging->transformers) (2.4.7)\n",
            "Requirement already satisfied: setuptools in /usr/local/lib/python3.6/dist-packages (from protobuf->transformers) (50.3.2)\n",
            "Building wheels for collected packages: sacremoses\n",
            "  Building wheel for sacremoses (setup.py) ... \u001b[?25l\u001b[?25hdone\n",
            "  Created wheel for sacremoses: filename=sacremoses-0.0.43-cp36-none-any.whl size=893257 sha256=5084628391dc90d60ccc632471c64f6b40490cc9855ee44299effc6747ac6756\n",
            "  Stored in directory: /root/.cache/pip/wheels/29/3c/fd/7ce5c3f0666dab31a50123635e6fb5e19ceb42ce38d4e58f45\n",
            "Successfully built sacremoses\n",
            "Installing collected packages: sacremoses, tokenizers, sentencepiece, transformers\n",
            "Successfully installed sacremoses-0.0.43 sentencepiece-0.1.91 tokenizers-0.9.3 transformers-3.5.1\n"
          ],
          "name": "stdout"
        }
      ]
    },
    {
      "cell_type": "markdown",
      "metadata": {
        "id": "Ap8BXPVYE0C1"
      },
      "source": [
        "### Tokenization"
      ]
    },
    {
      "cell_type": "code",
      "metadata": {
        "id": "VPbBT1g--0Zv"
      },
      "source": [
        "from transformers import TFBertModel, BertTokenizer"
      ],
      "execution_count": null,
      "outputs": []
    },
    {
      "cell_type": "code",
      "metadata": {
        "id": "zH3QpDGv_9KD",
        "colab": {
          "base_uri": "https://localhost:8080/",
          "height": 66,
          "referenced_widgets": [
            "a5c1030990ac4d2992899c302bdb0b0a",
            "6746d52fbf89440ea32279bfd7621500",
            "adecd004b66c4ce782aec921869e6509",
            "d94d2d0bcebe4aaa980fc0714f72f726",
            "cd7e91a3ec974365960b2512d00ab337",
            "7e9e2e32a5d649869a551fca4415bee5",
            "30d4c322121d4dad91f6225265295789",
            "ed8d9e498e4a483aac3abe5cc673655e"
          ]
        },
        "outputId": "346ddfb6-a702-42af-9572-2ff4bf6cbceb"
      },
      "source": [
        "tokenizer = BertTokenizer.from_pretrained('bert-base-uncased')"
      ],
      "execution_count": null,
      "outputs": [
        {
          "output_type": "display_data",
          "data": {
            "application/vnd.jupyter.widget-view+json": {
              "model_id": "a5c1030990ac4d2992899c302bdb0b0a",
              "version_minor": 0,
              "version_major": 2
            },
            "text/plain": [
              "HBox(children=(FloatProgress(value=0.0, description='Downloading', max=231508.0, style=ProgressStyle(descripti…"
            ]
          },
          "metadata": {
            "tags": []
          }
        },
        {
          "output_type": "stream",
          "text": [
            "\n"
          ],
          "name": "stdout"
        }
      ]
    },
    {
      "cell_type": "code",
      "metadata": {
        "id": "FrHecp4KAFt8"
      },
      "source": [
        "tok_train = tokenizer(texts_train.values.tolist(), padding='max_length', max_length=maxlen, truncation=True)\n",
        "tok_test = tokenizer(texts_test.values.tolist(), padding='max_length', max_length=maxlen, truncation=True)"
      ],
      "execution_count": null,
      "outputs": []
    },
    {
      "cell_type": "code",
      "metadata": {
        "id": "Wb_e0tPVDYGt",
        "colab": {
          "base_uri": "https://localhost:8080/"
        },
        "outputId": "44216657-1633-4a84-e68c-7e039933cd52"
      },
      "source": [
        "tok_train.keys()"
      ],
      "execution_count": null,
      "outputs": [
        {
          "output_type": "execute_result",
          "data": {
            "text/plain": [
              "dict_keys(['input_ids', 'token_type_ids', 'attention_mask'])"
            ]
          },
          "metadata": {
            "tags": []
          },
          "execution_count": 133
        }
      ]
    },
    {
      "cell_type": "code",
      "metadata": {
        "id": "RLJg4qI_CQYF",
        "colab": {
          "base_uri": "https://localhost:8080/"
        },
        "outputId": "c000e78c-054c-4103-8a7e-09e897c2e5c8"
      },
      "source": [
        "print(tok_train['input_ids'][4])\n",
        "print(tok_train['token_type_ids'][4])\n",
        "print(tok_train['attention_mask'][4])"
      ],
      "execution_count": null,
      "outputs": [
        {
          "output_type": "stream",
          "text": [
            "[101, 3293, 18461, 2005, 4031, 11073, 102, 0, 0, 0, 0, 0, 0, 0, 0, 0, 0, 0, 0, 0, 0, 0, 0, 0, 0, 0, 0, 0, 0, 0]\n",
            "[0, 0, 0, 0, 0, 0, 0, 0, 0, 0, 0, 0, 0, 0, 0, 0, 0, 0, 0, 0, 0, 0, 0, 0, 0, 0, 0, 0, 0, 0]\n",
            "[1, 1, 1, 1, 1, 1, 1, 0, 0, 0, 0, 0, 0, 0, 0, 0, 0, 0, 0, 0, 0, 0, 0, 0, 0, 0, 0, 0, 0, 0]\n"
          ],
          "name": "stdout"
        }
      ]
    },
    {
      "cell_type": "code",
      "metadata": {
        "id": "YiHyw7zxCUr2",
        "colab": {
          "base_uri": "https://localhost:8080/"
        },
        "outputId": "3a2cfac7-d23c-4194-97f6-4b3d6deb5ade"
      },
      "source": [
        "sample_text = texts_train[0]\n",
        "print(sample_text)\n",
        "print(tokenizer.tokenize(sample_text))"
      ],
      "execution_count": null,
      "outputs": [
        {
          "output_type": "stream",
          "text": [
            "thirtysomething scientists unveil doomsday clock of hair loss\n",
            "['thirty', '##some', '##thing', 'scientists', 'un', '##ve', '##il', 'doom', '##sd', '##ay', 'clock', 'of', 'hair', 'loss']\n"
          ],
          "name": "stdout"
        }
      ]
    },
    {
      "cell_type": "code",
      "metadata": {
        "id": "ksZ3z2TWK6I1"
      },
      "source": [
        "train_input = [np.array(tok_train['input_ids']), np.array(tok_train['attention_mask']), np.array(tok_train['token_type_ids'])]\n",
        "val_input = [np.array(tok_test['input_ids']), np.array(tok_test['attention_mask']), np.array(tok_test['token_type_ids'])]"
      ],
      "execution_count": null,
      "outputs": []
    },
    {
      "cell_type": "markdown",
      "metadata": {
        "id": "fCt2DsVAE3Zo"
      },
      "source": [
        "### Model"
      ]
    },
    {
      "cell_type": "code",
      "metadata": {
        "id": "y5lzVuzHEuNP",
        "colab": {
          "base_uri": "https://localhost:8080/",
          "height": 218,
          "referenced_widgets": [
            "5f2bc54a7d4d4f3db891cb56bcf06951",
            "567788182d134989873f70825f5d6022",
            "560d7f88e4b84dc496250306040e2745",
            "8ff1cbb2572b4178ba543dc6f2a419e1",
            "5b33fb895b70425c898d7b41dc9d91d2",
            "60610d4345a440f79bd8ce084fcc9d8b",
            "6b85e8f0de6747f3a98000b04fb14ca8",
            "5be6a9d3312a45208629e613282a6cd1",
            "a862c43533cd40c491f4df42a3e52d5f",
            "12c203edbc144d7aaf5302d3ba23e0c4",
            "67ea8fa90014403181677b3bd11f2b37",
            "9274bb4fc4e54833a65cf8c21bbc2b2b",
            "85b282b8910e40f4a09d7c99520f539a",
            "1d9c3557bacc40278709ca9f797080cd",
            "61dff58cd5dc4bc4af2991490dbeec9d",
            "3a93b3b8cb9d4fd6845235a28e723994"
          ]
        },
        "outputId": "2d3b0269-a009-48ed-c8ce-4f663142ac41"
      },
      "source": [
        "bert_model = TFBertModel.from_pretrained('bert-base-uncased', trainable=False)"
      ],
      "execution_count": null,
      "outputs": [
        {
          "output_type": "display_data",
          "data": {
            "application/vnd.jupyter.widget-view+json": {
              "model_id": "5f2bc54a7d4d4f3db891cb56bcf06951",
              "version_minor": 0,
              "version_major": 2
            },
            "text/plain": [
              "HBox(children=(FloatProgress(value=0.0, description='Downloading', max=433.0, style=ProgressStyle(description_…"
            ]
          },
          "metadata": {
            "tags": []
          }
        },
        {
          "output_type": "stream",
          "text": [
            "\n"
          ],
          "name": "stdout"
        },
        {
          "output_type": "display_data",
          "data": {
            "application/vnd.jupyter.widget-view+json": {
              "model_id": "a862c43533cd40c491f4df42a3e52d5f",
              "version_minor": 0,
              "version_major": 2
            },
            "text/plain": [
              "HBox(children=(FloatProgress(value=0.0, description='Downloading', max=536063208.0, style=ProgressStyle(descri…"
            ]
          },
          "metadata": {
            "tags": []
          }
        },
        {
          "output_type": "stream",
          "text": [
            "\n"
          ],
          "name": "stdout"
        },
        {
          "output_type": "stream",
          "text": [
            "Some layers from the model checkpoint at bert-base-uncased were not used when initializing TFBertModel: ['mlm___cls', 'nsp___cls']\n",
            "- This IS expected if you are initializing TFBertModel from the checkpoint of a model trained on another task or with another architecture (e.g. initializing a BertForSequenceClassification model from a BertForPreTraining model).\n",
            "- This IS NOT expected if you are initializing TFBertModel from the checkpoint of a model that you expect to be exactly identical (initializing a BertForSequenceClassification model from a BertForSequenceClassification model).\n",
            "All the layers of TFBertModel were initialized from the model checkpoint at bert-base-uncased.\n",
            "If your task is similar to the task the model of the checkpoint was trained on, you can already use TFBertModel for predictions without further training.\n"
          ],
          "name": "stderr"
        }
      ]
    },
    {
      "cell_type": "code",
      "metadata": {
        "id": "0rg8Y4iuGSsz"
      },
      "source": [
        "from tensorflow.keras.layers import Concatenate, Lambda, Reshape"
      ],
      "execution_count": null,
      "outputs": []
    },
    {
      "cell_type": "code",
      "metadata": {
        "id": "PUWhjAyZDy8l"
      },
      "source": [
        "X_ids = Input((maxlen, ), dtype=tf.int32, name='input_ids')\n",
        "X_types = Input((maxlen, ), dtype=tf.int32, name='token_type_ids')\n",
        "X_masks = Input((maxlen, ), dtype=tf.int32, name='attention_mask')\n",
        "bert_out, cls = bert_model([X_ids, X_masks, X_types])\n",
        "bert_out_first_3 = Lambda(lambda x: x[:,:3,:])(bert_out)\n",
        "concat = Reshape((3*768,))(bert_out_first_3)\n",
        "d1 = Dense(512, activation='relu')(concat)\n",
        "d1o = Dropout(0.5)(d1)\n",
        "d2 = Dense(64, activation='relu')(d1o)\n",
        "d2o = Dropout(0.5)(d2)\n",
        "out = Dense(1, activation='sigmoid')(d2o)\n",
        "\n",
        "model = Model(inputs=[X_ids, X_masks, X_types], outputs=out)"
      ],
      "execution_count": null,
      "outputs": []
    },
    {
      "cell_type": "code",
      "metadata": {
        "id": "VqGkh6XfF19y",
        "colab": {
          "base_uri": "https://localhost:8080/"
        },
        "outputId": "d909024c-3016-4d32-9484-5d2aa65e3f0a"
      },
      "source": [
        "model.summary()"
      ],
      "execution_count": null,
      "outputs": [
        {
          "output_type": "stream",
          "text": [
            "Model: \"functional_3\"\n",
            "__________________________________________________________________________________________________\n",
            "Layer (type)                    Output Shape         Param #     Connected to                     \n",
            "==================================================================================================\n",
            "input_ids (InputLayer)          [(None, 30)]         0                                            \n",
            "__________________________________________________________________________________________________\n",
            "attention_mask (InputLayer)     [(None, 30)]         0                                            \n",
            "__________________________________________________________________________________________________\n",
            "token_type_ids (InputLayer)     [(None, 30)]         0                                            \n",
            "__________________________________________________________________________________________________\n",
            "tf_bert_model (TFBertModel)     ((None, 30, 768), (N 109482240   input_ids[0][0]                  \n",
            "                                                                 attention_mask[0][0]             \n",
            "                                                                 token_type_ids[0][0]             \n",
            "__________________________________________________________________________________________________\n",
            "lambda_5 (Lambda)               (None, 3, 768)       0           tf_bert_model[6][0]              \n",
            "__________________________________________________________________________________________________\n",
            "reshape_2 (Reshape)             (None, 2304)         0           lambda_5[0][0]                   \n",
            "__________________________________________________________________________________________________\n",
            "dense_22 (Dense)                (None, 512)          1180160     reshape_2[0][0]                  \n",
            "__________________________________________________________________________________________________\n",
            "dropout_55 (Dropout)            (None, 512)          0           dense_22[0][0]                   \n",
            "__________________________________________________________________________________________________\n",
            "dense_23 (Dense)                (None, 64)           32832       dropout_55[0][0]                 \n",
            "__________________________________________________________________________________________________\n",
            "dropout_56 (Dropout)            (None, 64)           0           dense_23[0][0]                   \n",
            "__________________________________________________________________________________________________\n",
            "dense_24 (Dense)                (None, 1)            65          dropout_56[0][0]                 \n",
            "==================================================================================================\n",
            "Total params: 110,695,297\n",
            "Trainable params: 1,213,057\n",
            "Non-trainable params: 109,482,240\n",
            "__________________________________________________________________________________________________\n"
          ],
          "name": "stdout"
        }
      ]
    },
    {
      "cell_type": "code",
      "metadata": {
        "id": "8_F8z9sEGFBF"
      },
      "source": [
        "model.compile(optimizer='adam', loss='binary_crossentropy', metrics=['accuracy'])"
      ],
      "execution_count": null,
      "outputs": []
    },
    {
      "cell_type": "code",
      "metadata": {
        "id": "X3q8y04uGw5y",
        "colab": {
          "base_uri": "https://localhost:8080/",
          "height": 572
        },
        "outputId": "911fc7db-be64-486f-f9eb-dae32b15a550"
      },
      "source": [
        "history = model.fit(x=train_input, y=y_train, batch_size=64, epochs=20, validation_data=(val_input, y_test))"
      ],
      "execution_count": null,
      "outputs": [
        {
          "output_type": "stream",
          "text": [
            "Epoch 1/20\n",
            "358/358 [==============================] - 65s 182ms/step - loss: 0.3545 - accuracy: 0.8413 - val_loss: 0.3350 - val_accuracy: 0.8496\n",
            "Epoch 2/20\n",
            "358/358 [==============================] - 64s 179ms/step - loss: 0.3342 - accuracy: 0.8529 - val_loss: 0.3156 - val_accuracy: 0.8587\n",
            "Epoch 3/20\n",
            "358/358 [==============================] - 64s 178ms/step - loss: 0.3166 - accuracy: 0.8606 - val_loss: 0.2848 - val_accuracy: 0.8758\n",
            "Epoch 4/20\n",
            "358/358 [==============================] - 64s 178ms/step - loss: 0.3083 - accuracy: 0.8677 - val_loss: 0.2781 - val_accuracy: 0.8781\n",
            "Epoch 5/20\n",
            "358/358 [==============================] - 64s 178ms/step - loss: 0.2981 - accuracy: 0.8708 - val_loss: 0.2753 - val_accuracy: 0.8809\n",
            "Epoch 6/20\n",
            "358/358 [==============================] - 64s 178ms/step - loss: 0.2876 - accuracy: 0.8775 - val_loss: 0.2638 - val_accuracy: 0.8833\n",
            "Epoch 7/20\n",
            "358/358 [==============================] - 64s 178ms/step - loss: 0.2794 - accuracy: 0.8783 - val_loss: 0.2659 - val_accuracy: 0.8819\n",
            "Epoch 8/20\n",
            " 34/358 [=>............................] - ETA: 45s - loss: 0.2763 - accuracy: 0.8879"
          ],
          "name": "stdout"
        },
        {
          "output_type": "error",
          "ename": "KeyboardInterrupt",
          "evalue": "ignored",
          "traceback": [
            "\u001b[0;31m---------------------------------------------------------------------------\u001b[0m",
            "\u001b[0;31mKeyboardInterrupt\u001b[0m                         Traceback (most recent call last)",
            "\u001b[0;32m<ipython-input-162-99cbf57b7523>\u001b[0m in \u001b[0;36m<module>\u001b[0;34m()\u001b[0m\n\u001b[0;32m----> 1\u001b[0;31m \u001b[0mhistory\u001b[0m \u001b[0;34m=\u001b[0m \u001b[0mmodel\u001b[0m\u001b[0;34m.\u001b[0m\u001b[0mfit\u001b[0m\u001b[0;34m(\u001b[0m\u001b[0mx\u001b[0m\u001b[0;34m=\u001b[0m\u001b[0mtrain_input\u001b[0m\u001b[0;34m,\u001b[0m \u001b[0my\u001b[0m\u001b[0;34m=\u001b[0m\u001b[0my_train\u001b[0m\u001b[0;34m,\u001b[0m \u001b[0mbatch_size\u001b[0m\u001b[0;34m=\u001b[0m\u001b[0;36m64\u001b[0m\u001b[0;34m,\u001b[0m \u001b[0mepochs\u001b[0m\u001b[0;34m=\u001b[0m\u001b[0;36m20\u001b[0m\u001b[0;34m,\u001b[0m \u001b[0mvalidation_data\u001b[0m\u001b[0;34m=\u001b[0m\u001b[0;34m(\u001b[0m\u001b[0mval_input\u001b[0m\u001b[0;34m,\u001b[0m \u001b[0my_test\u001b[0m\u001b[0;34m)\u001b[0m\u001b[0;34m)\u001b[0m\u001b[0;34m\u001b[0m\u001b[0;34m\u001b[0m\u001b[0m\n\u001b[0m",
            "\u001b[0;32m/usr/local/lib/python3.6/dist-packages/tensorflow/python/keras/engine/training.py\u001b[0m in \u001b[0;36m_method_wrapper\u001b[0;34m(self, *args, **kwargs)\u001b[0m\n\u001b[1;32m    106\u001b[0m   \u001b[0;32mdef\u001b[0m \u001b[0m_method_wrapper\u001b[0m\u001b[0;34m(\u001b[0m\u001b[0mself\u001b[0m\u001b[0;34m,\u001b[0m \u001b[0;34m*\u001b[0m\u001b[0margs\u001b[0m\u001b[0;34m,\u001b[0m \u001b[0;34m**\u001b[0m\u001b[0mkwargs\u001b[0m\u001b[0;34m)\u001b[0m\u001b[0;34m:\u001b[0m\u001b[0;34m\u001b[0m\u001b[0;34m\u001b[0m\u001b[0m\n\u001b[1;32m    107\u001b[0m     \u001b[0;32mif\u001b[0m \u001b[0;32mnot\u001b[0m \u001b[0mself\u001b[0m\u001b[0;34m.\u001b[0m\u001b[0m_in_multi_worker_mode\u001b[0m\u001b[0;34m(\u001b[0m\u001b[0;34m)\u001b[0m\u001b[0;34m:\u001b[0m  \u001b[0;31m# pylint: disable=protected-access\u001b[0m\u001b[0;34m\u001b[0m\u001b[0;34m\u001b[0m\u001b[0m\n\u001b[0;32m--> 108\u001b[0;31m       \u001b[0;32mreturn\u001b[0m \u001b[0mmethod\u001b[0m\u001b[0;34m(\u001b[0m\u001b[0mself\u001b[0m\u001b[0;34m,\u001b[0m \u001b[0;34m*\u001b[0m\u001b[0margs\u001b[0m\u001b[0;34m,\u001b[0m \u001b[0;34m**\u001b[0m\u001b[0mkwargs\u001b[0m\u001b[0;34m)\u001b[0m\u001b[0;34m\u001b[0m\u001b[0;34m\u001b[0m\u001b[0m\n\u001b[0m\u001b[1;32m    109\u001b[0m \u001b[0;34m\u001b[0m\u001b[0m\n\u001b[1;32m    110\u001b[0m     \u001b[0;31m# Running inside `run_distribute_coordinator` already.\u001b[0m\u001b[0;34m\u001b[0m\u001b[0;34m\u001b[0m\u001b[0;34m\u001b[0m\u001b[0m\n",
            "\u001b[0;32m/usr/local/lib/python3.6/dist-packages/tensorflow/python/keras/engine/training.py\u001b[0m in \u001b[0;36mfit\u001b[0;34m(self, x, y, batch_size, epochs, verbose, callbacks, validation_split, validation_data, shuffle, class_weight, sample_weight, initial_epoch, steps_per_epoch, validation_steps, validation_batch_size, validation_freq, max_queue_size, workers, use_multiprocessing)\u001b[0m\n\u001b[1;32m   1096\u001b[0m                 batch_size=batch_size):\n\u001b[1;32m   1097\u001b[0m               \u001b[0mcallbacks\u001b[0m\u001b[0;34m.\u001b[0m\u001b[0mon_train_batch_begin\u001b[0m\u001b[0;34m(\u001b[0m\u001b[0mstep\u001b[0m\u001b[0;34m)\u001b[0m\u001b[0;34m\u001b[0m\u001b[0;34m\u001b[0m\u001b[0m\n\u001b[0;32m-> 1098\u001b[0;31m               \u001b[0mtmp_logs\u001b[0m \u001b[0;34m=\u001b[0m \u001b[0mtrain_function\u001b[0m\u001b[0;34m(\u001b[0m\u001b[0miterator\u001b[0m\u001b[0;34m)\u001b[0m\u001b[0;34m\u001b[0m\u001b[0;34m\u001b[0m\u001b[0m\n\u001b[0m\u001b[1;32m   1099\u001b[0m               \u001b[0;32mif\u001b[0m \u001b[0mdata_handler\u001b[0m\u001b[0;34m.\u001b[0m\u001b[0mshould_sync\u001b[0m\u001b[0;34m:\u001b[0m\u001b[0;34m\u001b[0m\u001b[0;34m\u001b[0m\u001b[0m\n\u001b[1;32m   1100\u001b[0m                 \u001b[0mcontext\u001b[0m\u001b[0;34m.\u001b[0m\u001b[0masync_wait\u001b[0m\u001b[0;34m(\u001b[0m\u001b[0;34m)\u001b[0m\u001b[0;34m\u001b[0m\u001b[0;34m\u001b[0m\u001b[0m\n",
            "\u001b[0;32m/usr/local/lib/python3.6/dist-packages/tensorflow/python/eager/def_function.py\u001b[0m in \u001b[0;36m__call__\u001b[0;34m(self, *args, **kwds)\u001b[0m\n\u001b[1;32m    778\u001b[0m       \u001b[0;32melse\u001b[0m\u001b[0;34m:\u001b[0m\u001b[0;34m\u001b[0m\u001b[0;34m\u001b[0m\u001b[0m\n\u001b[1;32m    779\u001b[0m         \u001b[0mcompiler\u001b[0m \u001b[0;34m=\u001b[0m \u001b[0;34m\"nonXla\"\u001b[0m\u001b[0;34m\u001b[0m\u001b[0;34m\u001b[0m\u001b[0m\n\u001b[0;32m--> 780\u001b[0;31m         \u001b[0mresult\u001b[0m \u001b[0;34m=\u001b[0m \u001b[0mself\u001b[0m\u001b[0;34m.\u001b[0m\u001b[0m_call\u001b[0m\u001b[0;34m(\u001b[0m\u001b[0;34m*\u001b[0m\u001b[0margs\u001b[0m\u001b[0;34m,\u001b[0m \u001b[0;34m**\u001b[0m\u001b[0mkwds\u001b[0m\u001b[0;34m)\u001b[0m\u001b[0;34m\u001b[0m\u001b[0;34m\u001b[0m\u001b[0m\n\u001b[0m\u001b[1;32m    781\u001b[0m \u001b[0;34m\u001b[0m\u001b[0m\n\u001b[1;32m    782\u001b[0m       \u001b[0mnew_tracing_count\u001b[0m \u001b[0;34m=\u001b[0m \u001b[0mself\u001b[0m\u001b[0;34m.\u001b[0m\u001b[0m_get_tracing_count\u001b[0m\u001b[0;34m(\u001b[0m\u001b[0;34m)\u001b[0m\u001b[0;34m\u001b[0m\u001b[0;34m\u001b[0m\u001b[0m\n",
            "\u001b[0;32m/usr/local/lib/python3.6/dist-packages/tensorflow/python/eager/def_function.py\u001b[0m in \u001b[0;36m_call\u001b[0;34m(self, *args, **kwds)\u001b[0m\n\u001b[1;32m    805\u001b[0m       \u001b[0;31m# In this case we have created variables on the first call, so we run the\u001b[0m\u001b[0;34m\u001b[0m\u001b[0;34m\u001b[0m\u001b[0;34m\u001b[0m\u001b[0m\n\u001b[1;32m    806\u001b[0m       \u001b[0;31m# defunned version which is guaranteed to never create variables.\u001b[0m\u001b[0;34m\u001b[0m\u001b[0;34m\u001b[0m\u001b[0;34m\u001b[0m\u001b[0m\n\u001b[0;32m--> 807\u001b[0;31m       \u001b[0;32mreturn\u001b[0m \u001b[0mself\u001b[0m\u001b[0;34m.\u001b[0m\u001b[0m_stateless_fn\u001b[0m\u001b[0;34m(\u001b[0m\u001b[0;34m*\u001b[0m\u001b[0margs\u001b[0m\u001b[0;34m,\u001b[0m \u001b[0;34m**\u001b[0m\u001b[0mkwds\u001b[0m\u001b[0;34m)\u001b[0m  \u001b[0;31m# pylint: disable=not-callable\u001b[0m\u001b[0;34m\u001b[0m\u001b[0;34m\u001b[0m\u001b[0m\n\u001b[0m\u001b[1;32m    808\u001b[0m     \u001b[0;32melif\u001b[0m \u001b[0mself\u001b[0m\u001b[0;34m.\u001b[0m\u001b[0m_stateful_fn\u001b[0m \u001b[0;32mis\u001b[0m \u001b[0;32mnot\u001b[0m \u001b[0;32mNone\u001b[0m\u001b[0;34m:\u001b[0m\u001b[0;34m\u001b[0m\u001b[0;34m\u001b[0m\u001b[0m\n\u001b[1;32m    809\u001b[0m       \u001b[0;31m# Release the lock early so that multiple threads can perform the call\u001b[0m\u001b[0;34m\u001b[0m\u001b[0;34m\u001b[0m\u001b[0;34m\u001b[0m\u001b[0m\n",
            "\u001b[0;32m/usr/local/lib/python3.6/dist-packages/tensorflow/python/eager/function.py\u001b[0m in \u001b[0;36m__call__\u001b[0;34m(self, *args, **kwargs)\u001b[0m\n\u001b[1;32m   2827\u001b[0m     \u001b[0;32mwith\u001b[0m \u001b[0mself\u001b[0m\u001b[0;34m.\u001b[0m\u001b[0m_lock\u001b[0m\u001b[0;34m:\u001b[0m\u001b[0;34m\u001b[0m\u001b[0;34m\u001b[0m\u001b[0m\n\u001b[1;32m   2828\u001b[0m       \u001b[0mgraph_function\u001b[0m\u001b[0;34m,\u001b[0m \u001b[0margs\u001b[0m\u001b[0;34m,\u001b[0m \u001b[0mkwargs\u001b[0m \u001b[0;34m=\u001b[0m \u001b[0mself\u001b[0m\u001b[0;34m.\u001b[0m\u001b[0m_maybe_define_function\u001b[0m\u001b[0;34m(\u001b[0m\u001b[0margs\u001b[0m\u001b[0;34m,\u001b[0m \u001b[0mkwargs\u001b[0m\u001b[0;34m)\u001b[0m\u001b[0;34m\u001b[0m\u001b[0;34m\u001b[0m\u001b[0m\n\u001b[0;32m-> 2829\u001b[0;31m     \u001b[0;32mreturn\u001b[0m \u001b[0mgraph_function\u001b[0m\u001b[0;34m.\u001b[0m\u001b[0m_filtered_call\u001b[0m\u001b[0;34m(\u001b[0m\u001b[0margs\u001b[0m\u001b[0;34m,\u001b[0m \u001b[0mkwargs\u001b[0m\u001b[0;34m)\u001b[0m  \u001b[0;31m# pylint: disable=protected-access\u001b[0m\u001b[0;34m\u001b[0m\u001b[0;34m\u001b[0m\u001b[0m\n\u001b[0m\u001b[1;32m   2830\u001b[0m \u001b[0;34m\u001b[0m\u001b[0m\n\u001b[1;32m   2831\u001b[0m   \u001b[0;34m@\u001b[0m\u001b[0mproperty\u001b[0m\u001b[0;34m\u001b[0m\u001b[0;34m\u001b[0m\u001b[0m\n",
            "\u001b[0;32m/usr/local/lib/python3.6/dist-packages/tensorflow/python/eager/function.py\u001b[0m in \u001b[0;36m_filtered_call\u001b[0;34m(self, args, kwargs, cancellation_manager)\u001b[0m\n\u001b[1;32m   1846\u001b[0m                            resource_variable_ops.BaseResourceVariable))],\n\u001b[1;32m   1847\u001b[0m         \u001b[0mcaptured_inputs\u001b[0m\u001b[0;34m=\u001b[0m\u001b[0mself\u001b[0m\u001b[0;34m.\u001b[0m\u001b[0mcaptured_inputs\u001b[0m\u001b[0;34m,\u001b[0m\u001b[0;34m\u001b[0m\u001b[0;34m\u001b[0m\u001b[0m\n\u001b[0;32m-> 1848\u001b[0;31m         cancellation_manager=cancellation_manager)\n\u001b[0m\u001b[1;32m   1849\u001b[0m \u001b[0;34m\u001b[0m\u001b[0m\n\u001b[1;32m   1850\u001b[0m   \u001b[0;32mdef\u001b[0m \u001b[0m_call_flat\u001b[0m\u001b[0;34m(\u001b[0m\u001b[0mself\u001b[0m\u001b[0;34m,\u001b[0m \u001b[0margs\u001b[0m\u001b[0;34m,\u001b[0m \u001b[0mcaptured_inputs\u001b[0m\u001b[0;34m,\u001b[0m \u001b[0mcancellation_manager\u001b[0m\u001b[0;34m=\u001b[0m\u001b[0;32mNone\u001b[0m\u001b[0;34m)\u001b[0m\u001b[0;34m:\u001b[0m\u001b[0;34m\u001b[0m\u001b[0;34m\u001b[0m\u001b[0m\n",
            "\u001b[0;32m/usr/local/lib/python3.6/dist-packages/tensorflow/python/eager/function.py\u001b[0m in \u001b[0;36m_call_flat\u001b[0;34m(self, args, captured_inputs, cancellation_manager)\u001b[0m\n\u001b[1;32m   1922\u001b[0m       \u001b[0;31m# No tape is watching; skip to running the function.\u001b[0m\u001b[0;34m\u001b[0m\u001b[0;34m\u001b[0m\u001b[0;34m\u001b[0m\u001b[0m\n\u001b[1;32m   1923\u001b[0m       return self._build_call_outputs(self._inference_function.call(\n\u001b[0;32m-> 1924\u001b[0;31m           ctx, args, cancellation_manager=cancellation_manager))\n\u001b[0m\u001b[1;32m   1925\u001b[0m     forward_backward = self._select_forward_and_backward_functions(\n\u001b[1;32m   1926\u001b[0m         \u001b[0margs\u001b[0m\u001b[0;34m,\u001b[0m\u001b[0;34m\u001b[0m\u001b[0;34m\u001b[0m\u001b[0m\n",
            "\u001b[0;32m/usr/local/lib/python3.6/dist-packages/tensorflow/python/eager/function.py\u001b[0m in \u001b[0;36mcall\u001b[0;34m(self, ctx, args, cancellation_manager)\u001b[0m\n\u001b[1;32m    548\u001b[0m               \u001b[0minputs\u001b[0m\u001b[0;34m=\u001b[0m\u001b[0margs\u001b[0m\u001b[0;34m,\u001b[0m\u001b[0;34m\u001b[0m\u001b[0;34m\u001b[0m\u001b[0m\n\u001b[1;32m    549\u001b[0m               \u001b[0mattrs\u001b[0m\u001b[0;34m=\u001b[0m\u001b[0mattrs\u001b[0m\u001b[0;34m,\u001b[0m\u001b[0;34m\u001b[0m\u001b[0;34m\u001b[0m\u001b[0m\n\u001b[0;32m--> 550\u001b[0;31m               ctx=ctx)\n\u001b[0m\u001b[1;32m    551\u001b[0m         \u001b[0;32melse\u001b[0m\u001b[0;34m:\u001b[0m\u001b[0;34m\u001b[0m\u001b[0;34m\u001b[0m\u001b[0m\n\u001b[1;32m    552\u001b[0m           outputs = execute.execute_with_cancellation(\n",
            "\u001b[0;32m/usr/local/lib/python3.6/dist-packages/tensorflow/python/eager/execute.py\u001b[0m in \u001b[0;36mquick_execute\u001b[0;34m(op_name, num_outputs, inputs, attrs, ctx, name)\u001b[0m\n\u001b[1;32m     58\u001b[0m     \u001b[0mctx\u001b[0m\u001b[0;34m.\u001b[0m\u001b[0mensure_initialized\u001b[0m\u001b[0;34m(\u001b[0m\u001b[0;34m)\u001b[0m\u001b[0;34m\u001b[0m\u001b[0;34m\u001b[0m\u001b[0m\n\u001b[1;32m     59\u001b[0m     tensors = pywrap_tfe.TFE_Py_Execute(ctx._handle, device_name, op_name,\n\u001b[0;32m---> 60\u001b[0;31m                                         inputs, attrs, num_outputs)\n\u001b[0m\u001b[1;32m     61\u001b[0m   \u001b[0;32mexcept\u001b[0m \u001b[0mcore\u001b[0m\u001b[0;34m.\u001b[0m\u001b[0m_NotOkStatusException\u001b[0m \u001b[0;32mas\u001b[0m \u001b[0me\u001b[0m\u001b[0;34m:\u001b[0m\u001b[0;34m\u001b[0m\u001b[0;34m\u001b[0m\u001b[0m\n\u001b[1;32m     62\u001b[0m     \u001b[0;32mif\u001b[0m \u001b[0mname\u001b[0m \u001b[0;32mis\u001b[0m \u001b[0;32mnot\u001b[0m \u001b[0;32mNone\u001b[0m\u001b[0;34m:\u001b[0m\u001b[0;34m\u001b[0m\u001b[0;34m\u001b[0m\u001b[0m\n",
            "\u001b[0;31mKeyboardInterrupt\u001b[0m: "
          ]
        }
      ]
    },
    {
      "cell_type": "code",
      "metadata": {
        "id": "2xCSl85bHjmE"
      },
      "source": [
        ""
      ],
      "execution_count": null,
      "outputs": []
    }
  ]
}